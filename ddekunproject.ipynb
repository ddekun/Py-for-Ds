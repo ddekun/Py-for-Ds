{
  "nbformat": 4,
  "nbformat_minor": 0,
  "metadata": {
    "colab": {
      "name": "ddekunproject.ipynb",
      "provenance": [],
      "collapsed_sections": [
        "ti5zvG46o828",
        "v677jz1vqq_E"
      ],
      "mount_file_id": "1pGse_Ct9kBAneDzqbLastmDZsqLqMuMN",
      "authorship_tag": "ABX9TyPMhyPr9HnTILeYo/ASyUFk",
      "include_colab_link": true
    },
    "kernelspec": {
      "name": "python3",
      "display_name": "Python 3"
    },
    "language_info": {
      "name": "python"
    }
  },
  "cells": [
    {
      "cell_type": "markdown",
      "metadata": {
        "id": "view-in-github",
        "colab_type": "text"
      },
      "source": [
        "<a href=\"https://colab.research.google.com/github/ddekun/Py-for-Ds/blob/ddekunproject/ddekunproject.ipynb\" target=\"_parent\"><img src=\"https://colab.research.google.com/assets/colab-badge.svg\" alt=\"Open In Colab\"/></a>"
      ]
    },
    {
      "cell_type": "markdown",
      "source": [
        "# **Задание для курсового проекта**\n",
        "\n",
        "Метрика:\n",
        "R2 - коэффициент детерминации (sklearn.metrics.r2_score)\n",
        "\n",
        "Сдача проекта:\n",
        "1. Сдать проект нужно в течение 7 дней после окончания последнего вебинара.\n",
        "2. Прислать в раздел Задания Урока 10 (\"Вебинар. Консультация по итоговому проекту\") ссылку на ноутбук в github или public kaggle notebook.\n",
        "3. Необходимо получить R2 > 0.6 на Private Leaderboard.\n",
        "4. Укажите свой ник на kaggle \n",
        "\n",
        "\n",
        "Примечание:\n",
        "Все файлы csv должны содержать названия полей (header - то есть \"шапку\"),разделитель - запятая. В файлах не должны содержаться индексы из датафрейма.\n",
        "____________\n",
        "Рекомендации для файла с кодом (ipynb):\n",
        "1. Файл должен содержать заголовки и комментарии\n",
        "2. Повторяющиеся операции лучше оформлять в виде функций\n",
        "3. По возможности добавлять графики, описывающие данные (около 3-5)\n",
        "4. Добавлять только лучшую модель, то есть не включать в код все варианты решения проекта\n",
        "5. Скрипт проекта должен отрабатывать от начала и до конца (от загрузки данных до выгрузки предсказаний)\n",
        "6. Весь проект должен быть в одном скрипте (файл ipynb).\n",
        "7. При использовании статистик (среднее, медиана и т.д.) в качестве признаков, лучше считать их на трейне, и потом на валидационных и тестовых данных не считать статистики заново, а брать их с трейна.\n",
        "8. Проект должен полностью отрабатывать за разумное время (не больше 10 минут), поэтому в финальный вариант лучше не включать GridSearch с перебором большого количества сочетаний параметров. "
      ],
      "metadata": {
        "id": "x0u9FUkViRC-"
      }
    },
    {
      "cell_type": "markdown",
      "source": [
        "### **Подключение библиотек и скриптов**"
      ],
      "metadata": {
        "id": "ti5zvG46o828"
      }
    },
    {
      "cell_type": "code",
      "source": [
        "import warnings\n",
        "warnings.filterwarnings('ignore')"
      ],
      "metadata": {
        "id": "Nyb64nTciVpV"
      },
      "execution_count": 86,
      "outputs": []
    },
    {
      "cell_type": "code",
      "source": [
        "!pip install catboost"
      ],
      "metadata": {
        "colab": {
          "base_uri": "https://localhost:8080/"
        },
        "id": "NtvaR0kVDA4B",
        "outputId": "607f2d65-4bc2-45f8-9bd5-cfffa7debd68"
      },
      "execution_count": 87,
      "outputs": [
        {
          "output_type": "stream",
          "name": "stdout",
          "text": [
            "Requirement already satisfied: catboost in /usr/local/lib/python3.7/dist-packages (1.0.4)\n",
            "Requirement already satisfied: numpy>=1.16.0 in /usr/local/lib/python3.7/dist-packages (from catboost) (1.21.5)\n",
            "Requirement already satisfied: plotly in /usr/local/lib/python3.7/dist-packages (from catboost) (5.5.0)\n",
            "Requirement already satisfied: graphviz in /usr/local/lib/python3.7/dist-packages (from catboost) (0.10.1)\n",
            "Requirement already satisfied: matplotlib in /usr/local/lib/python3.7/dist-packages (from catboost) (3.2.2)\n",
            "Requirement already satisfied: scipy in /usr/local/lib/python3.7/dist-packages (from catboost) (1.4.1)\n",
            "Requirement already satisfied: pandas>=0.24.0 in /usr/local/lib/python3.7/dist-packages (from catboost) (1.3.5)\n",
            "Requirement already satisfied: six in /usr/local/lib/python3.7/dist-packages (from catboost) (1.15.0)\n",
            "Requirement already satisfied: python-dateutil>=2.7.3 in /usr/local/lib/python3.7/dist-packages (from pandas>=0.24.0->catboost) (2.8.2)\n",
            "Requirement already satisfied: pytz>=2017.3 in /usr/local/lib/python3.7/dist-packages (from pandas>=0.24.0->catboost) (2018.9)\n",
            "Requirement already satisfied: pyparsing!=2.0.4,!=2.1.2,!=2.1.6,>=2.0.1 in /usr/local/lib/python3.7/dist-packages (from matplotlib->catboost) (3.0.7)\n",
            "Requirement already satisfied: cycler>=0.10 in /usr/local/lib/python3.7/dist-packages (from matplotlib->catboost) (0.11.0)\n",
            "Requirement already satisfied: kiwisolver>=1.0.1 in /usr/local/lib/python3.7/dist-packages (from matplotlib->catboost) (1.3.2)\n",
            "Requirement already satisfied: tenacity>=6.2.0 in /usr/local/lib/python3.7/dist-packages (from plotly->catboost) (8.0.1)\n"
          ]
        }
      ]
    },
    {
      "cell_type": "code",
      "source": [
        "import numpy as np\n",
        "import pandas as pd\n",
        "import random\n",
        "\n",
        "from sklearn.model_selection import train_test_split, cross_val_score\n",
        "from sklearn.preprocessing import StandardScaler, RobustScaler\n",
        "from catboost import CatBoostRegressor\n",
        "from xgboost import XGBRegressor\n",
        "from sklearn.ensemble import RandomForestRegressor\n",
        "from sklearn.metrics import r2_score as r2\n",
        "from sklearn.model_selection import KFold, GridSearchCV\n",
        "\n",
        "from datetime import datetime\n",
        "\n",
        "import matplotlib\n",
        "import matplotlib.pyplot as plt\n",
        "import seaborn as sns\n",
        "%matplotlib inline"
      ],
      "metadata": {
        "id": "ewZ_5vXUpRBq"
      },
      "execution_count": 88,
      "outputs": []
    },
    {
      "cell_type": "code",
      "source": [
        "matplotlib.rcParams.update({'font.size': 14})"
      ],
      "metadata": {
        "id": "jDT4fS51rvFp"
      },
      "execution_count": 89,
      "outputs": []
    },
    {
      "cell_type": "markdown",
      "source": [
        "**Задаем функцию подсчёта метрик**"
      ],
      "metadata": {
        "id": "BzYgS9v7AD3l"
      }
    },
    {
      "cell_type": "code",
      "source": [
        "def evaluate_preds(train_true_values, train_pred_values, test_true_values, test_pred_values):\n",
        "    print(\"Train R2:\\t\" + str(round(r2(train_true_values, train_pred_values), 3)))\n",
        "    print(\"Test R2:\\t\" + str(round(r2(test_true_values, test_pred_values), 3)))\n",
        "    \n",
        "    plt.figure(figsize=(18,10))\n",
        "    \n",
        "    plt.subplot(121)\n",
        "    sns.scatterplot(x=train_pred_values, y=train_true_values)\n",
        "    plt.xlabel('Predicted values')\n",
        "    plt.ylabel('True values')\n",
        "    plt.title('Train sample prediction')\n",
        "    \n",
        "    plt.subplot(122)\n",
        "    sns.scatterplot(x=test_pred_values, y=test_true_values)\n",
        "    plt.xlabel('Predicted values')\n",
        "    plt.ylabel('True values')\n",
        "    plt.title('Test sample prediction')\n",
        "\n",
        "    plt.show()"
      ],
      "metadata": {
        "id": "gRhd3llI-SIk"
      },
      "execution_count": 90,
      "outputs": []
    },
    {
      "cell_type": "markdown",
      "source": [
        "### **Пути к директориям и файлам**"
      ],
      "metadata": {
        "id": "_vIzAlCVp92K"
      }
    },
    {
      "cell_type": "code",
      "source": [
        "TRAIN_DATASET_PATH = '/content/drive/MyDrive/train.csv'\n",
        "TEST_DATASET_PATH = '/content/drive/MyDrive/test.csv'"
      ],
      "metadata": {
        "id": "GpK4nBsGqAvL"
      },
      "execution_count": 6,
      "outputs": []
    },
    {
      "cell_type": "markdown",
      "source": [
        "### **Загрузка данных**"
      ],
      "metadata": {
        "id": "v677jz1vqq_E"
      }
    },
    {
      "cell_type": "markdown",
      "source": [
        "**Описание датасета**\n",
        "\n",
        "* **Id** - идентификационный номер квартиры\n",
        "* **DistrictId** - идентификационный номер района\n",
        "* **Rooms** - количество комнат\n",
        "* **Square** - площадь\n",
        "* **LifeSquare** - жилая площадь\n",
        "* **KitchenSquare** - площадь кухни\n",
        "* **Floor** - этаж\n",
        "* **HouseFloor** - количество этажей в доме\n",
        "* **HouseYear** - год постройки дома\n",
        "* **Ecology_1, Ecology_2, Ecology_3** - экологические показатели местности\n",
        "* **Social_1, Social_2, Social_3** - социальные показатели местности\n",
        "* **Healthcare_1, Helthcare_2** - показатели местности, связанные с охраной здоровья\n",
        "* **Shops_1, Shops_2** - показатели, связанные с наличием магазинов, торговых центров\n",
        "* **Price** - цена квартиры"
      ],
      "metadata": {
        "id": "--DkmayZq7mD"
      }
    },
    {
      "cell_type": "code",
      "source": [
        "train_df = pd.read_csv(TRAIN_DATASET_PATH)\n",
        "train_df.head()"
      ],
      "metadata": {
        "colab": {
          "base_uri": "https://localhost:8080/",
          "height": 0
        },
        "id": "swj0qda1qqiR",
        "outputId": "1345a6c5-2ba5-4f96-be82-8211802ba73b"
      },
      "execution_count": 91,
      "outputs": [
        {
          "output_type": "execute_result",
          "data": {
            "text/plain": [
              "      Id  DistrictId  Rooms      Square  LifeSquare  KitchenSquare  Floor  \\\n",
              "0  11809          27    3.0  115.027311         NaN           10.0      4   \n",
              "1   3013          22    1.0   39.832524   23.169223            8.0      7   \n",
              "2   8215           1    3.0   78.342215   47.671972           10.0      2   \n",
              "3   2352           1    1.0   40.409907         NaN            1.0     10   \n",
              "4  13866          94    2.0   64.285067   38.562517            9.0     16   \n",
              "\n",
              "   HouseFloor  HouseYear  Ecology_1 Ecology_2 Ecology_3  Social_1  Social_2  \\\n",
              "0        10.0       2014   0.075424         B         B        11      3097   \n",
              "1         8.0       1966   0.118537         B         B        30      6207   \n",
              "2        17.0       1988   0.025609         B         B        33      5261   \n",
              "3        22.0       1977   0.007122         B         B         1       264   \n",
              "4        16.0       1972   0.282798         B         B        33      8667   \n",
              "\n",
              "   Social_3  Healthcare_1  Helthcare_2  Shops_1 Shops_2          Price  \n",
              "0         0           NaN            0        0       B  305018.871089  \n",
              "1         1        1183.0            1        0       B  177734.553407  \n",
              "2         0         240.0            3        1       B  282078.720850  \n",
              "3         0           NaN            0        1       B  168106.007630  \n",
              "4         2           NaN            0        6       B  343995.102962  "
            ],
            "text/html": [
              "\n",
              "  <div id=\"df-ac85367f-fc6e-4d8e-b7c8-17afe4d86d75\">\n",
              "    <div class=\"colab-df-container\">\n",
              "      <div>\n",
              "<style scoped>\n",
              "    .dataframe tbody tr th:only-of-type {\n",
              "        vertical-align: middle;\n",
              "    }\n",
              "\n",
              "    .dataframe tbody tr th {\n",
              "        vertical-align: top;\n",
              "    }\n",
              "\n",
              "    .dataframe thead th {\n",
              "        text-align: right;\n",
              "    }\n",
              "</style>\n",
              "<table border=\"1\" class=\"dataframe\">\n",
              "  <thead>\n",
              "    <tr style=\"text-align: right;\">\n",
              "      <th></th>\n",
              "      <th>Id</th>\n",
              "      <th>DistrictId</th>\n",
              "      <th>Rooms</th>\n",
              "      <th>Square</th>\n",
              "      <th>LifeSquare</th>\n",
              "      <th>KitchenSquare</th>\n",
              "      <th>Floor</th>\n",
              "      <th>HouseFloor</th>\n",
              "      <th>HouseYear</th>\n",
              "      <th>Ecology_1</th>\n",
              "      <th>Ecology_2</th>\n",
              "      <th>Ecology_3</th>\n",
              "      <th>Social_1</th>\n",
              "      <th>Social_2</th>\n",
              "      <th>Social_3</th>\n",
              "      <th>Healthcare_1</th>\n",
              "      <th>Helthcare_2</th>\n",
              "      <th>Shops_1</th>\n",
              "      <th>Shops_2</th>\n",
              "      <th>Price</th>\n",
              "    </tr>\n",
              "  </thead>\n",
              "  <tbody>\n",
              "    <tr>\n",
              "      <th>0</th>\n",
              "      <td>11809</td>\n",
              "      <td>27</td>\n",
              "      <td>3.0</td>\n",
              "      <td>115.027311</td>\n",
              "      <td>NaN</td>\n",
              "      <td>10.0</td>\n",
              "      <td>4</td>\n",
              "      <td>10.0</td>\n",
              "      <td>2014</td>\n",
              "      <td>0.075424</td>\n",
              "      <td>B</td>\n",
              "      <td>B</td>\n",
              "      <td>11</td>\n",
              "      <td>3097</td>\n",
              "      <td>0</td>\n",
              "      <td>NaN</td>\n",
              "      <td>0</td>\n",
              "      <td>0</td>\n",
              "      <td>B</td>\n",
              "      <td>305018.871089</td>\n",
              "    </tr>\n",
              "    <tr>\n",
              "      <th>1</th>\n",
              "      <td>3013</td>\n",
              "      <td>22</td>\n",
              "      <td>1.0</td>\n",
              "      <td>39.832524</td>\n",
              "      <td>23.169223</td>\n",
              "      <td>8.0</td>\n",
              "      <td>7</td>\n",
              "      <td>8.0</td>\n",
              "      <td>1966</td>\n",
              "      <td>0.118537</td>\n",
              "      <td>B</td>\n",
              "      <td>B</td>\n",
              "      <td>30</td>\n",
              "      <td>6207</td>\n",
              "      <td>1</td>\n",
              "      <td>1183.0</td>\n",
              "      <td>1</td>\n",
              "      <td>0</td>\n",
              "      <td>B</td>\n",
              "      <td>177734.553407</td>\n",
              "    </tr>\n",
              "    <tr>\n",
              "      <th>2</th>\n",
              "      <td>8215</td>\n",
              "      <td>1</td>\n",
              "      <td>3.0</td>\n",
              "      <td>78.342215</td>\n",
              "      <td>47.671972</td>\n",
              "      <td>10.0</td>\n",
              "      <td>2</td>\n",
              "      <td>17.0</td>\n",
              "      <td>1988</td>\n",
              "      <td>0.025609</td>\n",
              "      <td>B</td>\n",
              "      <td>B</td>\n",
              "      <td>33</td>\n",
              "      <td>5261</td>\n",
              "      <td>0</td>\n",
              "      <td>240.0</td>\n",
              "      <td>3</td>\n",
              "      <td>1</td>\n",
              "      <td>B</td>\n",
              "      <td>282078.720850</td>\n",
              "    </tr>\n",
              "    <tr>\n",
              "      <th>3</th>\n",
              "      <td>2352</td>\n",
              "      <td>1</td>\n",
              "      <td>1.0</td>\n",
              "      <td>40.409907</td>\n",
              "      <td>NaN</td>\n",
              "      <td>1.0</td>\n",
              "      <td>10</td>\n",
              "      <td>22.0</td>\n",
              "      <td>1977</td>\n",
              "      <td>0.007122</td>\n",
              "      <td>B</td>\n",
              "      <td>B</td>\n",
              "      <td>1</td>\n",
              "      <td>264</td>\n",
              "      <td>0</td>\n",
              "      <td>NaN</td>\n",
              "      <td>0</td>\n",
              "      <td>1</td>\n",
              "      <td>B</td>\n",
              "      <td>168106.007630</td>\n",
              "    </tr>\n",
              "    <tr>\n",
              "      <th>4</th>\n",
              "      <td>13866</td>\n",
              "      <td>94</td>\n",
              "      <td>2.0</td>\n",
              "      <td>64.285067</td>\n",
              "      <td>38.562517</td>\n",
              "      <td>9.0</td>\n",
              "      <td>16</td>\n",
              "      <td>16.0</td>\n",
              "      <td>1972</td>\n",
              "      <td>0.282798</td>\n",
              "      <td>B</td>\n",
              "      <td>B</td>\n",
              "      <td>33</td>\n",
              "      <td>8667</td>\n",
              "      <td>2</td>\n",
              "      <td>NaN</td>\n",
              "      <td>0</td>\n",
              "      <td>6</td>\n",
              "      <td>B</td>\n",
              "      <td>343995.102962</td>\n",
              "    </tr>\n",
              "  </tbody>\n",
              "</table>\n",
              "</div>\n",
              "      <button class=\"colab-df-convert\" onclick=\"convertToInteractive('df-ac85367f-fc6e-4d8e-b7c8-17afe4d86d75')\"\n",
              "              title=\"Convert this dataframe to an interactive table.\"\n",
              "              style=\"display:none;\">\n",
              "        \n",
              "  <svg xmlns=\"http://www.w3.org/2000/svg\" height=\"24px\"viewBox=\"0 0 24 24\"\n",
              "       width=\"24px\">\n",
              "    <path d=\"M0 0h24v24H0V0z\" fill=\"none\"/>\n",
              "    <path d=\"M18.56 5.44l.94 2.06.94-2.06 2.06-.94-2.06-.94-.94-2.06-.94 2.06-2.06.94zm-11 1L8.5 8.5l.94-2.06 2.06-.94-2.06-.94L8.5 2.5l-.94 2.06-2.06.94zm10 10l.94 2.06.94-2.06 2.06-.94-2.06-.94-.94-2.06-.94 2.06-2.06.94z\"/><path d=\"M17.41 7.96l-1.37-1.37c-.4-.4-.92-.59-1.43-.59-.52 0-1.04.2-1.43.59L10.3 9.45l-7.72 7.72c-.78.78-.78 2.05 0 2.83L4 21.41c.39.39.9.59 1.41.59.51 0 1.02-.2 1.41-.59l7.78-7.78 2.81-2.81c.8-.78.8-2.07 0-2.86zM5.41 20L4 18.59l7.72-7.72 1.47 1.35L5.41 20z\"/>\n",
              "  </svg>\n",
              "      </button>\n",
              "      \n",
              "  <style>\n",
              "    .colab-df-container {\n",
              "      display:flex;\n",
              "      flex-wrap:wrap;\n",
              "      gap: 12px;\n",
              "    }\n",
              "\n",
              "    .colab-df-convert {\n",
              "      background-color: #E8F0FE;\n",
              "      border: none;\n",
              "      border-radius: 50%;\n",
              "      cursor: pointer;\n",
              "      display: none;\n",
              "      fill: #1967D2;\n",
              "      height: 32px;\n",
              "      padding: 0 0 0 0;\n",
              "      width: 32px;\n",
              "    }\n",
              "\n",
              "    .colab-df-convert:hover {\n",
              "      background-color: #E2EBFA;\n",
              "      box-shadow: 0px 1px 2px rgba(60, 64, 67, 0.3), 0px 1px 3px 1px rgba(60, 64, 67, 0.15);\n",
              "      fill: #174EA6;\n",
              "    }\n",
              "\n",
              "    [theme=dark] .colab-df-convert {\n",
              "      background-color: #3B4455;\n",
              "      fill: #D2E3FC;\n",
              "    }\n",
              "\n",
              "    [theme=dark] .colab-df-convert:hover {\n",
              "      background-color: #434B5C;\n",
              "      box-shadow: 0px 1px 3px 1px rgba(0, 0, 0, 0.15);\n",
              "      filter: drop-shadow(0px 1px 2px rgba(0, 0, 0, 0.3));\n",
              "      fill: #FFFFFF;\n",
              "    }\n",
              "  </style>\n",
              "\n",
              "      <script>\n",
              "        const buttonEl =\n",
              "          document.querySelector('#df-ac85367f-fc6e-4d8e-b7c8-17afe4d86d75 button.colab-df-convert');\n",
              "        buttonEl.style.display =\n",
              "          google.colab.kernel.accessAllowed ? 'block' : 'none';\n",
              "\n",
              "        async function convertToInteractive(key) {\n",
              "          const element = document.querySelector('#df-ac85367f-fc6e-4d8e-b7c8-17afe4d86d75');\n",
              "          const dataTable =\n",
              "            await google.colab.kernel.invokeFunction('convertToInteractive',\n",
              "                                                     [key], {});\n",
              "          if (!dataTable) return;\n",
              "\n",
              "          const docLinkHtml = 'Like what you see? Visit the ' +\n",
              "            '<a target=\"_blank\" href=https://colab.research.google.com/notebooks/data_table.ipynb>data table notebook</a>'\n",
              "            + ' to learn more about interactive tables.';\n",
              "          element.innerHTML = '';\n",
              "          dataTable['output_type'] = 'display_data';\n",
              "          await google.colab.output.renderOutput(dataTable, element);\n",
              "          const docLink = document.createElement('div');\n",
              "          docLink.innerHTML = docLinkHtml;\n",
              "          element.appendChild(docLink);\n",
              "        }\n",
              "      </script>\n",
              "    </div>\n",
              "  </div>\n",
              "  "
            ]
          },
          "metadata": {},
          "execution_count": 91
        }
      ]
    },
    {
      "cell_type": "code",
      "source": [
        "train_df.dtypes"
      ],
      "metadata": {
        "colab": {
          "base_uri": "https://localhost:8080/"
        },
        "id": "eDfvVuuYrQxx",
        "outputId": "dc8dba43-a1c3-4302-e914-195ae41daad3"
      },
      "execution_count": 92,
      "outputs": [
        {
          "output_type": "execute_result",
          "data": {
            "text/plain": [
              "Id                 int64\n",
              "DistrictId         int64\n",
              "Rooms            float64\n",
              "Square           float64\n",
              "LifeSquare       float64\n",
              "KitchenSquare    float64\n",
              "Floor              int64\n",
              "HouseFloor       float64\n",
              "HouseYear          int64\n",
              "Ecology_1        float64\n",
              "Ecology_2         object\n",
              "Ecology_3         object\n",
              "Social_1           int64\n",
              "Social_2           int64\n",
              "Social_3           int64\n",
              "Healthcare_1     float64\n",
              "Helthcare_2        int64\n",
              "Shops_1            int64\n",
              "Shops_2           object\n",
              "Price            float64\n",
              "dtype: object"
            ]
          },
          "metadata": {},
          "execution_count": 92
        }
      ]
    },
    {
      "cell_type": "code",
      "source": [
        "test_df = pd.read_csv(TEST_DATASET_PATH)\n",
        "test_df.head()"
      ],
      "metadata": {
        "colab": {
          "base_uri": "https://localhost:8080/",
          "height": 0
        },
        "id": "XaewN5u-rVIa",
        "outputId": "0339be3c-af31-49cf-f6a2-1b047dc7cace"
      },
      "execution_count": 93,
      "outputs": [
        {
          "output_type": "execute_result",
          "data": {
            "text/plain": [
              "     Id  DistrictId  Rooms     Square  LifeSquare  KitchenSquare  Floor  \\\n",
              "0  4567          44    1.0  36.847630   19.094182            5.0      5   \n",
              "1  5925          62    1.0  42.493907   42.568133           10.0      7   \n",
              "2   960          27    2.0  59.463678         NaN            9.0     19   \n",
              "3  3848          23    3.0  49.646030   33.893825            6.0      2   \n",
              "4   746          74    1.0  53.837056         NaN            1.0      8   \n",
              "\n",
              "   HouseFloor  HouseYear  Ecology_1 Ecology_2 Ecology_3  Social_1  Social_2  \\\n",
              "0         9.0       1970   0.036122         B         B        24      4378   \n",
              "1        17.0       2017   0.072158         B         B         2       629   \n",
              "2        19.0       1977   0.211401         B         B         9      1892   \n",
              "3         2.0       1965   0.014073         B         B         2       475   \n",
              "4        17.0       1977   0.309479         B         B        35      7715   \n",
              "\n",
              "   Social_3  Healthcare_1  Helthcare_2  Shops_1 Shops_2  \n",
              "0         0        1036.0            1        1       B  \n",
              "1         1           NaN            0        0       A  \n",
              "2         0           NaN            0        1       B  \n",
              "3         0           NaN            0        0       B  \n",
              "4         4         990.0            0        6       B  "
            ],
            "text/html": [
              "\n",
              "  <div id=\"df-0db8e181-7465-435d-bc4f-cb87b4a6160a\">\n",
              "    <div class=\"colab-df-container\">\n",
              "      <div>\n",
              "<style scoped>\n",
              "    .dataframe tbody tr th:only-of-type {\n",
              "        vertical-align: middle;\n",
              "    }\n",
              "\n",
              "    .dataframe tbody tr th {\n",
              "        vertical-align: top;\n",
              "    }\n",
              "\n",
              "    .dataframe thead th {\n",
              "        text-align: right;\n",
              "    }\n",
              "</style>\n",
              "<table border=\"1\" class=\"dataframe\">\n",
              "  <thead>\n",
              "    <tr style=\"text-align: right;\">\n",
              "      <th></th>\n",
              "      <th>Id</th>\n",
              "      <th>DistrictId</th>\n",
              "      <th>Rooms</th>\n",
              "      <th>Square</th>\n",
              "      <th>LifeSquare</th>\n",
              "      <th>KitchenSquare</th>\n",
              "      <th>Floor</th>\n",
              "      <th>HouseFloor</th>\n",
              "      <th>HouseYear</th>\n",
              "      <th>Ecology_1</th>\n",
              "      <th>Ecology_2</th>\n",
              "      <th>Ecology_3</th>\n",
              "      <th>Social_1</th>\n",
              "      <th>Social_2</th>\n",
              "      <th>Social_3</th>\n",
              "      <th>Healthcare_1</th>\n",
              "      <th>Helthcare_2</th>\n",
              "      <th>Shops_1</th>\n",
              "      <th>Shops_2</th>\n",
              "    </tr>\n",
              "  </thead>\n",
              "  <tbody>\n",
              "    <tr>\n",
              "      <th>0</th>\n",
              "      <td>4567</td>\n",
              "      <td>44</td>\n",
              "      <td>1.0</td>\n",
              "      <td>36.847630</td>\n",
              "      <td>19.094182</td>\n",
              "      <td>5.0</td>\n",
              "      <td>5</td>\n",
              "      <td>9.0</td>\n",
              "      <td>1970</td>\n",
              "      <td>0.036122</td>\n",
              "      <td>B</td>\n",
              "      <td>B</td>\n",
              "      <td>24</td>\n",
              "      <td>4378</td>\n",
              "      <td>0</td>\n",
              "      <td>1036.0</td>\n",
              "      <td>1</td>\n",
              "      <td>1</td>\n",
              "      <td>B</td>\n",
              "    </tr>\n",
              "    <tr>\n",
              "      <th>1</th>\n",
              "      <td>5925</td>\n",
              "      <td>62</td>\n",
              "      <td>1.0</td>\n",
              "      <td>42.493907</td>\n",
              "      <td>42.568133</td>\n",
              "      <td>10.0</td>\n",
              "      <td>7</td>\n",
              "      <td>17.0</td>\n",
              "      <td>2017</td>\n",
              "      <td>0.072158</td>\n",
              "      <td>B</td>\n",
              "      <td>B</td>\n",
              "      <td>2</td>\n",
              "      <td>629</td>\n",
              "      <td>1</td>\n",
              "      <td>NaN</td>\n",
              "      <td>0</td>\n",
              "      <td>0</td>\n",
              "      <td>A</td>\n",
              "    </tr>\n",
              "    <tr>\n",
              "      <th>2</th>\n",
              "      <td>960</td>\n",
              "      <td>27</td>\n",
              "      <td>2.0</td>\n",
              "      <td>59.463678</td>\n",
              "      <td>NaN</td>\n",
              "      <td>9.0</td>\n",
              "      <td>19</td>\n",
              "      <td>19.0</td>\n",
              "      <td>1977</td>\n",
              "      <td>0.211401</td>\n",
              "      <td>B</td>\n",
              "      <td>B</td>\n",
              "      <td>9</td>\n",
              "      <td>1892</td>\n",
              "      <td>0</td>\n",
              "      <td>NaN</td>\n",
              "      <td>0</td>\n",
              "      <td>1</td>\n",
              "      <td>B</td>\n",
              "    </tr>\n",
              "    <tr>\n",
              "      <th>3</th>\n",
              "      <td>3848</td>\n",
              "      <td>23</td>\n",
              "      <td>3.0</td>\n",
              "      <td>49.646030</td>\n",
              "      <td>33.893825</td>\n",
              "      <td>6.0</td>\n",
              "      <td>2</td>\n",
              "      <td>2.0</td>\n",
              "      <td>1965</td>\n",
              "      <td>0.014073</td>\n",
              "      <td>B</td>\n",
              "      <td>B</td>\n",
              "      <td>2</td>\n",
              "      <td>475</td>\n",
              "      <td>0</td>\n",
              "      <td>NaN</td>\n",
              "      <td>0</td>\n",
              "      <td>0</td>\n",
              "      <td>B</td>\n",
              "    </tr>\n",
              "    <tr>\n",
              "      <th>4</th>\n",
              "      <td>746</td>\n",
              "      <td>74</td>\n",
              "      <td>1.0</td>\n",
              "      <td>53.837056</td>\n",
              "      <td>NaN</td>\n",
              "      <td>1.0</td>\n",
              "      <td>8</td>\n",
              "      <td>17.0</td>\n",
              "      <td>1977</td>\n",
              "      <td>0.309479</td>\n",
              "      <td>B</td>\n",
              "      <td>B</td>\n",
              "      <td>35</td>\n",
              "      <td>7715</td>\n",
              "      <td>4</td>\n",
              "      <td>990.0</td>\n",
              "      <td>0</td>\n",
              "      <td>6</td>\n",
              "      <td>B</td>\n",
              "    </tr>\n",
              "  </tbody>\n",
              "</table>\n",
              "</div>\n",
              "      <button class=\"colab-df-convert\" onclick=\"convertToInteractive('df-0db8e181-7465-435d-bc4f-cb87b4a6160a')\"\n",
              "              title=\"Convert this dataframe to an interactive table.\"\n",
              "              style=\"display:none;\">\n",
              "        \n",
              "  <svg xmlns=\"http://www.w3.org/2000/svg\" height=\"24px\"viewBox=\"0 0 24 24\"\n",
              "       width=\"24px\">\n",
              "    <path d=\"M0 0h24v24H0V0z\" fill=\"none\"/>\n",
              "    <path d=\"M18.56 5.44l.94 2.06.94-2.06 2.06-.94-2.06-.94-.94-2.06-.94 2.06-2.06.94zm-11 1L8.5 8.5l.94-2.06 2.06-.94-2.06-.94L8.5 2.5l-.94 2.06-2.06.94zm10 10l.94 2.06.94-2.06 2.06-.94-2.06-.94-.94-2.06-.94 2.06-2.06.94z\"/><path d=\"M17.41 7.96l-1.37-1.37c-.4-.4-.92-.59-1.43-.59-.52 0-1.04.2-1.43.59L10.3 9.45l-7.72 7.72c-.78.78-.78 2.05 0 2.83L4 21.41c.39.39.9.59 1.41.59.51 0 1.02-.2 1.41-.59l7.78-7.78 2.81-2.81c.8-.78.8-2.07 0-2.86zM5.41 20L4 18.59l7.72-7.72 1.47 1.35L5.41 20z\"/>\n",
              "  </svg>\n",
              "      </button>\n",
              "      \n",
              "  <style>\n",
              "    .colab-df-container {\n",
              "      display:flex;\n",
              "      flex-wrap:wrap;\n",
              "      gap: 12px;\n",
              "    }\n",
              "\n",
              "    .colab-df-convert {\n",
              "      background-color: #E8F0FE;\n",
              "      border: none;\n",
              "      border-radius: 50%;\n",
              "      cursor: pointer;\n",
              "      display: none;\n",
              "      fill: #1967D2;\n",
              "      height: 32px;\n",
              "      padding: 0 0 0 0;\n",
              "      width: 32px;\n",
              "    }\n",
              "\n",
              "    .colab-df-convert:hover {\n",
              "      background-color: #E2EBFA;\n",
              "      box-shadow: 0px 1px 2px rgba(60, 64, 67, 0.3), 0px 1px 3px 1px rgba(60, 64, 67, 0.15);\n",
              "      fill: #174EA6;\n",
              "    }\n",
              "\n",
              "    [theme=dark] .colab-df-convert {\n",
              "      background-color: #3B4455;\n",
              "      fill: #D2E3FC;\n",
              "    }\n",
              "\n",
              "    [theme=dark] .colab-df-convert:hover {\n",
              "      background-color: #434B5C;\n",
              "      box-shadow: 0px 1px 3px 1px rgba(0, 0, 0, 0.15);\n",
              "      filter: drop-shadow(0px 1px 2px rgba(0, 0, 0, 0.3));\n",
              "      fill: #FFFFFF;\n",
              "    }\n",
              "  </style>\n",
              "\n",
              "      <script>\n",
              "        const buttonEl =\n",
              "          document.querySelector('#df-0db8e181-7465-435d-bc4f-cb87b4a6160a button.colab-df-convert');\n",
              "        buttonEl.style.display =\n",
              "          google.colab.kernel.accessAllowed ? 'block' : 'none';\n",
              "\n",
              "        async function convertToInteractive(key) {\n",
              "          const element = document.querySelector('#df-0db8e181-7465-435d-bc4f-cb87b4a6160a');\n",
              "          const dataTable =\n",
              "            await google.colab.kernel.invokeFunction('convertToInteractive',\n",
              "                                                     [key], {});\n",
              "          if (!dataTable) return;\n",
              "\n",
              "          const docLinkHtml = 'Like what you see? Visit the ' +\n",
              "            '<a target=\"_blank\" href=https://colab.research.google.com/notebooks/data_table.ipynb>data table notebook</a>'\n",
              "            + ' to learn more about interactive tables.';\n",
              "          element.innerHTML = '';\n",
              "          dataTable['output_type'] = 'display_data';\n",
              "          await google.colab.output.renderOutput(dataTable, element);\n",
              "          const docLink = document.createElement('div');\n",
              "          docLink.innerHTML = docLinkHtml;\n",
              "          element.appendChild(docLink);\n",
              "        }\n",
              "      </script>\n",
              "    </div>\n",
              "  </div>\n",
              "  "
            ]
          },
          "metadata": {},
          "execution_count": 93
        }
      ]
    },
    {
      "cell_type": "code",
      "source": [
        "print('Строк в трейне:', train_df.shape[0])\n",
        "print('Строк в тесте', test_df.shape[0])"
      ],
      "metadata": {
        "colab": {
          "base_uri": "https://localhost:8080/"
        },
        "id": "zMo17FDxsOO8",
        "outputId": "595f02a9-2bba-4514-9add-73080d827b20"
      },
      "execution_count": 94,
      "outputs": [
        {
          "output_type": "stream",
          "name": "stdout",
          "text": [
            "Строк в трейне: 10000\n",
            "Строк в тесте 5000\n"
          ]
        }
      ]
    },
    {
      "cell_type": "code",
      "source": [
        "train_df.shape[1] - 1 == test_df.shape[1]"
      ],
      "metadata": {
        "colab": {
          "base_uri": "https://localhost:8080/"
        },
        "id": "IGQ9PZU7-es-",
        "outputId": "ded83104-c654-4aa0-aeb6-c6389d4aad3e"
      },
      "execution_count": 95,
      "outputs": [
        {
          "output_type": "execute_result",
          "data": {
            "text/plain": [
              "True"
            ]
          },
          "metadata": {},
          "execution_count": 95
        }
      ]
    },
    {
      "cell_type": "markdown",
      "source": [
        "### **Приведение типов**"
      ],
      "metadata": {
        "id": "rLbvkTFeu1KT"
      }
    },
    {
      "cell_type": "code",
      "source": [
        "train_df.dtypes"
      ],
      "metadata": {
        "colab": {
          "base_uri": "https://localhost:8080/"
        },
        "id": "UX54Jmcru318",
        "outputId": "356262ca-a9fa-4b13-f16e-4e124aa8ff3a"
      },
      "execution_count": 96,
      "outputs": [
        {
          "output_type": "execute_result",
          "data": {
            "text/plain": [
              "Id                 int64\n",
              "DistrictId         int64\n",
              "Rooms            float64\n",
              "Square           float64\n",
              "LifeSquare       float64\n",
              "KitchenSquare    float64\n",
              "Floor              int64\n",
              "HouseFloor       float64\n",
              "HouseYear          int64\n",
              "Ecology_1        float64\n",
              "Ecology_2         object\n",
              "Ecology_3         object\n",
              "Social_1           int64\n",
              "Social_2           int64\n",
              "Social_3           int64\n",
              "Healthcare_1     float64\n",
              "Helthcare_2        int64\n",
              "Shops_1            int64\n",
              "Shops_2           object\n",
              "Price            float64\n",
              "dtype: object"
            ]
          },
          "metadata": {},
          "execution_count": 96
        }
      ]
    },
    {
      "cell_type": "code",
      "source": [
        "train_df['Id'] = train_df['Id'].astype(str)\n",
        "train_df['DistrictId'] = train_df['DistrictId'].astype(str)"
      ],
      "metadata": {
        "id": "rg03aRQcu6Fp"
      },
      "execution_count": 97,
      "outputs": []
    },
    {
      "cell_type": "markdown",
      "source": [
        "## **1.EDA**  <a class='anchor' id='eda'>\n",
        "Делаем EDA для:\n",
        "- Исправления выбросов\n",
        "- Заполнения NaN\n",
        "- Идей для генерации новых фич"
      ],
      "metadata": {
        "id": "RrXLrruNxcG2"
      }
    },
    {
      "cell_type": "markdown",
      "source": [
        "**Целевая переменная**"
      ],
      "metadata": {
        "id": "X_XUceoZ_8RE"
      }
    },
    {
      "cell_type": "code",
      "source": [
        "plt.figure(figsize = (16, 8))\n",
        "\n",
        "train_df['Price'].hist(bins=30)\n",
        "plt.ylabel('Count')\n",
        "plt.xlabel('Price')\n",
        "\n",
        "plt.title('Target distribution')\n",
        "plt.show()"
      ],
      "metadata": {
        "colab": {
          "base_uri": "https://localhost:8080/",
          "height": 525
        },
        "id": "gDdJB2jOsSZS",
        "outputId": "ff21771b-4a23-4bab-8c7a-bb7cea0ad41d"
      },
      "execution_count": 98,
      "outputs": [
        {
          "output_type": "display_data",
          "data": {
            "text/plain": [
              "<Figure size 1152x576 with 1 Axes>"
            ],
            "image/png": "[encoded data removed]"
          },
          "metadata": {
            "needs_background": "light"
          }
        }
      ]
    },
    {
      "cell_type": "markdown",
      "source": [
        "**Количественные переменные**"
      ],
      "metadata": {
        "id": "_Cubmkq9AU7X"
      }
    },
    {
      "cell_type": "code",
      "source": [
        "train_df.describe()"
      ],
      "metadata": {
        "colab": {
          "base_uri": "https://localhost:8080/",
          "height": 344
        },
        "id": "6oNpPIs7xlYs",
        "outputId": "5bc569e3-31ce-4741-d8bd-757d381a6d09"
      },
      "execution_count": 99,
      "outputs": [
        {
          "output_type": "execute_result",
          "data": {
            "text/plain": [
              "              Rooms        Square   LifeSquare  KitchenSquare         Floor  \\\n",
              "count  10000.000000  10000.000000  7887.000000   10000.000000  10000.000000   \n",
              "mean       1.890500     56.315775    37.199645       6.273300      8.526700   \n",
              "std        0.839512     21.058732    86.241209      28.560917      5.241148   \n",
              "min        0.000000      1.136859     0.370619       0.000000      1.000000   \n",
              "25%        1.000000     41.774881    22.769832       1.000000      4.000000   \n",
              "50%        2.000000     52.513310    32.781260       6.000000      7.000000   \n",
              "75%        2.000000     65.900625    45.128803       9.000000     12.000000   \n",
              "max       19.000000    641.065193  7480.592129    2014.000000     42.000000   \n",
              "\n",
              "         HouseFloor     HouseYear     Ecology_1      Social_1      Social_2  \\\n",
              "count  10000.000000  1.000000e+04  10000.000000  10000.000000  10000.000000   \n",
              "mean      12.609400  3.990166e+03      0.118858     24.687000   5352.157400   \n",
              "std        6.775974  2.005003e+05      0.119025     17.532614   4006.799803   \n",
              "min        0.000000  1.910000e+03      0.000000      0.000000    168.000000   \n",
              "25%        9.000000  1.974000e+03      0.017647      6.000000   1564.000000   \n",
              "50%       13.000000  1.977000e+03      0.075424     25.000000   5285.000000   \n",
              "75%       17.000000  2.001000e+03      0.195781     36.000000   7227.000000   \n",
              "max      117.000000  2.005201e+07      0.521867     74.000000  19083.000000   \n",
              "\n",
              "           Social_3  Healthcare_1   Helthcare_2       Shops_1          Price  \n",
              "count  10000.000000   5202.000000  10000.000000  10000.000000   10000.000000  \n",
              "mean       8.039200   1142.904460      1.319500      4.231300  214138.857399  \n",
              "std       23.831875   1021.517264      1.493601      4.806341   92872.293865  \n",
              "min        0.000000      0.000000      0.000000      0.000000   59174.778028  \n",
              "25%        0.000000    350.000000      0.000000      1.000000  153872.633942  \n",
              "50%        2.000000    900.000000      1.000000      3.000000  192269.644879  \n",
              "75%        5.000000   1548.000000      2.000000      6.000000  249135.462171  \n",
              "max      141.000000   4849.000000      6.000000     23.000000  633233.466570  "
            ],
            "text/html": [
              "\n",
              "  <div id=\"df-8b86428d-0341-4d39-9508-c67bfa9a21b2\">\n",
              "    <div class=\"colab-df-container\">\n",
              "      <div>\n",
              "<style scoped>\n",
              "    .dataframe tbody tr th:only-of-type {\n",
              "        vertical-align: middle;\n",
              "    }\n",
              "\n",
              "    .dataframe tbody tr th {\n",
              "        vertical-align: top;\n",
              "    }\n",
              "\n",
              "    .dataframe thead th {\n",
              "        text-align: right;\n",
              "    }\n",
              "</style>\n",
              "<table border=\"1\" class=\"dataframe\">\n",
              "  <thead>\n",
              "    <tr style=\"text-align: right;\">\n",
              "      <th></th>\n",
              "      <th>Rooms</th>\n",
              "      <th>Square</th>\n",
              "      <th>LifeSquare</th>\n",
              "      <th>KitchenSquare</th>\n",
              "      <th>Floor</th>\n",
              "      <th>HouseFloor</th>\n",
              "      <th>HouseYear</th>\n",
              "      <th>Ecology_1</th>\n",
              "      <th>Social_1</th>\n",
              "      <th>Social_2</th>\n",
              "      <th>Social_3</th>\n",
              "      <th>Healthcare_1</th>\n",
              "      <th>Helthcare_2</th>\n",
              "      <th>Shops_1</th>\n",
              "      <th>Price</th>\n",
              "    </tr>\n",
              "  </thead>\n",
              "  <tbody>\n",
              "    <tr>\n",
              "      <th>count</th>\n",
              "      <td>10000.000000</td>\n",
              "      <td>10000.000000</td>\n",
              "      <td>7887.000000</td>\n",
              "      <td>10000.000000</td>\n",
              "      <td>10000.000000</td>\n",
              "      <td>10000.000000</td>\n",
              "      <td>1.000000e+04</td>\n",
              "      <td>10000.000000</td>\n",
              "      <td>10000.000000</td>\n",
              "      <td>10000.000000</td>\n",
              "      <td>10000.000000</td>\n",
              "      <td>5202.000000</td>\n",
              "      <td>10000.000000</td>\n",
              "      <td>10000.000000</td>\n",
              "      <td>10000.000000</td>\n",
              "    </tr>\n",
              "    <tr>\n",
              "      <th>mean</th>\n",
              "      <td>1.890500</td>\n",
              "      <td>56.315775</td>\n",
              "      <td>37.199645</td>\n",
              "      <td>6.273300</td>\n",
              "      <td>8.526700</td>\n",
              "      <td>12.609400</td>\n",
              "      <td>3.990166e+03</td>\n",
              "      <td>0.118858</td>\n",
              "      <td>24.687000</td>\n",
              "      <td>5352.157400</td>\n",
              "      <td>8.039200</td>\n",
              "      <td>1142.904460</td>\n",
              "      <td>1.319500</td>\n",
              "      <td>4.231300</td>\n",
              "      <td>214138.857399</td>\n",
              "    </tr>\n",
              "    <tr>\n",
              "      <th>std</th>\n",
              "      <td>0.839512</td>\n",
              "      <td>21.058732</td>\n",
              "      <td>86.241209</td>\n",
              "      <td>28.560917</td>\n",
              "      <td>5.241148</td>\n",
              "      <td>6.775974</td>\n",
              "      <td>2.005003e+05</td>\n",
              "      <td>0.119025</td>\n",
              "      <td>17.532614</td>\n",
              "      <td>4006.799803</td>\n",
              "      <td>23.831875</td>\n",
              "      <td>1021.517264</td>\n",
              "      <td>1.493601</td>\n",
              "      <td>4.806341</td>\n",
              "      <td>92872.293865</td>\n",
              "    </tr>\n",
              "    <tr>\n",
              "      <th>min</th>\n",
              "      <td>0.000000</td>\n",
              "      <td>1.136859</td>\n",
              "      <td>0.370619</td>\n",
              "      <td>0.000000</td>\n",
              "      <td>1.000000</td>\n",
              "      <td>0.000000</td>\n",
              "      <td>1.910000e+03</td>\n",
              "      <td>0.000000</td>\n",
              "      <td>0.000000</td>\n",
              "      <td>168.000000</td>\n",
              "      <td>0.000000</td>\n",
              "      <td>0.000000</td>\n",
              "      <td>0.000000</td>\n",
              "      <td>0.000000</td>\n",
              "      <td>59174.778028</td>\n",
              "    </tr>\n",
              "    <tr>\n",
              "      <th>25%</th>\n",
              "      <td>1.000000</td>\n",
              "      <td>41.774881</td>\n",
              "      <td>22.769832</td>\n",
              "      <td>1.000000</td>\n",
              "      <td>4.000000</td>\n",
              "      <td>9.000000</td>\n",
              "      <td>1.974000e+03</td>\n",
              "      <td>0.017647</td>\n",
              "      <td>6.000000</td>\n",
              "      <td>1564.000000</td>\n",
              "      <td>0.000000</td>\n",
              "      <td>350.000000</td>\n",
              "      <td>0.000000</td>\n",
              "      <td>1.000000</td>\n",
              "      <td>153872.633942</td>\n",
              "    </tr>\n",
              "    <tr>\n",
              "      <th>50%</th>\n",
              "      <td>2.000000</td>\n",
              "      <td>52.513310</td>\n",
              "      <td>32.781260</td>\n",
              "      <td>6.000000</td>\n",
              "      <td>7.000000</td>\n",
              "      <td>13.000000</td>\n",
              "      <td>1.977000e+03</td>\n",
              "      <td>0.075424</td>\n",
              "      <td>25.000000</td>\n",
              "      <td>5285.000000</td>\n",
              "      <td>2.000000</td>\n",
              "      <td>900.000000</td>\n",
              "      <td>1.000000</td>\n",
              "      <td>3.000000</td>\n",
              "      <td>192269.644879</td>\n",
              "    </tr>\n",
              "    <tr>\n",
              "      <th>75%</th>\n",
              "      <td>2.000000</td>\n",
              "      <td>65.900625</td>\n",
              "      <td>45.128803</td>\n",
              "      <td>9.000000</td>\n",
              "      <td>12.000000</td>\n",
              "      <td>17.000000</td>\n",
              "      <td>2.001000e+03</td>\n",
              "      <td>0.195781</td>\n",
              "      <td>36.000000</td>\n",
              "      <td>7227.000000</td>\n",
              "      <td>5.000000</td>\n",
              "      <td>1548.000000</td>\n",
              "      <td>2.000000</td>\n",
              "      <td>6.000000</td>\n",
              "      <td>249135.462171</td>\n",
              "    </tr>\n",
              "    <tr>\n",
              "      <th>max</th>\n",
              "      <td>19.000000</td>\n",
              "      <td>641.065193</td>\n",
              "      <td>7480.592129</td>\n",
              "      <td>2014.000000</td>\n",
              "      <td>42.000000</td>\n",
              "      <td>117.000000</td>\n",
              "      <td>2.005201e+07</td>\n",
              "      <td>0.521867</td>\n",
              "      <td>74.000000</td>\n",
              "      <td>19083.000000</td>\n",
              "      <td>141.000000</td>\n",
              "      <td>4849.000000</td>\n",
              "      <td>6.000000</td>\n",
              "      <td>23.000000</td>\n",
              "      <td>633233.466570</td>\n",
              "    </tr>\n",
              "  </tbody>\n",
              "</table>\n",
              "</div>\n",
              "      <button class=\"colab-df-convert\" onclick=\"convertToInteractive('df-8b86428d-0341-4d39-9508-c67bfa9a21b2')\"\n",
              "              title=\"Convert this dataframe to an interactive table.\"\n",
              "              style=\"display:none;\">\n",
              "        \n",
              "  <svg xmlns=\"http://www.w3.org/2000/svg\" height=\"24px\"viewBox=\"0 0 24 24\"\n",
              "       width=\"24px\">\n",
              "    <path d=\"M0 0h24v24H0V0z\" fill=\"none\"/>\n",
              "    <path d=\"M18.56 5.44l.94 2.06.94-2.06 2.06-.94-2.06-.94-.94-2.06-.94 2.06-2.06.94zm-11 1L8.5 8.5l.94-2.06 2.06-.94-2.06-.94L8.5 2.5l-.94 2.06-2.06.94zm10 10l.94 2.06.94-2.06 2.06-.94-2.06-.94-.94-2.06-.94 2.06-2.06.94z\"/><path d=\"M17.41 7.96l-1.37-1.37c-.4-.4-.92-.59-1.43-.59-.52 0-1.04.2-1.43.59L10.3 9.45l-7.72 7.72c-.78.78-.78 2.05 0 2.83L4 21.41c.39.39.9.59 1.41.59.51 0 1.02-.2 1.41-.59l7.78-7.78 2.81-2.81c.8-.78.8-2.07 0-2.86zM5.41 20L4 18.59l7.72-7.72 1.47 1.35L5.41 20z\"/>\n",
              "  </svg>\n",
              "      </button>\n",
              "      \n",
              "  <style>\n",
              "    .colab-df-container {\n",
              "      display:flex;\n",
              "      flex-wrap:wrap;\n",
              "      gap: 12px;\n",
              "    }\n",
              "\n",
              "    .colab-df-convert {\n",
              "      background-color: #E8F0FE;\n",
              "      border: none;\n",
              "      border-radius: 50%;\n",
              "      cursor: pointer;\n",
              "      display: none;\n",
              "      fill: #1967D2;\n",
              "      height: 32px;\n",
              "      padding: 0 0 0 0;\n",
              "      width: 32px;\n",
              "    }\n",
              "\n",
              "    .colab-df-convert:hover {\n",
              "      background-color: #E2EBFA;\n",
              "      box-shadow: 0px 1px 2px rgba(60, 64, 67, 0.3), 0px 1px 3px 1px rgba(60, 64, 67, 0.15);\n",
              "      fill: #174EA6;\n",
              "    }\n",
              "\n",
              "    [theme=dark] .colab-df-convert {\n",
              "      background-color: #3B4455;\n",
              "      fill: #D2E3FC;\n",
              "    }\n",
              "\n",
              "    [theme=dark] .colab-df-convert:hover {\n",
              "      background-color: #434B5C;\n",
              "      box-shadow: 0px 1px 3px 1px rgba(0, 0, 0, 0.15);\n",
              "      filter: drop-shadow(0px 1px 2px rgba(0, 0, 0, 0.3));\n",
              "      fill: #FFFFFF;\n",
              "    }\n",
              "  </style>\n",
              "\n",
              "      <script>\n",
              "        const buttonEl =\n",
              "          document.querySelector('#df-8b86428d-0341-4d39-9508-c67bfa9a21b2 button.colab-df-convert');\n",
              "        buttonEl.style.display =\n",
              "          google.colab.kernel.accessAllowed ? 'block' : 'none';\n",
              "\n",
              "        async function convertToInteractive(key) {\n",
              "          const element = document.querySelector('#df-8b86428d-0341-4d39-9508-c67bfa9a21b2');\n",
              "          const dataTable =\n",
              "            await google.colab.kernel.invokeFunction('convertToInteractive',\n",
              "                                                     [key], {});\n",
              "          if (!dataTable) return;\n",
              "\n",
              "          const docLinkHtml = 'Like what you see? Visit the ' +\n",
              "            '<a target=\"_blank\" href=https://colab.research.google.com/notebooks/data_table.ipynb>data table notebook</a>'\n",
              "            + ' to learn more about interactive tables.';\n",
              "          element.innerHTML = '';\n",
              "          dataTable['output_type'] = 'display_data';\n",
              "          await google.colab.output.renderOutput(dataTable, element);\n",
              "          const docLink = document.createElement('div');\n",
              "          docLink.innerHTML = docLinkHtml;\n",
              "          element.appendChild(docLink);\n",
              "        }\n",
              "      </script>\n",
              "    </div>\n",
              "  </div>\n",
              "  "
            ]
          },
          "metadata": {},
          "execution_count": 99
        }
      ]
    },
    {
      "cell_type": "markdown",
      "source": [
        "**Номинативные переменные**"
      ],
      "metadata": {
        "id": "DPcMQ4gRAZay"
      }
    },
    {
      "cell_type": "code",
      "source": [
        "train_df.select_dtypes(include='object').columns.tolist()"
      ],
      "metadata": {
        "colab": {
          "base_uri": "https://localhost:8080/"
        },
        "id": "Wdg5Fg-oAbwB",
        "outputId": "38c2b75e-d6f8-46e6-b7b1-1e02522acb21"
      },
      "execution_count": 100,
      "outputs": [
        {
          "output_type": "execute_result",
          "data": {
            "text/plain": [
              "['Id', 'DistrictId', 'Ecology_2', 'Ecology_3', 'Shops_2']"
            ]
          },
          "metadata": {},
          "execution_count": 100
        }
      ]
    },
    {
      "cell_type": "code",
      "source": [
        "train_df['DistrictId'].value_counts()"
      ],
      "metadata": {
        "colab": {
          "base_uri": "https://localhost:8080/"
        },
        "id": "X6SHa13XAez8",
        "outputId": "69bcb653-7374-4049-9cf4-70c5dafe7725"
      },
      "execution_count": 101,
      "outputs": [
        {
          "output_type": "execute_result",
          "data": {
            "text/plain": [
              "27     851\n",
              "1      652\n",
              "23     565\n",
              "6      511\n",
              "9      294\n",
              "      ... \n",
              "199      1\n",
              "117      1\n",
              "207      1\n",
              "209      1\n",
              "174      1\n",
              "Name: DistrictId, Length: 205, dtype: int64"
            ]
          },
          "metadata": {},
          "execution_count": 101
        }
      ]
    },
    {
      "cell_type": "code",
      "source": [
        "train_df['Ecology_2'].value_counts()"
      ],
      "metadata": {
        "colab": {
          "base_uri": "https://localhost:8080/"
        },
        "id": "T3ep7CgDAjho",
        "outputId": "6cd9b382-dd14-4a91-8dc9-1cec4ce5ae84"
      },
      "execution_count": 102,
      "outputs": [
        {
          "output_type": "execute_result",
          "data": {
            "text/plain": [
              "B    9903\n",
              "A      97\n",
              "Name: Ecology_2, dtype: int64"
            ]
          },
          "metadata": {},
          "execution_count": 102
        }
      ]
    },
    {
      "cell_type": "code",
      "source": [
        "train_df['Ecology_3'].value_counts()"
      ],
      "metadata": {
        "colab": {
          "base_uri": "https://localhost:8080/"
        },
        "id": "7NPStDEOAoGf",
        "outputId": "5f65a257-66b2-449b-ae78-42fad5ce762c"
      },
      "execution_count": 103,
      "outputs": [
        {
          "output_type": "execute_result",
          "data": {
            "text/plain": [
              "B    9725\n",
              "A     275\n",
              "Name: Ecology_3, dtype: int64"
            ]
          },
          "metadata": {},
          "execution_count": 103
        }
      ]
    },
    {
      "cell_type": "code",
      "source": [
        "train_df['Shops_2'].value_counts()"
      ],
      "metadata": {
        "colab": {
          "base_uri": "https://localhost:8080/"
        },
        "id": "eaVBpen3An3N",
        "outputId": "5861ed36-d56c-46d6-d838-bf0a1be0d51b"
      },
      "execution_count": 104,
      "outputs": [
        {
          "output_type": "execute_result",
          "data": {
            "text/plain": [
              "B    9175\n",
              "A     825\n",
              "Name: Shops_2, dtype: int64"
            ]
          },
          "metadata": {},
          "execution_count": 104
        }
      ]
    },
    {
      "cell_type": "markdown",
      "source": [
        "### 2. Обработка выбросов  <a class='anchor' id='outlier'>\n",
        "Что можно делать с ними?\n",
        "1. Выкинуть эти данные (только на трейне, на тесте ничего не выкидываем)\n",
        "2. Заменять выбросы разными методами (медианы, средние значения, np.clip и т.д.)\n",
        "3. Делать/не делать дополнительную фичу\n",
        "4. Ничего не делать"
      ],
      "metadata": {
        "id": "uSyL6JO5BnAR"
      }
    },
    {
      "cell_type": "markdown",
      "source": [
        "**Rooms**"
      ],
      "metadata": {
        "id": "xFWjcjIDBuk-"
      }
    },
    {
      "cell_type": "code",
      "source": [
        "train_df['Rooms'].value_counts()"
      ],
      "metadata": {
        "colab": {
          "base_uri": "https://localhost:8080/"
        },
        "id": "SkMDDMmEBpea",
        "outputId": "e5862ce9-1bc3-4934-a11a-e97f4d4befa6"
      },
      "execution_count": 105,
      "outputs": [
        {
          "output_type": "execute_result",
          "data": {
            "text/plain": [
              "2.0     3880\n",
              "1.0     3705\n",
              "3.0     2235\n",
              "4.0      150\n",
              "5.0       18\n",
              "0.0        8\n",
              "10.0       2\n",
              "19.0       1\n",
              "6.0        1\n",
              "Name: Rooms, dtype: int64"
            ]
          },
          "metadata": {},
          "execution_count": 105
        }
      ]
    },
    {
      "cell_type": "code",
      "source": [
        "train_df['Rooms_outlier'] = 0\n",
        "train_df.loc[(train_df['Rooms'] == 0) | (train_df['Rooms'] >= 6), 'Rooms_outlier'] = 1\n",
        "train_df.head()"
      ],
      "metadata": {
        "colab": {
          "base_uri": "https://localhost:8080/",
          "height": 299
        },
        "id": "sFER0sRqByjL",
        "outputId": "c55b3754-0c2a-47a5-f57a-32bd74b6d865"
      },
      "execution_count": 106,
      "outputs": [
        {
          "output_type": "execute_result",
          "data": {
            "text/plain": [
              "      Id DistrictId  Rooms      Square  LifeSquare  KitchenSquare  Floor  \\\n",
              "0  11809         27    3.0  115.027311         NaN           10.0      4   \n",
              "1   3013         22    1.0   39.832524   23.169223            8.0      7   \n",
              "2   8215          1    3.0   78.342215   47.671972           10.0      2   \n",
              "3   2352          1    1.0   40.409907         NaN            1.0     10   \n",
              "4  13866         94    2.0   64.285067   38.562517            9.0     16   \n",
              "\n",
              "   HouseFloor  HouseYear  Ecology_1  ... Ecology_3 Social_1  Social_2  \\\n",
              "0        10.0       2014   0.075424  ...         B       11      3097   \n",
              "1         8.0       1966   0.118537  ...         B       30      6207   \n",
              "2        17.0       1988   0.025609  ...         B       33      5261   \n",
              "3        22.0       1977   0.007122  ...         B        1       264   \n",
              "4        16.0       1972   0.282798  ...         B       33      8667   \n",
              "\n",
              "   Social_3  Healthcare_1  Helthcare_2  Shops_1  Shops_2          Price  \\\n",
              "0         0           NaN            0        0        B  305018.871089   \n",
              "1         1        1183.0            1        0        B  177734.553407   \n",
              "2         0         240.0            3        1        B  282078.720850   \n",
              "3         0           NaN            0        1        B  168106.007630   \n",
              "4         2           NaN            0        6        B  343995.102962   \n",
              "\n",
              "   Rooms_outlier  \n",
              "0              0  \n",
              "1              0  \n",
              "2              0  \n",
              "3              0  \n",
              "4              0  \n",
              "\n",
              "[5 rows x 21 columns]"
            ],
            "text/html": [
              "\n",
              "  <div id=\"df-8601ecdd-9cee-4103-a1f8-336e55a6b07c\">\n",
              "    <div class=\"colab-df-container\">\n",
              "      <div>\n",
              "<style scoped>\n",
              "    .dataframe tbody tr th:only-of-type {\n",
              "        vertical-align: middle;\n",
              "    }\n",
              "\n",
              "    .dataframe tbody tr th {\n",
              "        vertical-align: top;\n",
              "    }\n",
              "\n",
              "    .dataframe thead th {\n",
              "        text-align: right;\n",
              "    }\n",
              "</style>\n",
              "<table border=\"1\" class=\"dataframe\">\n",
              "  <thead>\n",
              "    <tr style=\"text-align: right;\">\n",
              "      <th></th>\n",
              "      <th>Id</th>\n",
              "      <th>DistrictId</th>\n",
              "      <th>Rooms</th>\n",
              "      <th>Square</th>\n",
              "      <th>LifeSquare</th>\n",
              "      <th>KitchenSquare</th>\n",
              "      <th>Floor</th>\n",
              "      <th>HouseFloor</th>\n",
              "      <th>HouseYear</th>\n",
              "      <th>Ecology_1</th>\n",
              "      <th>...</th>\n",
              "      <th>Ecology_3</th>\n",
              "      <th>Social_1</th>\n",
              "      <th>Social_2</th>\n",
              "      <th>Social_3</th>\n",
              "      <th>Healthcare_1</th>\n",
              "      <th>Helthcare_2</th>\n",
              "      <th>Shops_1</th>\n",
              "      <th>Shops_2</th>\n",
              "      <th>Price</th>\n",
              "      <th>Rooms_outlier</th>\n",
              "    </tr>\n",
              "  </thead>\n",
              "  <tbody>\n",
              "    <tr>\n",
              "      <th>0</th>\n",
              "      <td>11809</td>\n",
              "      <td>27</td>\n",
              "      <td>3.0</td>\n",
              "      <td>115.027311</td>\n",
              "      <td>NaN</td>\n",
              "      <td>10.0</td>\n",
              "      <td>4</td>\n",
              "      <td>10.0</td>\n",
              "      <td>2014</td>\n",
              "      <td>0.075424</td>\n",
              "      <td>...</td>\n",
              "      <td>B</td>\n",
              "      <td>11</td>\n",
              "      <td>3097</td>\n",
              "      <td>0</td>\n",
              "      <td>NaN</td>\n",
              "      <td>0</td>\n",
              "      <td>0</td>\n",
              "      <td>B</td>\n",
              "      <td>305018.871089</td>\n",
              "      <td>0</td>\n",
              "    </tr>\n",
              "    <tr>\n",
              "      <th>1</th>\n",
              "      <td>3013</td>\n",
              "      <td>22</td>\n",
              "      <td>1.0</td>\n",
              "      <td>39.832524</td>\n",
              "      <td>23.169223</td>\n",
              "      <td>8.0</td>\n",
              "      <td>7</td>\n",
              "      <td>8.0</td>\n",
              "      <td>1966</td>\n",
              "      <td>0.118537</td>\n",
              "      <td>...</td>\n",
              "      <td>B</td>\n",
              "      <td>30</td>\n",
              "      <td>6207</td>\n",
              "      <td>1</td>\n",
              "      <td>1183.0</td>\n",
              "      <td>1</td>\n",
              "      <td>0</td>\n",
              "      <td>B</td>\n",
              "      <td>177734.553407</td>\n",
              "      <td>0</td>\n",
              "    </tr>\n",
              "    <tr>\n",
              "      <th>2</th>\n",
              "      <td>8215</td>\n",
              "      <td>1</td>\n",
              "      <td>3.0</td>\n",
              "      <td>78.342215</td>\n",
              "      <td>47.671972</td>\n",
              "      <td>10.0</td>\n",
              "      <td>2</td>\n",
              "      <td>17.0</td>\n",
              "      <td>1988</td>\n",
              "      <td>0.025609</td>\n",
              "      <td>...</td>\n",
              "      <td>B</td>\n",
              "      <td>33</td>\n",
              "      <td>5261</td>\n",
              "      <td>0</td>\n",
              "      <td>240.0</td>\n",
              "      <td>3</td>\n",
              "      <td>1</td>\n",
              "      <td>B</td>\n",
              "      <td>282078.720850</td>\n",
              "      <td>0</td>\n",
              "    </tr>\n",
              "    <tr>\n",
              "      <th>3</th>\n",
              "      <td>2352</td>\n",
              "      <td>1</td>\n",
              "      <td>1.0</td>\n",
              "      <td>40.409907</td>\n",
              "      <td>NaN</td>\n",
              "      <td>1.0</td>\n",
              "      <td>10</td>\n",
              "      <td>22.0</td>\n",
              "      <td>1977</td>\n",
              "      <td>0.007122</td>\n",
              "      <td>...</td>\n",
              "      <td>B</td>\n",
              "      <td>1</td>\n",
              "      <td>264</td>\n",
              "      <td>0</td>\n",
              "      <td>NaN</td>\n",
              "      <td>0</td>\n",
              "      <td>1</td>\n",
              "      <td>B</td>\n",
              "      <td>168106.007630</td>\n",
              "      <td>0</td>\n",
              "    </tr>\n",
              "    <tr>\n",
              "      <th>4</th>\n",
              "      <td>13866</td>\n",
              "      <td>94</td>\n",
              "      <td>2.0</td>\n",
              "      <td>64.285067</td>\n",
              "      <td>38.562517</td>\n",
              "      <td>9.0</td>\n",
              "      <td>16</td>\n",
              "      <td>16.0</td>\n",
              "      <td>1972</td>\n",
              "      <td>0.282798</td>\n",
              "      <td>...</td>\n",
              "      <td>B</td>\n",
              "      <td>33</td>\n",
              "      <td>8667</td>\n",
              "      <td>2</td>\n",
              "      <td>NaN</td>\n",
              "      <td>0</td>\n",
              "      <td>6</td>\n",
              "      <td>B</td>\n",
              "      <td>343995.102962</td>\n",
              "      <td>0</td>\n",
              "    </tr>\n",
              "  </tbody>\n",
              "</table>\n",
              "<p>5 rows × 21 columns</p>\n",
              "</div>\n",
              "      <button class=\"colab-df-convert\" onclick=\"convertToInteractive('df-8601ecdd-9cee-4103-a1f8-336e55a6b07c')\"\n",
              "              title=\"Convert this dataframe to an interactive table.\"\n",
              "              style=\"display:none;\">\n",
              "        \n",
              "  <svg xmlns=\"http://www.w3.org/2000/svg\" height=\"24px\"viewBox=\"0 0 24 24\"\n",
              "       width=\"24px\">\n",
              "    <path d=\"M0 0h24v24H0V0z\" fill=\"none\"/>\n",
              "    <path d=\"M18.56 5.44l.94 2.06.94-2.06 2.06-.94-2.06-.94-.94-2.06-.94 2.06-2.06.94zm-11 1L8.5 8.5l.94-2.06 2.06-.94-2.06-.94L8.5 2.5l-.94 2.06-2.06.94zm10 10l.94 2.06.94-2.06 2.06-.94-2.06-.94-.94-2.06-.94 2.06-2.06.94z\"/><path d=\"M17.41 7.96l-1.37-1.37c-.4-.4-.92-.59-1.43-.59-.52 0-1.04.2-1.43.59L10.3 9.45l-7.72 7.72c-.78.78-.78 2.05 0 2.83L4 21.41c.39.39.9.59 1.41.59.51 0 1.02-.2 1.41-.59l7.78-7.78 2.81-2.81c.8-.78.8-2.07 0-2.86zM5.41 20L4 18.59l7.72-7.72 1.47 1.35L5.41 20z\"/>\n",
              "  </svg>\n",
              "      </button>\n",
              "      \n",
              "  <style>\n",
              "    .colab-df-container {\n",
              "      display:flex;\n",
              "      flex-wrap:wrap;\n",
              "      gap: 12px;\n",
              "    }\n",
              "\n",
              "    .colab-df-convert {\n",
              "      background-color: #E8F0FE;\n",
              "      border: none;\n",
              "      border-radius: 50%;\n",
              "      cursor: pointer;\n",
              "      display: none;\n",
              "      fill: #1967D2;\n",
              "      height: 32px;\n",
              "      padding: 0 0 0 0;\n",
              "      width: 32px;\n",
              "    }\n",
              "\n",
              "    .colab-df-convert:hover {\n",
              "      background-color: #E2EBFA;\n",
              "      box-shadow: 0px 1px 2px rgba(60, 64, 67, 0.3), 0px 1px 3px 1px rgba(60, 64, 67, 0.15);\n",
              "      fill: #174EA6;\n",
              "    }\n",
              "\n",
              "    [theme=dark] .colab-df-convert {\n",
              "      background-color: #3B4455;\n",
              "      fill: #D2E3FC;\n",
              "    }\n",
              "\n",
              "    [theme=dark] .colab-df-convert:hover {\n",
              "      background-color: #434B5C;\n",
              "      box-shadow: 0px 1px 3px 1px rgba(0, 0, 0, 0.15);\n",
              "      filter: drop-shadow(0px 1px 2px rgba(0, 0, 0, 0.3));\n",
              "      fill: #FFFFFF;\n",
              "    }\n",
              "  </style>\n",
              "\n",
              "      <script>\n",
              "        const buttonEl =\n",
              "          document.querySelector('#df-8601ecdd-9cee-4103-a1f8-336e55a6b07c button.colab-df-convert');\n",
              "        buttonEl.style.display =\n",
              "          google.colab.kernel.accessAllowed ? 'block' : 'none';\n",
              "\n",
              "        async function convertToInteractive(key) {\n",
              "          const element = document.querySelector('#df-8601ecdd-9cee-4103-a1f8-336e55a6b07c');\n",
              "          const dataTable =\n",
              "            await google.colab.kernel.invokeFunction('convertToInteractive',\n",
              "                                                     [key], {});\n",
              "          if (!dataTable) return;\n",
              "\n",
              "          const docLinkHtml = 'Like what you see? Visit the ' +\n",
              "            '<a target=\"_blank\" href=https://colab.research.google.com/notebooks/data_table.ipynb>data table notebook</a>'\n",
              "            + ' to learn more about interactive tables.';\n",
              "          element.innerHTML = '';\n",
              "          dataTable['output_type'] = 'display_data';\n",
              "          await google.colab.output.renderOutput(dataTable, element);\n",
              "          const docLink = document.createElement('div');\n",
              "          docLink.innerHTML = docLinkHtml;\n",
              "          element.appendChild(docLink);\n",
              "        }\n",
              "      </script>\n",
              "    </div>\n",
              "  </div>\n",
              "  "
            ]
          },
          "metadata": {},
          "execution_count": 106
        }
      ]
    },
    {
      "cell_type": "code",
      "source": [
        "rooms_median = train_df['Rooms'].median()\n",
        "train_df.loc[train_df['Rooms'] == 0, 'Rooms'] = 1\n",
        "train_df.loc[train_df['Rooms'] >= 6, 'Rooms'] = rooms_median"
      ],
      "metadata": {
        "id": "EYvKbfusBybK"
      },
      "execution_count": 107,
      "outputs": []
    },
    {
      "cell_type": "code",
      "source": [
        "train_df['Rooms'].value_counts()"
      ],
      "metadata": {
        "colab": {
          "base_uri": "https://localhost:8080/"
        },
        "id": "YjBKZ7d-B2xT",
        "outputId": "c3732f8c-196c-4802-a97c-9158a56e7a13"
      },
      "execution_count": 108,
      "outputs": [
        {
          "output_type": "execute_result",
          "data": {
            "text/plain": [
              "2.0    3884\n",
              "1.0    3713\n",
              "3.0    2235\n",
              "4.0     150\n",
              "5.0      18\n",
              "Name: Rooms, dtype: int64"
            ]
          },
          "metadata": {},
          "execution_count": 108
        }
      ]
    },
    {
      "cell_type": "markdown",
      "source": [
        "**KitchenSquare**"
      ],
      "metadata": {
        "id": "ufv49_5VEDpr"
      }
    },
    {
      "cell_type": "code",
      "source": [
        "train_df['KitchenSquare'].value_counts()"
      ],
      "metadata": {
        "colab": {
          "base_uri": "https://localhost:8080/"
        },
        "id": "YyksI27AEEL9",
        "outputId": "30b52c17-3b3b-46ad-b0b9-1d9ea3cfe4a5"
      },
      "execution_count": 109,
      "outputs": [
        {
          "output_type": "execute_result",
          "data": {
            "text/plain": [
              "1.0       2460\n",
              "8.0       1306\n",
              "5.0       1169\n",
              "10.0      1075\n",
              "6.0       1038\n",
              "9.0        843\n",
              "0.0        697\n",
              "7.0        609\n",
              "12.0       249\n",
              "11.0       233\n",
              "13.0        67\n",
              "14.0        51\n",
              "4.0         39\n",
              "15.0        31\n",
              "3.0         22\n",
              "16.0        16\n",
              "20.0        14\n",
              "17.0        12\n",
              "19.0        11\n",
              "18.0         6\n",
              "2.0          4\n",
              "22.0         3\n",
              "30.0         2\n",
              "43.0         2\n",
              "41.0         2\n",
              "112.0        2\n",
              "25.0         2\n",
              "51.0         2\n",
              "37.0         2\n",
              "58.0         2\n",
              "32.0         2\n",
              "21.0         1\n",
              "73.0         1\n",
              "75.0         1\n",
              "36.0         1\n",
              "27.0         1\n",
              "63.0         1\n",
              "1970.0       1\n",
              "54.0         1\n",
              "53.0         1\n",
              "60.0         1\n",
              "26.0         1\n",
              "66.0         1\n",
              "39.0         1\n",
              "29.0         1\n",
              "78.0         1\n",
              "31.0         1\n",
              "84.0         1\n",
              "48.0         1\n",
              "96.0         1\n",
              "42.0         1\n",
              "40.0         1\n",
              "23.0         1\n",
              "72.0         1\n",
              "35.0         1\n",
              "62.0         1\n",
              "123.0        1\n",
              "2014.0       1\n",
              "Name: KitchenSquare, dtype: int64"
            ]
          },
          "metadata": {},
          "execution_count": 109
        }
      ]
    },
    {
      "cell_type": "code",
      "source": [
        "train_df['KitchenSquare'].quantile(.95), train_df['KitchenSquare'].quantile(.05)"
      ],
      "metadata": {
        "colab": {
          "base_uri": "https://localhost:8080/"
        },
        "id": "UjbqBM7-EQmd",
        "outputId": "bbb6ab94-a59a-4064-c4a1-6eac68e61118"
      },
      "execution_count": 110,
      "outputs": [
        {
          "output_type": "execute_result",
          "data": {
            "text/plain": [
              "(12.0, 0.0)"
            ]
          },
          "metadata": {},
          "execution_count": 110
        }
      ]
    },
    {
      "cell_type": "code",
      "source": [
        "condition = (train_df['KitchenSquare'].isna()) \\\n",
        "             | (train_df['KitchenSquare'] > train_df['KitchenSquare'].quantile(.95))\n",
        "        \n",
        "train_df.loc[condition, 'KitchenSquare'] = train_df['KitchenSquare'].median()\n",
        "\n",
        "train_df.loc[train_df['KitchenSquare'] < 5, 'KitchenSquare'] = 5"
      ],
      "metadata": {
        "id": "PzaXYvTbETK6"
      },
      "execution_count": 111,
      "outputs": []
    },
    {
      "cell_type": "code",
      "source": [
        "train_df['KitchenSquare'].value_counts()"
      ],
      "metadata": {
        "colab": {
          "base_uri": "https://localhost:8080/"
        },
        "id": "915Vj3gtEVsi",
        "outputId": "baf0339a-aad4-4e8a-ca00-6773831ff02b"
      },
      "execution_count": 112,
      "outputs": [
        {
          "output_type": "execute_result",
          "data": {
            "text/plain": [
              "5.0     4391\n",
              "8.0     1306\n",
              "6.0     1294\n",
              "10.0    1075\n",
              "9.0      843\n",
              "7.0      609\n",
              "12.0     249\n",
              "11.0     233\n",
              "Name: KitchenSquare, dtype: int64"
            ]
          },
          "metadata": {},
          "execution_count": 112
        }
      ]
    },
    {
      "cell_type": "markdown",
      "source": [
        "**HouseFloor, Floor**"
      ],
      "metadata": {
        "id": "oVbqwsBIEhUb"
      }
    },
    {
      "cell_type": "code",
      "source": [
        "train_df['HouseFloor'].sort_values().unique()"
      ],
      "metadata": {
        "colab": {
          "base_uri": "https://localhost:8080/"
        },
        "id": "WHAVC9WwEilm",
        "outputId": "24ba3a1e-9d7c-488a-8b3e-3bcf097afdbc"
      },
      "execution_count": 113,
      "outputs": [
        {
          "output_type": "execute_result",
          "data": {
            "text/plain": [
              "array([  0.,   1.,   2.,   3.,   4.,   5.,   6.,   7.,   8.,   9.,  10.,\n",
              "        11.,  12.,  13.,  14.,  15.,  16.,  17.,  18.,  19.,  20.,  21.,\n",
              "        22.,  23.,  24.,  25.,  26.,  27.,  28.,  29.,  30.,  31.,  32.,\n",
              "        36.,  37.,  38.,  39.,  40.,  44.,  45.,  47.,  48.,  99., 117.])"
            ]
          },
          "metadata": {},
          "execution_count": 113
        }
      ]
    },
    {
      "cell_type": "code",
      "source": [
        "train_df['Floor'].sort_values().unique()"
      ],
      "metadata": {
        "colab": {
          "base_uri": "https://localhost:8080/"
        },
        "id": "kZ4Fz0mqEk1u",
        "outputId": "5ccd8039-b86f-4bc2-f2a6-afce6055c3b5"
      },
      "execution_count": 114,
      "outputs": [
        {
          "output_type": "execute_result",
          "data": {
            "text/plain": [
              "array([ 1,  2,  3,  4,  5,  6,  7,  8,  9, 10, 11, 12, 13, 14, 15, 16, 17,\n",
              "       18, 19, 20, 21, 22, 23, 24, 25, 26, 27, 28, 31, 32, 33, 37, 42])"
            ]
          },
          "metadata": {},
          "execution_count": 114
        }
      ]
    },
    {
      "cell_type": "code",
      "source": [
        "(train_df['Floor'] > train_df['HouseFloor']).sum()"
      ],
      "metadata": {
        "colab": {
          "base_uri": "https://localhost:8080/"
        },
        "id": "jxjz8xI6EnWF",
        "outputId": "50213f61-f1e4-4726-80bb-99653e7f62ed"
      },
      "execution_count": 115,
      "outputs": [
        {
          "output_type": "execute_result",
          "data": {
            "text/plain": [
              "1825"
            ]
          },
          "metadata": {},
          "execution_count": 115
        }
      ]
    },
    {
      "cell_type": "code",
      "source": [
        "train_df['HouseFloor_outlier'] = 0\n",
        "train_df.loc[train_df['HouseFloor'] == 0, 'HouseFloor_outlier'] = 1\n",
        "train_df.loc[train_df['Floor'] > train_df['HouseFloor'], 'HouseFloor_outlier'] = 1"
      ],
      "metadata": {
        "id": "vYZmvyzOEqW8"
      },
      "execution_count": 116,
      "outputs": []
    },
    {
      "cell_type": "code",
      "source": [
        "train_df.loc[train_df['HouseFloor'] == 0, 'HouseFloor'] = train_df['HouseFloor'].median()"
      ],
      "metadata": {
        "id": "2OzYE1k7EnNw"
      },
      "execution_count": 117,
      "outputs": []
    },
    {
      "cell_type": "code",
      "source": [
        "floor_outliers = train_df.loc[train_df['Floor'] > train_df['HouseFloor']].index\n",
        "floor_outliers"
      ],
      "metadata": {
        "colab": {
          "base_uri": "https://localhost:8080/"
        },
        "id": "o5w0JH4jEut4",
        "outputId": "15c17923-8e0c-4a6c-94cd-2e0b12e7b9a3"
      },
      "execution_count": 118,
      "outputs": [
        {
          "output_type": "execute_result",
          "data": {
            "text/plain": [
              "Int64Index([  17,   19,   21,   25,   26,   33,   34,   37,   39,   44,\n",
              "            ...\n",
              "            9913, 9921, 9930, 9931, 9938, 9953, 9960, 9968, 9970, 9975],\n",
              "           dtype='int64', length=1610)"
            ]
          },
          "metadata": {},
          "execution_count": 118
        }
      ]
    },
    {
      "cell_type": "code",
      "source": [
        "train_df.loc[floor_outliers, 'Floor'] = train_df.loc[floor_outliers, 'HouseFloor']"
      ],
      "metadata": {
        "id": "77_YV9XJEul1"
      },
      "execution_count": 119,
      "outputs": []
    },
    {
      "cell_type": "code",
      "source": [
        "(train_df['Floor'] > train_df['HouseFloor']).sum()"
      ],
      "metadata": {
        "colab": {
          "base_uri": "https://localhost:8080/"
        },
        "id": "lCHxaVHGEz0y",
        "outputId": "023ee302-89ca-4aaf-a946-50e3d899e11a"
      },
      "execution_count": 120,
      "outputs": [
        {
          "output_type": "execute_result",
          "data": {
            "text/plain": [
              "0"
            ]
          },
          "metadata": {},
          "execution_count": 120
        }
      ]
    },
    {
      "cell_type": "markdown",
      "source": [
        "**HouseYear**"
      ],
      "metadata": {
        "id": "OjXvvFH7E4ri"
      }
    },
    {
      "cell_type": "code",
      "source": [
        "train_df['HouseYear'].sort_values(ascending=False)"
      ],
      "metadata": {
        "colab": {
          "base_uri": "https://localhost:8080/"
        },
        "id": "oF1599N1E51W",
        "outputId": "5f27f4eb-6589-43e3-ad37-870552e40446"
      },
      "execution_count": 37,
      "outputs": [
        {
          "output_type": "execute_result",
          "data": {
            "text/plain": [
              "9163    20052011\n",
              "8828        4968\n",
              "7721        2020\n",
              "9122        2020\n",
              "7955        2020\n",
              "          ...   \n",
              "7610        1916\n",
              "6250        1914\n",
              "2066        1912\n",
              "2795        1912\n",
              "6794        1910\n",
              "Name: HouseYear, Length: 10000, dtype: int64"
            ]
          },
          "metadata": {},
          "execution_count": 37
        }
      ]
    },
    {
      "cell_type": "code",
      "source": [
        "train_df.loc[train_df['HouseYear'] > 2020, 'HouseYear'] = 2020"
      ],
      "metadata": {
        "id": "meLluGHhE6c3"
      },
      "execution_count": 121,
      "outputs": []
    },
    {
      "cell_type": "markdown",
      "source": [
        "### **3. Обработка пропусков**"
      ],
      "metadata": {
        "id": "LQCjNoj6sbln"
      }
    },
    {
      "cell_type": "code",
      "source": [
        "train_df.isna().sum()"
      ],
      "metadata": {
        "colab": {
          "base_uri": "https://localhost:8080/"
        },
        "id": "tviwB1F5sgnt",
        "outputId": "36409f16-c4f7-47f3-eee2-42a582189981"
      },
      "execution_count": 39,
      "outputs": [
        {
          "output_type": "execute_result",
          "data": {
            "text/plain": [
              "Id                       0\n",
              "DistrictId               0\n",
              "Rooms                    0\n",
              "Square                   0\n",
              "LifeSquare            2113\n",
              "KitchenSquare            0\n",
              "Floor                    0\n",
              "HouseFloor               0\n",
              "HouseYear                0\n",
              "Ecology_1                0\n",
              "Ecology_2                0\n",
              "Ecology_3                0\n",
              "Social_1                 0\n",
              "Social_2                 0\n",
              "Social_3                 0\n",
              "Healthcare_1          4798\n",
              "Helthcare_2              0\n",
              "Shops_1                  0\n",
              "Shops_2                  0\n",
              "Price                    0\n",
              "Rooms_outlier            0\n",
              "HouseFloor_outlier       0\n",
              "dtype: int64"
            ]
          },
          "metadata": {},
          "execution_count": 39
        }
      ]
    },
    {
      "cell_type": "code",
      "source": [
        "train_df[['Square', 'LifeSquare', 'KitchenSquare']].head(10)"
      ],
      "metadata": {
        "colab": {
          "base_uri": "https://localhost:8080/",
          "height": 363
        },
        "id": "SOUB_HBfsrOs",
        "outputId": "109c4f34-e1f0-4e0e-abeb-61694c6abe75"
      },
      "execution_count": 122,
      "outputs": [
        {
          "output_type": "execute_result",
          "data": {
            "text/plain": [
              "       Square  LifeSquare  KitchenSquare\n",
              "0  115.027311         NaN           10.0\n",
              "1   39.832524   23.169223            8.0\n",
              "2   78.342215   47.671972           10.0\n",
              "3   40.409907         NaN            5.0\n",
              "4   64.285067   38.562517            9.0\n",
              "5   62.528465   47.103833            6.0\n",
              "6   33.938750   21.772930            9.0\n",
              "7   50.391814   32.893256            8.0\n",
              "8   46.887892   44.628132            5.0\n",
              "9   79.867477   75.085125            5.0"
            ],
            "text/html": [
              "\n",
              "  <div id=\"df-ee6dfda8-3257-4d18-95b6-4ab9db7ad12e\">\n",
              "    <div class=\"colab-df-container\">\n",
              "      <div>\n",
              "<style scoped>\n",
              "    .dataframe tbody tr th:only-of-type {\n",
              "        vertical-align: middle;\n",
              "    }\n",
              "\n",
              "    .dataframe tbody tr th {\n",
              "        vertical-align: top;\n",
              "    }\n",
              "\n",
              "    .dataframe thead th {\n",
              "        text-align: right;\n",
              "    }\n",
              "</style>\n",
              "<table border=\"1\" class=\"dataframe\">\n",
              "  <thead>\n",
              "    <tr style=\"text-align: right;\">\n",
              "      <th></th>\n",
              "      <th>Square</th>\n",
              "      <th>LifeSquare</th>\n",
              "      <th>KitchenSquare</th>\n",
              "    </tr>\n",
              "  </thead>\n",
              "  <tbody>\n",
              "    <tr>\n",
              "      <th>0</th>\n",
              "      <td>115.027311</td>\n",
              "      <td>NaN</td>\n",
              "      <td>10.0</td>\n",
              "    </tr>\n",
              "    <tr>\n",
              "      <th>1</th>\n",
              "      <td>39.832524</td>\n",
              "      <td>23.169223</td>\n",
              "      <td>8.0</td>\n",
              "    </tr>\n",
              "    <tr>\n",
              "      <th>2</th>\n",
              "      <td>78.342215</td>\n",
              "      <td>47.671972</td>\n",
              "      <td>10.0</td>\n",
              "    </tr>\n",
              "    <tr>\n",
              "      <th>3</th>\n",
              "      <td>40.409907</td>\n",
              "      <td>NaN</td>\n",
              "      <td>5.0</td>\n",
              "    </tr>\n",
              "    <tr>\n",
              "      <th>4</th>\n",
              "      <td>64.285067</td>\n",
              "      <td>38.562517</td>\n",
              "      <td>9.0</td>\n",
              "    </tr>\n",
              "    <tr>\n",
              "      <th>5</th>\n",
              "      <td>62.528465</td>\n",
              "      <td>47.103833</td>\n",
              "      <td>6.0</td>\n",
              "    </tr>\n",
              "    <tr>\n",
              "      <th>6</th>\n",
              "      <td>33.938750</td>\n",
              "      <td>21.772930</td>\n",
              "      <td>9.0</td>\n",
              "    </tr>\n",
              "    <tr>\n",
              "      <th>7</th>\n",
              "      <td>50.391814</td>\n",
              "      <td>32.893256</td>\n",
              "      <td>8.0</td>\n",
              "    </tr>\n",
              "    <tr>\n",
              "      <th>8</th>\n",
              "      <td>46.887892</td>\n",
              "      <td>44.628132</td>\n",
              "      <td>5.0</td>\n",
              "    </tr>\n",
              "    <tr>\n",
              "      <th>9</th>\n",
              "      <td>79.867477</td>\n",
              "      <td>75.085125</td>\n",
              "      <td>5.0</td>\n",
              "    </tr>\n",
              "  </tbody>\n",
              "</table>\n",
              "</div>\n",
              "      <button class=\"colab-df-convert\" onclick=\"convertToInteractive('df-ee6dfda8-3257-4d18-95b6-4ab9db7ad12e')\"\n",
              "              title=\"Convert this dataframe to an interactive table.\"\n",
              "              style=\"display:none;\">\n",
              "        \n",
              "  <svg xmlns=\"http://www.w3.org/2000/svg\" height=\"24px\"viewBox=\"0 0 24 24\"\n",
              "       width=\"24px\">\n",
              "    <path d=\"M0 0h24v24H0V0z\" fill=\"none\"/>\n",
              "    <path d=\"M18.56 5.44l.94 2.06.94-2.06 2.06-.94-2.06-.94-.94-2.06-.94 2.06-2.06.94zm-11 1L8.5 8.5l.94-2.06 2.06-.94-2.06-.94L8.5 2.5l-.94 2.06-2.06.94zm10 10l.94 2.06.94-2.06 2.06-.94-2.06-.94-.94-2.06-.94 2.06-2.06.94z\"/><path d=\"M17.41 7.96l-1.37-1.37c-.4-.4-.92-.59-1.43-.59-.52 0-1.04.2-1.43.59L10.3 9.45l-7.72 7.72c-.78.78-.78 2.05 0 2.83L4 21.41c.39.39.9.59 1.41.59.51 0 1.02-.2 1.41-.59l7.78-7.78 2.81-2.81c.8-.78.8-2.07 0-2.86zM5.41 20L4 18.59l7.72-7.72 1.47 1.35L5.41 20z\"/>\n",
              "  </svg>\n",
              "      </button>\n",
              "      \n",
              "  <style>\n",
              "    .colab-df-container {\n",
              "      display:flex;\n",
              "      flex-wrap:wrap;\n",
              "      gap: 12px;\n",
              "    }\n",
              "\n",
              "    .colab-df-convert {\n",
              "      background-color: #E8F0FE;\n",
              "      border: none;\n",
              "      border-radius: 50%;\n",
              "      cursor: pointer;\n",
              "      display: none;\n",
              "      fill: #1967D2;\n",
              "      height: 32px;\n",
              "      padding: 0 0 0 0;\n",
              "      width: 32px;\n",
              "    }\n",
              "\n",
              "    .colab-df-convert:hover {\n",
              "      background-color: #E2EBFA;\n",
              "      box-shadow: 0px 1px 2px rgba(60, 64, 67, 0.3), 0px 1px 3px 1px rgba(60, 64, 67, 0.15);\n",
              "      fill: #174EA6;\n",
              "    }\n",
              "\n",
              "    [theme=dark] .colab-df-convert {\n",
              "      background-color: #3B4455;\n",
              "      fill: #D2E3FC;\n",
              "    }\n",
              "\n",
              "    [theme=dark] .colab-df-convert:hover {\n",
              "      background-color: #434B5C;\n",
              "      box-shadow: 0px 1px 3px 1px rgba(0, 0, 0, 0.15);\n",
              "      filter: drop-shadow(0px 1px 2px rgba(0, 0, 0, 0.3));\n",
              "      fill: #FFFFFF;\n",
              "    }\n",
              "  </style>\n",
              "\n",
              "      <script>\n",
              "        const buttonEl =\n",
              "          document.querySelector('#df-ee6dfda8-3257-4d18-95b6-4ab9db7ad12e button.colab-df-convert');\n",
              "        buttonEl.style.display =\n",
              "          google.colab.kernel.accessAllowed ? 'block' : 'none';\n",
              "\n",
              "        async function convertToInteractive(key) {\n",
              "          const element = document.querySelector('#df-ee6dfda8-3257-4d18-95b6-4ab9db7ad12e');\n",
              "          const dataTable =\n",
              "            await google.colab.kernel.invokeFunction('convertToInteractive',\n",
              "                                                     [key], {});\n",
              "          if (!dataTable) return;\n",
              "\n",
              "          const docLinkHtml = 'Like what you see? Visit the ' +\n",
              "            '<a target=\"_blank\" href=https://colab.research.google.com/notebooks/data_table.ipynb>data table notebook</a>'\n",
              "            + ' to learn more about interactive tables.';\n",
              "          element.innerHTML = '';\n",
              "          dataTable['output_type'] = 'display_data';\n",
              "          await google.colab.output.renderOutput(dataTable, element);\n",
              "          const docLink = document.createElement('div');\n",
              "          docLink.innerHTML = docLinkHtml;\n",
              "          element.appendChild(docLink);\n",
              "        }\n",
              "      </script>\n",
              "    </div>\n",
              "  </div>\n",
              "  "
            ]
          },
          "metadata": {},
          "execution_count": 122
        }
      ]
    },
    {
      "cell_type": "markdown",
      "source": [
        "**LifeSquare**"
      ],
      "metadata": {
        "id": "e8ds7xRtjooa"
      }
    },
    {
      "cell_type": "code",
      "source": [
        "train_df['LifeSquare_nan'] = train_df['LifeSquare'].isna() * 1\n",
        "\n",
        "condition = (train_df['LifeSquare'].isna()) \\\n",
        "             & (~train_df['Square'].isna()) \\\n",
        "             & (~train_df['KitchenSquare'].isna())\n",
        "        \n",
        "condition.sum()"
      ],
      "metadata": {
        "id": "4yqVFl15s7lc",
        "colab": {
          "base_uri": "https://localhost:8080/"
        },
        "outputId": "0706547b-17b5-4285-9719-27cc725cdef3"
      },
      "execution_count": 123,
      "outputs": [
        {
          "output_type": "execute_result",
          "data": {
            "text/plain": [
              "2113"
            ]
          },
          "metadata": {},
          "execution_count": 123
        }
      ]
    },
    {
      "cell_type": "code",
      "source": [
        "train_df.loc[condition, 'LifeSquare'] = train_df.loc[condition, 'Square'] \\\n",
        "                                            - train_df.loc[condition, 'KitchenSquare'] - 3"
      ],
      "metadata": {
        "id": "JCh4-Va0s9oR"
      },
      "execution_count": 125,
      "outputs": []
    },
    {
      "cell_type": "code",
      "source": [
        "condition = (train_df['LifeSquare'].isna()) \\\n",
        "             & (~train_df['Square'].isna()) \\\n",
        "             & (~train_df['KitchenSquare'].isna())\n",
        "        \n",
        "condition.sum()"
      ],
      "metadata": {
        "colab": {
          "base_uri": "https://localhost:8080/"
        },
        "id": "sfCbKavhjhqv",
        "outputId": "ce2447e9-1177-4ca7-da65-f1b42a8f4875"
      },
      "execution_count": 126,
      "outputs": [
        {
          "output_type": "execute_result",
          "data": {
            "text/plain": [
              "0"
            ]
          },
          "metadata": {},
          "execution_count": 126
        }
      ]
    },
    {
      "cell_type": "markdown",
      "source": [
        "**Healthcare_1**"
      ],
      "metadata": {
        "id": "Pdzj7j2pj1OB"
      }
    },
    {
      "cell_type": "code",
      "source": [
        "train_df['Healthcare_1'].value_counts().sort_index()"
      ],
      "metadata": {
        "colab": {
          "base_uri": "https://localhost:8080/"
        },
        "id": "efVmR08Nj2dw",
        "outputId": "95aea395-3f1c-4aa2-9474-4ed5880a339f"
      },
      "execution_count": 127,
      "outputs": [
        {
          "output_type": "execute_result",
          "data": {
            "text/plain": [
              "0.0         1\n",
              "30.0      348\n",
              "32.0       12\n",
              "35.0        2\n",
              "46.0       49\n",
              "         ... \n",
              "4087.0     45\n",
              "4129.0     37\n",
              "4508.0     46\n",
              "4702.0     27\n",
              "4849.0     15\n",
              "Name: Healthcare_1, Length: 79, dtype: int64"
            ]
          },
          "metadata": {},
          "execution_count": 127
        }
      ]
    },
    {
      "cell_type": "code",
      "source": [
        "train_df['Healthcare_1'].fillna(0, inplace=True)"
      ],
      "metadata": {
        "id": "PTxJ9XrCj_0R"
      },
      "execution_count": 128,
      "outputs": []
    },
    {
      "cell_type": "code",
      "source": [
        "class DataPreprocessing:\n",
        "    \"\"\"Class for train and test datasets preprocessing\"\"\"\n",
        "\n",
        "    def __init__(self, kitchen_square_quantile=0.975, kitchen_square_min_threshold=3, balcony_square=3):\n",
        "        \"\"\"Preprocessing parameters\"\"\"\n",
        "        self.medians = None\n",
        "        self.kitchen_square_quantile = kitchen_square_quantile\n",
        "        self.kitchen_square_min_threshold = kitchen_square_min_threshold\n",
        "        self.balcony_square = balcony_square\n",
        "    \n",
        "    def fit(self, X):\n",
        "        \"\"\"Get statistics\"\"\"\n",
        "        self.medians = X.median()\n",
        "        self.kitchen_square_quantile = X['KitchenSquare'].quantile(self.kitchen_square_quantile)\n",
        "    \n",
        "    def transform(self, X):\n",
        "        \"\"\"Transform data\"\"\"\n",
        "\n",
        "        # Rooms\n",
        "        X['Rooms_outlier'] = 0\n",
        "        X.loc[(X['Rooms'] == 0) | (X['Rooms'] >= 6), 'Rooms_outlier'] = 1\n",
        "        \n",
        "        X.loc[X['Rooms'] == 0, 'Rooms'] = 1\n",
        "        X.loc[X['Rooms'] >= 6, 'Rooms'] = self.medians['Rooms']\n",
        "        \n",
        "        # KitchenSquare\n",
        "        condition = (X['KitchenSquare'].isna()) \\\n",
        "                    | (X['KitchenSquare'] > self.kitchen_square_quantile)\n",
        "        \n",
        "        X.loc[condition, 'KitchenSquare'] = self.medians['KitchenSquare']\n",
        "\n",
        "        X.loc[X['KitchenSquare'] < self.kitchen_square_min_threshold, 'KitchenSquare'] = self.kitchen_square_min_threshold\n",
        "        \n",
        "        # HouseFloor, Floor\n",
        "        X['HouseFloor_outlier'] = 0\n",
        "        X.loc[X['HouseFloor'] == 0, 'HouseFloor_outlier'] = 1\n",
        "        X.loc[X['Floor'] > X['HouseFloor'], 'HouseFloor_outlier'] = 1\n",
        "        \n",
        "        X.loc[X['HouseFloor'] == 0, 'HouseFloor'] = self.medians['HouseFloor']\n",
        "        \n",
        "        floor_outliers = X.loc[X['Floor'] > X['HouseFloor']].index\n",
        "        X.loc[floor_outliers, 'Floor'] = X.loc[floor_outliers, 'HouseFloor']\n",
        "        \n",
        "        # HouseYear\n",
        "        current_year = datetime.now().year\n",
        "        \n",
        "        X['HouseYear_outlier'] = 0\n",
        "        X.loc[X['HouseYear'] > current_year, 'HouseYear_outlier'] = 1\n",
        "        \n",
        "        X.loc[X['HouseYear'] > current_year, 'HouseYear'] = current_year\n",
        "        \n",
        "        # Healthcare_1\n",
        "        X['Healthcare_1'].fillna(0, inplace=True)\n",
        "        \n",
        "        # LifeSquare\n",
        "        X['LifeSquare_nan'] = X['LifeSquare'].isna() * 1\n",
        "        condition = (X['LifeSquare'].isna()) & \\\n",
        "                      (~X['Square'].isna()) & \\\n",
        "                      (~X['KitchenSquare'].isna())\n",
        "        \n",
        "        X.loc[condition, 'LifeSquare'] = X.loc[condition, 'Square'] - X.loc[condition, 'KitchenSquare'] - self.balcony_square\n",
        "        \n",
        "        \n",
        "        X.fillna(self.medians, inplace=True)\n",
        "        \n",
        "        return X"
      ],
      "metadata": {
        "id": "44qp2RnitCre"
      },
      "execution_count": 129,
      "outputs": []
    },
    {
      "cell_type": "markdown",
      "source": [
        "### **4. Построение новых признаков**"
      ],
      "metadata": {
        "id": "iG5we4M9Fana"
      }
    },
    {
      "cell_type": "markdown",
      "source": [
        "**Dummies**"
      ],
      "metadata": {
        "id": "D03lDkP-FsF5"
      }
    },
    {
      "cell_type": "code",
      "source": [
        "binary_to_numbers = {'A': 0, 'B': 1}\n",
        "\n",
        "train_df['Ecology_2'] = train_df['Ecology_2'].replace(binary_to_numbers)\n",
        "train_df['Ecology_3'] = train_df['Ecology_3'].replace(binary_to_numbers)\n",
        "train_df['Shops_2'] = train_df['Shops_2'].replace(binary_to_numbers)"
      ],
      "metadata": {
        "id": "13ZYFvOpFlR9"
      },
      "execution_count": 44,
      "outputs": []
    },
    {
      "cell_type": "markdown",
      "source": [
        "**DistrictSize, IsDistrictLarge**"
      ],
      "metadata": {
        "id": "uFA2_ayMF4bT"
      }
    },
    {
      "cell_type": "code",
      "source": [
        "district_size = train_df['DistrictId'].value_counts().reset_index()\\\n",
        "                    .rename(columns={'index':'DistrictId', 'DistrictId':'DistrictSize'})\n",
        "\n",
        "district_size.head()"
      ],
      "metadata": {
        "colab": {
          "base_uri": "https://localhost:8080/",
          "height": 206
        },
        "id": "moXf9PAFF3s2",
        "outputId": "3c3ad0ba-ebfd-4b85-caa2-5d4d5eb25cb9"
      },
      "execution_count": 45,
      "outputs": [
        {
          "output_type": "execute_result",
          "data": {
            "text/plain": [
              "  DistrictId  DistrictSize\n",
              "0         27           851\n",
              "1          1           652\n",
              "2         23           565\n",
              "3          6           511\n",
              "4          9           294"
            ],
            "text/html": [
              "\n",
              "  <div id=\"df-f51895e9-33e0-4f02-8cf1-d98f98d5479b\">\n",
              "    <div class=\"colab-df-container\">\n",
              "      <div>\n",
              "<style scoped>\n",
              "    .dataframe tbody tr th:only-of-type {\n",
              "        vertical-align: middle;\n",
              "    }\n",
              "\n",
              "    .dataframe tbody tr th {\n",
              "        vertical-align: top;\n",
              "    }\n",
              "\n",
              "    .dataframe thead th {\n",
              "        text-align: right;\n",
              "    }\n",
              "</style>\n",
              "<table border=\"1\" class=\"dataframe\">\n",
              "  <thead>\n",
              "    <tr style=\"text-align: right;\">\n",
              "      <th></th>\n",
              "      <th>DistrictId</th>\n",
              "      <th>DistrictSize</th>\n",
              "    </tr>\n",
              "  </thead>\n",
              "  <tbody>\n",
              "    <tr>\n",
              "      <th>0</th>\n",
              "      <td>27</td>\n",
              "      <td>851</td>\n",
              "    </tr>\n",
              "    <tr>\n",
              "      <th>1</th>\n",
              "      <td>1</td>\n",
              "      <td>652</td>\n",
              "    </tr>\n",
              "    <tr>\n",
              "      <th>2</th>\n",
              "      <td>23</td>\n",
              "      <td>565</td>\n",
              "    </tr>\n",
              "    <tr>\n",
              "      <th>3</th>\n",
              "      <td>6</td>\n",
              "      <td>511</td>\n",
              "    </tr>\n",
              "    <tr>\n",
              "      <th>4</th>\n",
              "      <td>9</td>\n",
              "      <td>294</td>\n",
              "    </tr>\n",
              "  </tbody>\n",
              "</table>\n",
              "</div>\n",
              "      <button class=\"colab-df-convert\" onclick=\"convertToInteractive('df-f51895e9-33e0-4f02-8cf1-d98f98d5479b')\"\n",
              "              title=\"Convert this dataframe to an interactive table.\"\n",
              "              style=\"display:none;\">\n",
              "        \n",
              "  <svg xmlns=\"http://www.w3.org/2000/svg\" height=\"24px\"viewBox=\"0 0 24 24\"\n",
              "       width=\"24px\">\n",
              "    <path d=\"M0 0h24v24H0V0z\" fill=\"none\"/>\n",
              "    <path d=\"M18.56 5.44l.94 2.06.94-2.06 2.06-.94-2.06-.94-.94-2.06-.94 2.06-2.06.94zm-11 1L8.5 8.5l.94-2.06 2.06-.94-2.06-.94L8.5 2.5l-.94 2.06-2.06.94zm10 10l.94 2.06.94-2.06 2.06-.94-2.06-.94-.94-2.06-.94 2.06-2.06.94z\"/><path d=\"M17.41 7.96l-1.37-1.37c-.4-.4-.92-.59-1.43-.59-.52 0-1.04.2-1.43.59L10.3 9.45l-7.72 7.72c-.78.78-.78 2.05 0 2.83L4 21.41c.39.39.9.59 1.41.59.51 0 1.02-.2 1.41-.59l7.78-7.78 2.81-2.81c.8-.78.8-2.07 0-2.86zM5.41 20L4 18.59l7.72-7.72 1.47 1.35L5.41 20z\"/>\n",
              "  </svg>\n",
              "      </button>\n",
              "      \n",
              "  <style>\n",
              "    .colab-df-container {\n",
              "      display:flex;\n",
              "      flex-wrap:wrap;\n",
              "      gap: 12px;\n",
              "    }\n",
              "\n",
              "    .colab-df-convert {\n",
              "      background-color: #E8F0FE;\n",
              "      border: none;\n",
              "      border-radius: 50%;\n",
              "      cursor: pointer;\n",
              "      display: none;\n",
              "      fill: #1967D2;\n",
              "      height: 32px;\n",
              "      padding: 0 0 0 0;\n",
              "      width: 32px;\n",
              "    }\n",
              "\n",
              "    .colab-df-convert:hover {\n",
              "      background-color: #E2EBFA;\n",
              "      box-shadow: 0px 1px 2px rgba(60, 64, 67, 0.3), 0px 1px 3px 1px rgba(60, 64, 67, 0.15);\n",
              "      fill: #174EA6;\n",
              "    }\n",
              "\n",
              "    [theme=dark] .colab-df-convert {\n",
              "      background-color: #3B4455;\n",
              "      fill: #D2E3FC;\n",
              "    }\n",
              "\n",
              "    [theme=dark] .colab-df-convert:hover {\n",
              "      background-color: #434B5C;\n",
              "      box-shadow: 0px 1px 3px 1px rgba(0, 0, 0, 0.15);\n",
              "      filter: drop-shadow(0px 1px 2px rgba(0, 0, 0, 0.3));\n",
              "      fill: #FFFFFF;\n",
              "    }\n",
              "  </style>\n",
              "\n",
              "      <script>\n",
              "        const buttonEl =\n",
              "          document.querySelector('#df-f51895e9-33e0-4f02-8cf1-d98f98d5479b button.colab-df-convert');\n",
              "        buttonEl.style.display =\n",
              "          google.colab.kernel.accessAllowed ? 'block' : 'none';\n",
              "\n",
              "        async function convertToInteractive(key) {\n",
              "          const element = document.querySelector('#df-f51895e9-33e0-4f02-8cf1-d98f98d5479b');\n",
              "          const dataTable =\n",
              "            await google.colab.kernel.invokeFunction('convertToInteractive',\n",
              "                                                     [key], {});\n",
              "          if (!dataTable) return;\n",
              "\n",
              "          const docLinkHtml = 'Like what you see? Visit the ' +\n",
              "            '<a target=\"_blank\" href=https://colab.research.google.com/notebooks/data_table.ipynb>data table notebook</a>'\n",
              "            + ' to learn more about interactive tables.';\n",
              "          element.innerHTML = '';\n",
              "          dataTable['output_type'] = 'display_data';\n",
              "          await google.colab.output.renderOutput(dataTable, element);\n",
              "          const docLink = document.createElement('div');\n",
              "          docLink.innerHTML = docLinkHtml;\n",
              "          element.appendChild(docLink);\n",
              "        }\n",
              "      </script>\n",
              "    </div>\n",
              "  </div>\n",
              "  "
            ]
          },
          "metadata": {},
          "execution_count": 45
        }
      ]
    },
    {
      "cell_type": "code",
      "source": [
        "train_df = train_df.merge(district_size, on='DistrictId', how='left')\n",
        "train_df.head()"
      ],
      "metadata": {
        "colab": {
          "base_uri": "https://localhost:8080/",
          "height": 299
        },
        "id": "koUmPwFAF9XX",
        "outputId": "d1778c3b-2145-45a7-827d-832e7e803282"
      },
      "execution_count": 46,
      "outputs": [
        {
          "output_type": "execute_result",
          "data": {
            "text/plain": [
              "      Id DistrictId  Rooms      Square  LifeSquare  KitchenSquare  Floor  \\\n",
              "0  11809         27    3.0  115.027311  102.027311           10.0      4   \n",
              "1   3013         22    1.0   39.832524   23.169223            8.0      7   \n",
              "2   8215          1    3.0   78.342215   47.671972           10.0      2   \n",
              "3   2352          1    1.0   40.409907   34.409907            3.0     10   \n",
              "4  13866         94    2.0   64.285067   38.562517            9.0     16   \n",
              "\n",
              "   HouseFloor  HouseYear  Ecology_1  ...  Social_2  Social_3  Helthcare_2  \\\n",
              "0        10.0       2014   0.075424  ...      3097         0            0   \n",
              "1         8.0       1966   0.118537  ...      6207         1            1   \n",
              "2        17.0       1988   0.025609  ...      5261         0            3   \n",
              "3        22.0       1977   0.007122  ...       264         0            0   \n",
              "4        16.0       1972   0.282798  ...      8667         2            0   \n",
              "\n",
              "   Shops_1  Shops_2          Price  Rooms_outlier  HouseFloor_outlier  \\\n",
              "0        0        1  305018.871089              0                   0   \n",
              "1        0        1  177734.553407              0                   0   \n",
              "2        1        1  282078.720850              0                   0   \n",
              "3        1        1  168106.007630              0                   0   \n",
              "4        6        1  343995.102962              0                   0   \n",
              "\n",
              "   LifeSquare_nan  DistrictSize  \n",
              "0               1           851  \n",
              "1               0            78  \n",
              "2               0           652  \n",
              "3               1           652  \n",
              "4               0            89  \n",
              "\n",
              "[5 rows x 23 columns]"
            ],
            "text/html": [
              "\n",
              "  <div id=\"df-f83a984e-3f57-431e-af24-6dc9f8f515f5\">\n",
              "    <div class=\"colab-df-container\">\n",
              "      <div>\n",
              "<style scoped>\n",
              "    .dataframe tbody tr th:only-of-type {\n",
              "        vertical-align: middle;\n",
              "    }\n",
              "\n",
              "    .dataframe tbody tr th {\n",
              "        vertical-align: top;\n",
              "    }\n",
              "\n",
              "    .dataframe thead th {\n",
              "        text-align: right;\n",
              "    }\n",
              "</style>\n",
              "<table border=\"1\" class=\"dataframe\">\n",
              "  <thead>\n",
              "    <tr style=\"text-align: right;\">\n",
              "      <th></th>\n",
              "      <th>Id</th>\n",
              "      <th>DistrictId</th>\n",
              "      <th>Rooms</th>\n",
              "      <th>Square</th>\n",
              "      <th>LifeSquare</th>\n",
              "      <th>KitchenSquare</th>\n",
              "      <th>Floor</th>\n",
              "      <th>HouseFloor</th>\n",
              "      <th>HouseYear</th>\n",
              "      <th>Ecology_1</th>\n",
              "      <th>...</th>\n",
              "      <th>Social_2</th>\n",
              "      <th>Social_3</th>\n",
              "      <th>Helthcare_2</th>\n",
              "      <th>Shops_1</th>\n",
              "      <th>Shops_2</th>\n",
              "      <th>Price</th>\n",
              "      <th>Rooms_outlier</th>\n",
              "      <th>HouseFloor_outlier</th>\n",
              "      <th>LifeSquare_nan</th>\n",
              "      <th>DistrictSize</th>\n",
              "    </tr>\n",
              "  </thead>\n",
              "  <tbody>\n",
              "    <tr>\n",
              "      <th>0</th>\n",
              "      <td>11809</td>\n",
              "      <td>27</td>\n",
              "      <td>3.0</td>\n",
              "      <td>115.027311</td>\n",
              "      <td>102.027311</td>\n",
              "      <td>10.0</td>\n",
              "      <td>4</td>\n",
              "      <td>10.0</td>\n",
              "      <td>2014</td>\n",
              "      <td>0.075424</td>\n",
              "      <td>...</td>\n",
              "      <td>3097</td>\n",
              "      <td>0</td>\n",
              "      <td>0</td>\n",
              "      <td>0</td>\n",
              "      <td>1</td>\n",
              "      <td>305018.871089</td>\n",
              "      <td>0</td>\n",
              "      <td>0</td>\n",
              "      <td>1</td>\n",
              "      <td>851</td>\n",
              "    </tr>\n",
              "    <tr>\n",
              "      <th>1</th>\n",
              "      <td>3013</td>\n",
              "      <td>22</td>\n",
              "      <td>1.0</td>\n",
              "      <td>39.832524</td>\n",
              "      <td>23.169223</td>\n",
              "      <td>8.0</td>\n",
              "      <td>7</td>\n",
              "      <td>8.0</td>\n",
              "      <td>1966</td>\n",
              "      <td>0.118537</td>\n",
              "      <td>...</td>\n",
              "      <td>6207</td>\n",
              "      <td>1</td>\n",
              "      <td>1</td>\n",
              "      <td>0</td>\n",
              "      <td>1</td>\n",
              "      <td>177734.553407</td>\n",
              "      <td>0</td>\n",
              "      <td>0</td>\n",
              "      <td>0</td>\n",
              "      <td>78</td>\n",
              "    </tr>\n",
              "    <tr>\n",
              "      <th>2</th>\n",
              "      <td>8215</td>\n",
              "      <td>1</td>\n",
              "      <td>3.0</td>\n",
              "      <td>78.342215</td>\n",
              "      <td>47.671972</td>\n",
              "      <td>10.0</td>\n",
              "      <td>2</td>\n",
              "      <td>17.0</td>\n",
              "      <td>1988</td>\n",
              "      <td>0.025609</td>\n",
              "      <td>...</td>\n",
              "      <td>5261</td>\n",
              "      <td>0</td>\n",
              "      <td>3</td>\n",
              "      <td>1</td>\n",
              "      <td>1</td>\n",
              "      <td>282078.720850</td>\n",
              "      <td>0</td>\n",
              "      <td>0</td>\n",
              "      <td>0</td>\n",
              "      <td>652</td>\n",
              "    </tr>\n",
              "    <tr>\n",
              "      <th>3</th>\n",
              "      <td>2352</td>\n",
              "      <td>1</td>\n",
              "      <td>1.0</td>\n",
              "      <td>40.409907</td>\n",
              "      <td>34.409907</td>\n",
              "      <td>3.0</td>\n",
              "      <td>10</td>\n",
              "      <td>22.0</td>\n",
              "      <td>1977</td>\n",
              "      <td>0.007122</td>\n",
              "      <td>...</td>\n",
              "      <td>264</td>\n",
              "      <td>0</td>\n",
              "      <td>0</td>\n",
              "      <td>1</td>\n",
              "      <td>1</td>\n",
              "      <td>168106.007630</td>\n",
              "      <td>0</td>\n",
              "      <td>0</td>\n",
              "      <td>1</td>\n",
              "      <td>652</td>\n",
              "    </tr>\n",
              "    <tr>\n",
              "      <th>4</th>\n",
              "      <td>13866</td>\n",
              "      <td>94</td>\n",
              "      <td>2.0</td>\n",
              "      <td>64.285067</td>\n",
              "      <td>38.562517</td>\n",
              "      <td>9.0</td>\n",
              "      <td>16</td>\n",
              "      <td>16.0</td>\n",
              "      <td>1972</td>\n",
              "      <td>0.282798</td>\n",
              "      <td>...</td>\n",
              "      <td>8667</td>\n",
              "      <td>2</td>\n",
              "      <td>0</td>\n",
              "      <td>6</td>\n",
              "      <td>1</td>\n",
              "      <td>343995.102962</td>\n",
              "      <td>0</td>\n",
              "      <td>0</td>\n",
              "      <td>0</td>\n",
              "      <td>89</td>\n",
              "    </tr>\n",
              "  </tbody>\n",
              "</table>\n",
              "<p>5 rows × 23 columns</p>\n",
              "</div>\n",
              "      <button class=\"colab-df-convert\" onclick=\"convertToInteractive('df-f83a984e-3f57-431e-af24-6dc9f8f515f5')\"\n",
              "              title=\"Convert this dataframe to an interactive table.\"\n",
              "              style=\"display:none;\">\n",
              "        \n",
              "  <svg xmlns=\"http://www.w3.org/2000/svg\" height=\"24px\"viewBox=\"0 0 24 24\"\n",
              "       width=\"24px\">\n",
              "    <path d=\"M0 0h24v24H0V0z\" fill=\"none\"/>\n",
              "    <path d=\"M18.56 5.44l.94 2.06.94-2.06 2.06-.94-2.06-.94-.94-2.06-.94 2.06-2.06.94zm-11 1L8.5 8.5l.94-2.06 2.06-.94-2.06-.94L8.5 2.5l-.94 2.06-2.06.94zm10 10l.94 2.06.94-2.06 2.06-.94-2.06-.94-.94-2.06-.94 2.06-2.06.94z\"/><path d=\"M17.41 7.96l-1.37-1.37c-.4-.4-.92-.59-1.43-.59-.52 0-1.04.2-1.43.59L10.3 9.45l-7.72 7.72c-.78.78-.78 2.05 0 2.83L4 21.41c.39.39.9.59 1.41.59.51 0 1.02-.2 1.41-.59l7.78-7.78 2.81-2.81c.8-.78.8-2.07 0-2.86zM5.41 20L4 18.59l7.72-7.72 1.47 1.35L5.41 20z\"/>\n",
              "  </svg>\n",
              "      </button>\n",
              "      \n",
              "  <style>\n",
              "    .colab-df-container {\n",
              "      display:flex;\n",
              "      flex-wrap:wrap;\n",
              "      gap: 12px;\n",
              "    }\n",
              "\n",
              "    .colab-df-convert {\n",
              "      background-color: #E8F0FE;\n",
              "      border: none;\n",
              "      border-radius: 50%;\n",
              "      cursor: pointer;\n",
              "      display: none;\n",
              "      fill: #1967D2;\n",
              "      height: 32px;\n",
              "      padding: 0 0 0 0;\n",
              "      width: 32px;\n",
              "    }\n",
              "\n",
              "    .colab-df-convert:hover {\n",
              "      background-color: #E2EBFA;\n",
              "      box-shadow: 0px 1px 2px rgba(60, 64, 67, 0.3), 0px 1px 3px 1px rgba(60, 64, 67, 0.15);\n",
              "      fill: #174EA6;\n",
              "    }\n",
              "\n",
              "    [theme=dark] .colab-df-convert {\n",
              "      background-color: #3B4455;\n",
              "      fill: #D2E3FC;\n",
              "    }\n",
              "\n",
              "    [theme=dark] .colab-df-convert:hover {\n",
              "      background-color: #434B5C;\n",
              "      box-shadow: 0px 1px 3px 1px rgba(0, 0, 0, 0.15);\n",
              "      filter: drop-shadow(0px 1px 2px rgba(0, 0, 0, 0.3));\n",
              "      fill: #FFFFFF;\n",
              "    }\n",
              "  </style>\n",
              "\n",
              "      <script>\n",
              "        const buttonEl =\n",
              "          document.querySelector('#df-f83a984e-3f57-431e-af24-6dc9f8f515f5 button.colab-df-convert');\n",
              "        buttonEl.style.display =\n",
              "          google.colab.kernel.accessAllowed ? 'block' : 'none';\n",
              "\n",
              "        async function convertToInteractive(key) {\n",
              "          const element = document.querySelector('#df-f83a984e-3f57-431e-af24-6dc9f8f515f5');\n",
              "          const dataTable =\n",
              "            await google.colab.kernel.invokeFunction('convertToInteractive',\n",
              "                                                     [key], {});\n",
              "          if (!dataTable) return;\n",
              "\n",
              "          const docLinkHtml = 'Like what you see? Visit the ' +\n",
              "            '<a target=\"_blank\" href=https://colab.research.google.com/notebooks/data_table.ipynb>data table notebook</a>'\n",
              "            + ' to learn more about interactive tables.';\n",
              "          element.innerHTML = '';\n",
              "          dataTable['output_type'] = 'display_data';\n",
              "          await google.colab.output.renderOutput(dataTable, element);\n",
              "          const docLink = document.createElement('div');\n",
              "          docLink.innerHTML = docLinkHtml;\n",
              "          element.appendChild(docLink);\n",
              "        }\n",
              "      </script>\n",
              "    </div>\n",
              "  </div>\n",
              "  "
            ]
          },
          "metadata": {},
          "execution_count": 46
        }
      ]
    },
    {
      "cell_type": "code",
      "source": [
        "(train_df['DistrictSize'] > 100).value_counts()"
      ],
      "metadata": {
        "colab": {
          "base_uri": "https://localhost:8080/"
        },
        "id": "zGp_ULEgGfou",
        "outputId": "5b3ce6e9-ea35-4d54-b671-929a26b66efc"
      },
      "execution_count": 47,
      "outputs": [
        {
          "output_type": "execute_result",
          "data": {
            "text/plain": [
              "True     5069\n",
              "False    4931\n",
              "Name: DistrictSize, dtype: int64"
            ]
          },
          "metadata": {},
          "execution_count": 47
        }
      ]
    },
    {
      "cell_type": "code",
      "source": [
        "train_df['IsDistrictLarge'] = (train_df['DistrictSize'] > 100).astype(int)"
      ],
      "metadata": {
        "id": "frDXiO4rGjkD"
      },
      "execution_count": 48,
      "outputs": []
    },
    {
      "cell_type": "markdown",
      "source": [
        "**MedPriceByDistrict**"
      ],
      "metadata": {
        "id": "3wfPxWAjGnOk"
      }
    },
    {
      "cell_type": "code",
      "source": [
        "med_price_by_district = train_df.groupby(['DistrictId'], as_index=False).agg({'Price':'median'})\\\n",
        "                            .rename(columns={'Price':'MedPriceByDistrict'})\n",
        "\n",
        "med_price_by_district.head()"
      ],
      "metadata": {
        "colab": {
          "base_uri": "https://localhost:8080/",
          "height": 206
        },
        "id": "1bN22kmwGpxD",
        "outputId": "06d17cb9-6cfc-4427-f90d-d7d448a0def3"
      },
      "execution_count": 130,
      "outputs": [
        {
          "output_type": "execute_result",
          "data": {
            "text/plain": [
              "  DistrictId  MedPriceByDistrict\n",
              "0          0       165963.054142\n",
              "1          1       183663.443595\n",
              "2         10       217749.656911\n",
              "3        100       234032.836228\n",
              "4        101       184276.502773"
            ],
            "text/html": [
              "\n",
              "  <div id=\"df-61d3a6fd-55dd-4e90-bc91-dd9a0cd0fc24\">\n",
              "    <div class=\"colab-df-container\">\n",
              "      <div>\n",
              "<style scoped>\n",
              "    .dataframe tbody tr th:only-of-type {\n",
              "        vertical-align: middle;\n",
              "    }\n",
              "\n",
              "    .dataframe tbody tr th {\n",
              "        vertical-align: top;\n",
              "    }\n",
              "\n",
              "    .dataframe thead th {\n",
              "        text-align: right;\n",
              "    }\n",
              "</style>\n",
              "<table border=\"1\" class=\"dataframe\">\n",
              "  <thead>\n",
              "    <tr style=\"text-align: right;\">\n",
              "      <th></th>\n",
              "      <th>DistrictId</th>\n",
              "      <th>MedPriceByDistrict</th>\n",
              "    </tr>\n",
              "  </thead>\n",
              "  <tbody>\n",
              "    <tr>\n",
              "      <th>0</th>\n",
              "      <td>0</td>\n",
              "      <td>165963.054142</td>\n",
              "    </tr>\n",
              "    <tr>\n",
              "      <th>1</th>\n",
              "      <td>1</td>\n",
              "      <td>183663.443595</td>\n",
              "    </tr>\n",
              "    <tr>\n",
              "      <th>2</th>\n",
              "      <td>10</td>\n",
              "      <td>217749.656911</td>\n",
              "    </tr>\n",
              "    <tr>\n",
              "      <th>3</th>\n",
              "      <td>100</td>\n",
              "      <td>234032.836228</td>\n",
              "    </tr>\n",
              "    <tr>\n",
              "      <th>4</th>\n",
              "      <td>101</td>\n",
              "      <td>184276.502773</td>\n",
              "    </tr>\n",
              "  </tbody>\n",
              "</table>\n",
              "</div>\n",
              "      <button class=\"colab-df-convert\" onclick=\"convertToInteractive('df-61d3a6fd-55dd-4e90-bc91-dd9a0cd0fc24')\"\n",
              "              title=\"Convert this dataframe to an interactive table.\"\n",
              "              style=\"display:none;\">\n",
              "        \n",
              "  <svg xmlns=\"http://www.w3.org/2000/svg\" height=\"24px\"viewBox=\"0 0 24 24\"\n",
              "       width=\"24px\">\n",
              "    <path d=\"M0 0h24v24H0V0z\" fill=\"none\"/>\n",
              "    <path d=\"M18.56 5.44l.94 2.06.94-2.06 2.06-.94-2.06-.94-.94-2.06-.94 2.06-2.06.94zm-11 1L8.5 8.5l.94-2.06 2.06-.94-2.06-.94L8.5 2.5l-.94 2.06-2.06.94zm10 10l.94 2.06.94-2.06 2.06-.94-2.06-.94-.94-2.06-.94 2.06-2.06.94z\"/><path d=\"M17.41 7.96l-1.37-1.37c-.4-.4-.92-.59-1.43-.59-.52 0-1.04.2-1.43.59L10.3 9.45l-7.72 7.72c-.78.78-.78 2.05 0 2.83L4 21.41c.39.39.9.59 1.41.59.51 0 1.02-.2 1.41-.59l7.78-7.78 2.81-2.81c.8-.78.8-2.07 0-2.86zM5.41 20L4 18.59l7.72-7.72 1.47 1.35L5.41 20z\"/>\n",
              "  </svg>\n",
              "      </button>\n",
              "      \n",
              "  <style>\n",
              "    .colab-df-container {\n",
              "      display:flex;\n",
              "      flex-wrap:wrap;\n",
              "      gap: 12px;\n",
              "    }\n",
              "\n",
              "    .colab-df-convert {\n",
              "      background-color: #E8F0FE;\n",
              "      border: none;\n",
              "      border-radius: 50%;\n",
              "      cursor: pointer;\n",
              "      display: none;\n",
              "      fill: #1967D2;\n",
              "      height: 32px;\n",
              "      padding: 0 0 0 0;\n",
              "      width: 32px;\n",
              "    }\n",
              "\n",
              "    .colab-df-convert:hover {\n",
              "      background-color: #E2EBFA;\n",
              "      box-shadow: 0px 1px 2px rgba(60, 64, 67, 0.3), 0px 1px 3px 1px rgba(60, 64, 67, 0.15);\n",
              "      fill: #174EA6;\n",
              "    }\n",
              "\n",
              "    [theme=dark] .colab-df-convert {\n",
              "      background-color: #3B4455;\n",
              "      fill: #D2E3FC;\n",
              "    }\n",
              "\n",
              "    [theme=dark] .colab-df-convert:hover {\n",
              "      background-color: #434B5C;\n",
              "      box-shadow: 0px 1px 3px 1px rgba(0, 0, 0, 0.15);\n",
              "      filter: drop-shadow(0px 1px 2px rgba(0, 0, 0, 0.3));\n",
              "      fill: #FFFFFF;\n",
              "    }\n",
              "  </style>\n",
              "\n",
              "      <script>\n",
              "        const buttonEl =\n",
              "          document.querySelector('#df-61d3a6fd-55dd-4e90-bc91-dd9a0cd0fc24 button.colab-df-convert');\n",
              "        buttonEl.style.display =\n",
              "          google.colab.kernel.accessAllowed ? 'block' : 'none';\n",
              "\n",
              "        async function convertToInteractive(key) {\n",
              "          const element = document.querySelector('#df-61d3a6fd-55dd-4e90-bc91-dd9a0cd0fc24');\n",
              "          const dataTable =\n",
              "            await google.colab.kernel.invokeFunction('convertToInteractive',\n",
              "                                                     [key], {});\n",
              "          if (!dataTable) return;\n",
              "\n",
              "          const docLinkHtml = 'Like what you see? Visit the ' +\n",
              "            '<a target=\"_blank\" href=https://colab.research.google.com/notebooks/data_table.ipynb>data table notebook</a>'\n",
              "            + ' to learn more about interactive tables.';\n",
              "          element.innerHTML = '';\n",
              "          dataTable['output_type'] = 'display_data';\n",
              "          await google.colab.output.renderOutput(dataTable, element);\n",
              "          const docLink = document.createElement('div');\n",
              "          docLink.innerHTML = docLinkHtml;\n",
              "          element.appendChild(docLink);\n",
              "        }\n",
              "      </script>\n",
              "    </div>\n",
              "  </div>\n",
              "  "
            ]
          },
          "metadata": {},
          "execution_count": 130
        }
      ]
    },
    {
      "cell_type": "code",
      "source": [
        "med_price_by_district.shape"
      ],
      "metadata": {
        "colab": {
          "base_uri": "https://localhost:8080/"
        },
        "id": "iGSRTXE2Gu2E",
        "outputId": "3818325f-1d9f-489f-e1ba-70854a08698e"
      },
      "execution_count": 131,
      "outputs": [
        {
          "output_type": "execute_result",
          "data": {
            "text/plain": [
              "(205, 2)"
            ]
          },
          "metadata": {},
          "execution_count": 131
        }
      ]
    },
    {
      "cell_type": "code",
      "source": [
        "train_df = train_df.merge(med_price_by_district, on=['DistrictId'], how='left')\n",
        "train_df.head()"
      ],
      "metadata": {
        "colab": {
          "base_uri": "https://localhost:8080/",
          "height": 299
        },
        "id": "3enILQylGw8t",
        "outputId": "12e9488b-0d86-4ec9-a340-9d50e0a0301c"
      },
      "execution_count": 132,
      "outputs": [
        {
          "output_type": "execute_result",
          "data": {
            "text/plain": [
              "      Id DistrictId  Rooms      Square  LifeSquare  KitchenSquare  Floor  \\\n",
              "0  11809         27    3.0  115.027311  102.027311           10.0    4.0   \n",
              "1   3013         22    1.0   39.832524   23.169223            8.0    7.0   \n",
              "2   8215          1    3.0   78.342215   47.671972           10.0    2.0   \n",
              "3   2352          1    1.0   40.409907   32.409907            5.0   10.0   \n",
              "4  13866         94    2.0   64.285067   38.562517            9.0   16.0   \n",
              "\n",
              "   HouseFloor  HouseYear  Ecology_1  ... Social_3 Healthcare_1  Helthcare_2  \\\n",
              "0        10.0       2014   0.075424  ...        0          0.0            0   \n",
              "1         8.0       1966   0.118537  ...        1       1183.0            1   \n",
              "2        17.0       1988   0.025609  ...        0        240.0            3   \n",
              "3        22.0       1977   0.007122  ...        0          0.0            0   \n",
              "4        16.0       1972   0.282798  ...        2          0.0            0   \n",
              "\n",
              "   Shops_1  Shops_2          Price  Rooms_outlier  HouseFloor_outlier  \\\n",
              "0        0        B  305018.871089              0                   0   \n",
              "1        0        B  177734.553407              0                   0   \n",
              "2        1        B  282078.720850              0                   0   \n",
              "3        1        B  168106.007630              0                   0   \n",
              "4        6        B  343995.102962              0                   0   \n",
              "\n",
              "  LifeSquare_nan  MedPriceByDistrict  \n",
              "0              1       146171.433190  \n",
              "1              0       183678.134031  \n",
              "2              0       183663.443595  \n",
              "3              1       183663.443595  \n",
              "4              0       181706.718894  \n",
              "\n",
              "[5 rows x 24 columns]"
            ],
            "text/html": [
              "\n",
              "  <div id=\"df-9c59f7ab-e8db-4873-8711-b54a26378844\">\n",
              "    <div class=\"colab-df-container\">\n",
              "      <div>\n",
              "<style scoped>\n",
              "    .dataframe tbody tr th:only-of-type {\n",
              "        vertical-align: middle;\n",
              "    }\n",
              "\n",
              "    .dataframe tbody tr th {\n",
              "        vertical-align: top;\n",
              "    }\n",
              "\n",
              "    .dataframe thead th {\n",
              "        text-align: right;\n",
              "    }\n",
              "</style>\n",
              "<table border=\"1\" class=\"dataframe\">\n",
              "  <thead>\n",
              "    <tr style=\"text-align: right;\">\n",
              "      <th></th>\n",
              "      <th>Id</th>\n",
              "      <th>DistrictId</th>\n",
              "      <th>Rooms</th>\n",
              "      <th>Square</th>\n",
              "      <th>LifeSquare</th>\n",
              "      <th>KitchenSquare</th>\n",
              "      <th>Floor</th>\n",
              "      <th>HouseFloor</th>\n",
              "      <th>HouseYear</th>\n",
              "      <th>Ecology_1</th>\n",
              "      <th>...</th>\n",
              "      <th>Social_3</th>\n",
              "      <th>Healthcare_1</th>\n",
              "      <th>Helthcare_2</th>\n",
              "      <th>Shops_1</th>\n",
              "      <th>Shops_2</th>\n",
              "      <th>Price</th>\n",
              "      <th>Rooms_outlier</th>\n",
              "      <th>HouseFloor_outlier</th>\n",
              "      <th>LifeSquare_nan</th>\n",
              "      <th>MedPriceByDistrict</th>\n",
              "    </tr>\n",
              "  </thead>\n",
              "  <tbody>\n",
              "    <tr>\n",
              "      <th>0</th>\n",
              "      <td>11809</td>\n",
              "      <td>27</td>\n",
              "      <td>3.0</td>\n",
              "      <td>115.027311</td>\n",
              "      <td>102.027311</td>\n",
              "      <td>10.0</td>\n",
              "      <td>4.0</td>\n",
              "      <td>10.0</td>\n",
              "      <td>2014</td>\n",
              "      <td>0.075424</td>\n",
              "      <td>...</td>\n",
              "      <td>0</td>\n",
              "      <td>0.0</td>\n",
              "      <td>0</td>\n",
              "      <td>0</td>\n",
              "      <td>B</td>\n",
              "      <td>305018.871089</td>\n",
              "      <td>0</td>\n",
              "      <td>0</td>\n",
              "      <td>1</td>\n",
              "      <td>146171.433190</td>\n",
              "    </tr>\n",
              "    <tr>\n",
              "      <th>1</th>\n",
              "      <td>3013</td>\n",
              "      <td>22</td>\n",
              "      <td>1.0</td>\n",
              "      <td>39.832524</td>\n",
              "      <td>23.169223</td>\n",
              "      <td>8.0</td>\n",
              "      <td>7.0</td>\n",
              "      <td>8.0</td>\n",
              "      <td>1966</td>\n",
              "      <td>0.118537</td>\n",
              "      <td>...</td>\n",
              "      <td>1</td>\n",
              "      <td>1183.0</td>\n",
              "      <td>1</td>\n",
              "      <td>0</td>\n",
              "      <td>B</td>\n",
              "      <td>177734.553407</td>\n",
              "      <td>0</td>\n",
              "      <td>0</td>\n",
              "      <td>0</td>\n",
              "      <td>183678.134031</td>\n",
              "    </tr>\n",
              "    <tr>\n",
              "      <th>2</th>\n",
              "      <td>8215</td>\n",
              "      <td>1</td>\n",
              "      <td>3.0</td>\n",
              "      <td>78.342215</td>\n",
              "      <td>47.671972</td>\n",
              "      <td>10.0</td>\n",
              "      <td>2.0</td>\n",
              "      <td>17.0</td>\n",
              "      <td>1988</td>\n",
              "      <td>0.025609</td>\n",
              "      <td>...</td>\n",
              "      <td>0</td>\n",
              "      <td>240.0</td>\n",
              "      <td>3</td>\n",
              "      <td>1</td>\n",
              "      <td>B</td>\n",
              "      <td>282078.720850</td>\n",
              "      <td>0</td>\n",
              "      <td>0</td>\n",
              "      <td>0</td>\n",
              "      <td>183663.443595</td>\n",
              "    </tr>\n",
              "    <tr>\n",
              "      <th>3</th>\n",
              "      <td>2352</td>\n",
              "      <td>1</td>\n",
              "      <td>1.0</td>\n",
              "      <td>40.409907</td>\n",
              "      <td>32.409907</td>\n",
              "      <td>5.0</td>\n",
              "      <td>10.0</td>\n",
              "      <td>22.0</td>\n",
              "      <td>1977</td>\n",
              "      <td>0.007122</td>\n",
              "      <td>...</td>\n",
              "      <td>0</td>\n",
              "      <td>0.0</td>\n",
              "      <td>0</td>\n",
              "      <td>1</td>\n",
              "      <td>B</td>\n",
              "      <td>168106.007630</td>\n",
              "      <td>0</td>\n",
              "      <td>0</td>\n",
              "      <td>1</td>\n",
              "      <td>183663.443595</td>\n",
              "    </tr>\n",
              "    <tr>\n",
              "      <th>4</th>\n",
              "      <td>13866</td>\n",
              "      <td>94</td>\n",
              "      <td>2.0</td>\n",
              "      <td>64.285067</td>\n",
              "      <td>38.562517</td>\n",
              "      <td>9.0</td>\n",
              "      <td>16.0</td>\n",
              "      <td>16.0</td>\n",
              "      <td>1972</td>\n",
              "      <td>0.282798</td>\n",
              "      <td>...</td>\n",
              "      <td>2</td>\n",
              "      <td>0.0</td>\n",
              "      <td>0</td>\n",
              "      <td>6</td>\n",
              "      <td>B</td>\n",
              "      <td>343995.102962</td>\n",
              "      <td>0</td>\n",
              "      <td>0</td>\n",
              "      <td>0</td>\n",
              "      <td>181706.718894</td>\n",
              "    </tr>\n",
              "  </tbody>\n",
              "</table>\n",
              "<p>5 rows × 24 columns</p>\n",
              "</div>\n",
              "      <button class=\"colab-df-convert\" onclick=\"convertToInteractive('df-9c59f7ab-e8db-4873-8711-b54a26378844')\"\n",
              "              title=\"Convert this dataframe to an interactive table.\"\n",
              "              style=\"display:none;\">\n",
              "        \n",
              "  <svg xmlns=\"http://www.w3.org/2000/svg\" height=\"24px\"viewBox=\"0 0 24 24\"\n",
              "       width=\"24px\">\n",
              "    <path d=\"M0 0h24v24H0V0z\" fill=\"none\"/>\n",
              "    <path d=\"M18.56 5.44l.94 2.06.94-2.06 2.06-.94-2.06-.94-.94-2.06-.94 2.06-2.06.94zm-11 1L8.5 8.5l.94-2.06 2.06-.94-2.06-.94L8.5 2.5l-.94 2.06-2.06.94zm10 10l.94 2.06.94-2.06 2.06-.94-2.06-.94-.94-2.06-.94 2.06-2.06.94z\"/><path d=\"M17.41 7.96l-1.37-1.37c-.4-.4-.92-.59-1.43-.59-.52 0-1.04.2-1.43.59L10.3 9.45l-7.72 7.72c-.78.78-.78 2.05 0 2.83L4 21.41c.39.39.9.59 1.41.59.51 0 1.02-.2 1.41-.59l7.78-7.78 2.81-2.81c.8-.78.8-2.07 0-2.86zM5.41 20L4 18.59l7.72-7.72 1.47 1.35L5.41 20z\"/>\n",
              "  </svg>\n",
              "      </button>\n",
              "      \n",
              "  <style>\n",
              "    .colab-df-container {\n",
              "      display:flex;\n",
              "      flex-wrap:wrap;\n",
              "      gap: 12px;\n",
              "    }\n",
              "\n",
              "    .colab-df-convert {\n",
              "      background-color: #E8F0FE;\n",
              "      border: none;\n",
              "      border-radius: 50%;\n",
              "      cursor: pointer;\n",
              "      display: none;\n",
              "      fill: #1967D2;\n",
              "      height: 32px;\n",
              "      padding: 0 0 0 0;\n",
              "      width: 32px;\n",
              "    }\n",
              "\n",
              "    .colab-df-convert:hover {\n",
              "      background-color: #E2EBFA;\n",
              "      box-shadow: 0px 1px 2px rgba(60, 64, 67, 0.3), 0px 1px 3px 1px rgba(60, 64, 67, 0.15);\n",
              "      fill: #174EA6;\n",
              "    }\n",
              "\n",
              "    [theme=dark] .colab-df-convert {\n",
              "      background-color: #3B4455;\n",
              "      fill: #D2E3FC;\n",
              "    }\n",
              "\n",
              "    [theme=dark] .colab-df-convert:hover {\n",
              "      background-color: #434B5C;\n",
              "      box-shadow: 0px 1px 3px 1px rgba(0, 0, 0, 0.15);\n",
              "      filter: drop-shadow(0px 1px 2px rgba(0, 0, 0, 0.3));\n",
              "      fill: #FFFFFF;\n",
              "    }\n",
              "  </style>\n",
              "\n",
              "      <script>\n",
              "        const buttonEl =\n",
              "          document.querySelector('#df-9c59f7ab-e8db-4873-8711-b54a26378844 button.colab-df-convert');\n",
              "        buttonEl.style.display =\n",
              "          google.colab.kernel.accessAllowed ? 'block' : 'none';\n",
              "\n",
              "        async function convertToInteractive(key) {\n",
              "          const element = document.querySelector('#df-9c59f7ab-e8db-4873-8711-b54a26378844');\n",
              "          const dataTable =\n",
              "            await google.colab.kernel.invokeFunction('convertToInteractive',\n",
              "                                                     [key], {});\n",
              "          if (!dataTable) return;\n",
              "\n",
              "          const docLinkHtml = 'Like what you see? Visit the ' +\n",
              "            '<a target=\"_blank\" href=https://colab.research.google.com/notebooks/data_table.ipynb>data table notebook</a>'\n",
              "            + ' to learn more about interactive tables.';\n",
              "          element.innerHTML = '';\n",
              "          dataTable['output_type'] = 'display_data';\n",
              "          await google.colab.output.renderOutput(dataTable, element);\n",
              "          const docLink = document.createElement('div');\n",
              "          docLink.innerHTML = docLinkHtml;\n",
              "          element.appendChild(docLink);\n",
              "        }\n",
              "      </script>\n",
              "    </div>\n",
              "  </div>\n",
              "  "
            ]
          },
          "metadata": {},
          "execution_count": 132
        }
      ]
    },
    {
      "cell_type": "markdown",
      "source": [
        "**MedPriceByFloorYear**"
      ],
      "metadata": {
        "id": "MnEkN3K-G1Jb"
      }
    },
    {
      "cell_type": "code",
      "source": [
        "def floor_to_cat(X):\n",
        "    bins = [X['Floor'].min(), 3, 5, 9, 15, X['Floor'].max()]\n",
        "    X['floor_cat'] = pd.cut(X['Floor'], bins=bins, labels=False)\n",
        "    \n",
        "    X['floor_cat'].fillna(-1, inplace=True)\n",
        "    return X\n",
        "\n",
        "def year_to_cat(X):\n",
        "    bins = [X['HouseYear'].min(), 1941, 1945, 1980, 2000, 2010, X['HouseYear'].max()]\n",
        "    X['year_cat'] = pd.cut(X['HouseYear'], bins=bins, labels=False)\n",
        "    \n",
        "    X['year_cat'].fillna(-1, inplace=True)\n",
        "    return X"
      ],
      "metadata": {
        "id": "3aHxEyfHG2Cl"
      },
      "execution_count": 133,
      "outputs": []
    },
    {
      "cell_type": "code",
      "source": [
        "bins = [train_df['Floor'].min(), 3, 5, 9, 15, train_df['Floor'].max()]\n",
        "pd.cut(train_df['Floor'], bins=bins, labels=False)"
      ],
      "metadata": {
        "colab": {
          "base_uri": "https://localhost:8080/"
        },
        "id": "xTiwthCIG93y",
        "outputId": "57d03c03-3cce-4074-f50f-460d4c3e53ea"
      },
      "execution_count": 134,
      "outputs": [
        {
          "output_type": "execute_result",
          "data": {
            "text/plain": [
              "0       1.0\n",
              "1       2.0\n",
              "2       0.0\n",
              "3       3.0\n",
              "4       4.0\n",
              "       ... \n",
              "9995    0.0\n",
              "9996    3.0\n",
              "9997    0.0\n",
              "9998    0.0\n",
              "9999    2.0\n",
              "Name: Floor, Length: 10000, dtype: float64"
            ]
          },
          "metadata": {},
          "execution_count": 134
        }
      ]
    },
    {
      "cell_type": "code",
      "source": [
        "bins = [train_df['Floor'].min(), 3, 5, 9, 15, train_df['Floor'].max()]\n",
        "pd.cut(train_df['Floor'], bins=bins)"
      ],
      "metadata": {
        "colab": {
          "base_uri": "https://localhost:8080/"
        },
        "id": "SOoK-pDxG_1C",
        "outputId": "06585047-7db1-426a-e8e5-73c9336f2fb0"
      },
      "execution_count": 135,
      "outputs": [
        {
          "output_type": "execute_result",
          "data": {
            "text/plain": [
              "0         (3.0, 5.0]\n",
              "1         (5.0, 9.0]\n",
              "2         (1.0, 3.0]\n",
              "3        (9.0, 15.0]\n",
              "4       (15.0, 42.0]\n",
              "            ...     \n",
              "9995      (1.0, 3.0]\n",
              "9996     (9.0, 15.0]\n",
              "9997      (1.0, 3.0]\n",
              "9998      (1.0, 3.0]\n",
              "9999      (5.0, 9.0]\n",
              "Name: Floor, Length: 10000, dtype: category\n",
              "Categories (5, interval[float64, right]): [(1.0, 3.0] < (3.0, 5.0] < (5.0, 9.0] < (9.0, 15.0] <\n",
              "                                           (15.0, 42.0]]"
            ]
          },
          "metadata": {},
          "execution_count": 135
        }
      ]
    },
    {
      "cell_type": "code",
      "source": [
        "train_df = year_to_cat(train_df)\n",
        "train_df = floor_to_cat(train_df)\n",
        "train_df.head()"
      ],
      "metadata": {
        "colab": {
          "base_uri": "https://localhost:8080/",
          "height": 299
        },
        "id": "1XfGKJMaHCV-",
        "outputId": "c63120b4-4ff4-43cb-8a02-eff7ee87650d"
      },
      "execution_count": 136,
      "outputs": [
        {
          "output_type": "execute_result",
          "data": {
            "text/plain": [
              "      Id DistrictId  Rooms      Square  LifeSquare  KitchenSquare  Floor  \\\n",
              "0  11809         27    3.0  115.027311  102.027311           10.0    4.0   \n",
              "1   3013         22    1.0   39.832524   23.169223            8.0    7.0   \n",
              "2   8215          1    3.0   78.342215   47.671972           10.0    2.0   \n",
              "3   2352          1    1.0   40.409907   32.409907            5.0   10.0   \n",
              "4  13866         94    2.0   64.285067   38.562517            9.0   16.0   \n",
              "\n",
              "   HouseFloor  HouseYear  Ecology_1  ... Helthcare_2 Shops_1  Shops_2  \\\n",
              "0        10.0       2014   0.075424  ...           0       0        B   \n",
              "1         8.0       1966   0.118537  ...           1       0        B   \n",
              "2        17.0       1988   0.025609  ...           3       1        B   \n",
              "3        22.0       1977   0.007122  ...           0       1        B   \n",
              "4        16.0       1972   0.282798  ...           0       6        B   \n",
              "\n",
              "           Price  Rooms_outlier  HouseFloor_outlier  LifeSquare_nan  \\\n",
              "0  305018.871089              0                   0               1   \n",
              "1  177734.553407              0                   0               0   \n",
              "2  282078.720850              0                   0               0   \n",
              "3  168106.007630              0                   0               1   \n",
              "4  343995.102962              0                   0               0   \n",
              "\n",
              "   MedPriceByDistrict year_cat  floor_cat  \n",
              "0       146171.433190      5.0        1.0  \n",
              "1       183678.134031      2.0        2.0  \n",
              "2       183663.443595      3.0        0.0  \n",
              "3       183663.443595      2.0        3.0  \n",
              "4       181706.718894      2.0        4.0  \n",
              "\n",
              "[5 rows x 26 columns]"
            ],
            "text/html": [
              "\n",
              "  <div id=\"df-3257901d-87ca-4b0b-94ae-67a0a06d54bc\">\n",
              "    <div class=\"colab-df-container\">\n",
              "      <div>\n",
              "<style scoped>\n",
              "    .dataframe tbody tr th:only-of-type {\n",
              "        vertical-align: middle;\n",
              "    }\n",
              "\n",
              "    .dataframe tbody tr th {\n",
              "        vertical-align: top;\n",
              "    }\n",
              "\n",
              "    .dataframe thead th {\n",
              "        text-align: right;\n",
              "    }\n",
              "</style>\n",
              "<table border=\"1\" class=\"dataframe\">\n",
              "  <thead>\n",
              "    <tr style=\"text-align: right;\">\n",
              "      <th></th>\n",
              "      <th>Id</th>\n",
              "      <th>DistrictId</th>\n",
              "      <th>Rooms</th>\n",
              "      <th>Square</th>\n",
              "      <th>LifeSquare</th>\n",
              "      <th>KitchenSquare</th>\n",
              "      <th>Floor</th>\n",
              "      <th>HouseFloor</th>\n",
              "      <th>HouseYear</th>\n",
              "      <th>Ecology_1</th>\n",
              "      <th>...</th>\n",
              "      <th>Helthcare_2</th>\n",
              "      <th>Shops_1</th>\n",
              "      <th>Shops_2</th>\n",
              "      <th>Price</th>\n",
              "      <th>Rooms_outlier</th>\n",
              "      <th>HouseFloor_outlier</th>\n",
              "      <th>LifeSquare_nan</th>\n",
              "      <th>MedPriceByDistrict</th>\n",
              "      <th>year_cat</th>\n",
              "      <th>floor_cat</th>\n",
              "    </tr>\n",
              "  </thead>\n",
              "  <tbody>\n",
              "    <tr>\n",
              "      <th>0</th>\n",
              "      <td>11809</td>\n",
              "      <td>27</td>\n",
              "      <td>3.0</td>\n",
              "      <td>115.027311</td>\n",
              "      <td>102.027311</td>\n",
              "      <td>10.0</td>\n",
              "      <td>4.0</td>\n",
              "      <td>10.0</td>\n",
              "      <td>2014</td>\n",
              "      <td>0.075424</td>\n",
              "      <td>...</td>\n",
              "      <td>0</td>\n",
              "      <td>0</td>\n",
              "      <td>B</td>\n",
              "      <td>305018.871089</td>\n",
              "      <td>0</td>\n",
              "      <td>0</td>\n",
              "      <td>1</td>\n",
              "      <td>146171.433190</td>\n",
              "      <td>5.0</td>\n",
              "      <td>1.0</td>\n",
              "    </tr>\n",
              "    <tr>\n",
              "      <th>1</th>\n",
              "      <td>3013</td>\n",
              "      <td>22</td>\n",
              "      <td>1.0</td>\n",
              "      <td>39.832524</td>\n",
              "      <td>23.169223</td>\n",
              "      <td>8.0</td>\n",
              "      <td>7.0</td>\n",
              "      <td>8.0</td>\n",
              "      <td>1966</td>\n",
              "      <td>0.118537</td>\n",
              "      <td>...</td>\n",
              "      <td>1</td>\n",
              "      <td>0</td>\n",
              "      <td>B</td>\n",
              "      <td>177734.553407</td>\n",
              "      <td>0</td>\n",
              "      <td>0</td>\n",
              "      <td>0</td>\n",
              "      <td>183678.134031</td>\n",
              "      <td>2.0</td>\n",
              "      <td>2.0</td>\n",
              "    </tr>\n",
              "    <tr>\n",
              "      <th>2</th>\n",
              "      <td>8215</td>\n",
              "      <td>1</td>\n",
              "      <td>3.0</td>\n",
              "      <td>78.342215</td>\n",
              "      <td>47.671972</td>\n",
              "      <td>10.0</td>\n",
              "      <td>2.0</td>\n",
              "      <td>17.0</td>\n",
              "      <td>1988</td>\n",
              "      <td>0.025609</td>\n",
              "      <td>...</td>\n",
              "      <td>3</td>\n",
              "      <td>1</td>\n",
              "      <td>B</td>\n",
              "      <td>282078.720850</td>\n",
              "      <td>0</td>\n",
              "      <td>0</td>\n",
              "      <td>0</td>\n",
              "      <td>183663.443595</td>\n",
              "      <td>3.0</td>\n",
              "      <td>0.0</td>\n",
              "    </tr>\n",
              "    <tr>\n",
              "      <th>3</th>\n",
              "      <td>2352</td>\n",
              "      <td>1</td>\n",
              "      <td>1.0</td>\n",
              "      <td>40.409907</td>\n",
              "      <td>32.409907</td>\n",
              "      <td>5.0</td>\n",
              "      <td>10.0</td>\n",
              "      <td>22.0</td>\n",
              "      <td>1977</td>\n",
              "      <td>0.007122</td>\n",
              "      <td>...</td>\n",
              "      <td>0</td>\n",
              "      <td>1</td>\n",
              "      <td>B</td>\n",
              "      <td>168106.007630</td>\n",
              "      <td>0</td>\n",
              "      <td>0</td>\n",
              "      <td>1</td>\n",
              "      <td>183663.443595</td>\n",
              "      <td>2.0</td>\n",
              "      <td>3.0</td>\n",
              "    </tr>\n",
              "    <tr>\n",
              "      <th>4</th>\n",
              "      <td>13866</td>\n",
              "      <td>94</td>\n",
              "      <td>2.0</td>\n",
              "      <td>64.285067</td>\n",
              "      <td>38.562517</td>\n",
              "      <td>9.0</td>\n",
              "      <td>16.0</td>\n",
              "      <td>16.0</td>\n",
              "      <td>1972</td>\n",
              "      <td>0.282798</td>\n",
              "      <td>...</td>\n",
              "      <td>0</td>\n",
              "      <td>6</td>\n",
              "      <td>B</td>\n",
              "      <td>343995.102962</td>\n",
              "      <td>0</td>\n",
              "      <td>0</td>\n",
              "      <td>0</td>\n",
              "      <td>181706.718894</td>\n",
              "      <td>2.0</td>\n",
              "      <td>4.0</td>\n",
              "    </tr>\n",
              "  </tbody>\n",
              "</table>\n",
              "<p>5 rows × 26 columns</p>\n",
              "</div>\n",
              "      <button class=\"colab-df-convert\" onclick=\"convertToInteractive('df-3257901d-87ca-4b0b-94ae-67a0a06d54bc')\"\n",
              "              title=\"Convert this dataframe to an interactive table.\"\n",
              "              style=\"display:none;\">\n",
              "        \n",
              "  <svg xmlns=\"http://www.w3.org/2000/svg\" height=\"24px\"viewBox=\"0 0 24 24\"\n",
              "       width=\"24px\">\n",
              "    <path d=\"M0 0h24v24H0V0z\" fill=\"none\"/>\n",
              "    <path d=\"M18.56 5.44l.94 2.06.94-2.06 2.06-.94-2.06-.94-.94-2.06-.94 2.06-2.06.94zm-11 1L8.5 8.5l.94-2.06 2.06-.94-2.06-.94L8.5 2.5l-.94 2.06-2.06.94zm10 10l.94 2.06.94-2.06 2.06-.94-2.06-.94-.94-2.06-.94 2.06-2.06.94z\"/><path d=\"M17.41 7.96l-1.37-1.37c-.4-.4-.92-.59-1.43-.59-.52 0-1.04.2-1.43.59L10.3 9.45l-7.72 7.72c-.78.78-.78 2.05 0 2.83L4 21.41c.39.39.9.59 1.41.59.51 0 1.02-.2 1.41-.59l7.78-7.78 2.81-2.81c.8-.78.8-2.07 0-2.86zM5.41 20L4 18.59l7.72-7.72 1.47 1.35L5.41 20z\"/>\n",
              "  </svg>\n",
              "      </button>\n",
              "      \n",
              "  <style>\n",
              "    .colab-df-container {\n",
              "      display:flex;\n",
              "      flex-wrap:wrap;\n",
              "      gap: 12px;\n",
              "    }\n",
              "\n",
              "    .colab-df-convert {\n",
              "      background-color: #E8F0FE;\n",
              "      border: none;\n",
              "      border-radius: 50%;\n",
              "      cursor: pointer;\n",
              "      display: none;\n",
              "      fill: #1967D2;\n",
              "      height: 32px;\n",
              "      padding: 0 0 0 0;\n",
              "      width: 32px;\n",
              "    }\n",
              "\n",
              "    .colab-df-convert:hover {\n",
              "      background-color: #E2EBFA;\n",
              "      box-shadow: 0px 1px 2px rgba(60, 64, 67, 0.3), 0px 1px 3px 1px rgba(60, 64, 67, 0.15);\n",
              "      fill: #174EA6;\n",
              "    }\n",
              "\n",
              "    [theme=dark] .colab-df-convert {\n",
              "      background-color: #3B4455;\n",
              "      fill: #D2E3FC;\n",
              "    }\n",
              "\n",
              "    [theme=dark] .colab-df-convert:hover {\n",
              "      background-color: #434B5C;\n",
              "      box-shadow: 0px 1px 3px 1px rgba(0, 0, 0, 0.15);\n",
              "      filter: drop-shadow(0px 1px 2px rgba(0, 0, 0, 0.3));\n",
              "      fill: #FFFFFF;\n",
              "    }\n",
              "  </style>\n",
              "\n",
              "      <script>\n",
              "        const buttonEl =\n",
              "          document.querySelector('#df-3257901d-87ca-4b0b-94ae-67a0a06d54bc button.colab-df-convert');\n",
              "        buttonEl.style.display =\n",
              "          google.colab.kernel.accessAllowed ? 'block' : 'none';\n",
              "\n",
              "        async function convertToInteractive(key) {\n",
              "          const element = document.querySelector('#df-3257901d-87ca-4b0b-94ae-67a0a06d54bc');\n",
              "          const dataTable =\n",
              "            await google.colab.kernel.invokeFunction('convertToInteractive',\n",
              "                                                     [key], {});\n",
              "          if (!dataTable) return;\n",
              "\n",
              "          const docLinkHtml = 'Like what you see? Visit the ' +\n",
              "            '<a target=\"_blank\" href=https://colab.research.google.com/notebooks/data_table.ipynb>data table notebook</a>'\n",
              "            + ' to learn more about interactive tables.';\n",
              "          element.innerHTML = '';\n",
              "          dataTable['output_type'] = 'display_data';\n",
              "          await google.colab.output.renderOutput(dataTable, element);\n",
              "          const docLink = document.createElement('div');\n",
              "          docLink.innerHTML = docLinkHtml;\n",
              "          element.appendChild(docLink);\n",
              "        }\n",
              "      </script>\n",
              "    </div>\n",
              "  </div>\n",
              "  "
            ]
          },
          "metadata": {},
          "execution_count": 136
        }
      ]
    },
    {
      "cell_type": "code",
      "source": [
        "med_price_by_floor_year = train_df.groupby(['year_cat', 'floor_cat'], as_index=False).agg({'Price':'median'}).\\\n",
        "                                            rename(columns={'Price':'MedPriceByFloorYear'})\n",
        "med_price_by_floor_year.head()"
      ],
      "metadata": {
        "colab": {
          "base_uri": "https://localhost:8080/",
          "height": 206
        },
        "id": "ILmcFgVSHFWZ",
        "outputId": "1954dbe4-e1a9-453e-c9a2-03f713ad430a"
      },
      "execution_count": 137,
      "outputs": [
        {
          "output_type": "execute_result",
          "data": {
            "text/plain": [
              "   year_cat  floor_cat  MedPriceByFloorYear\n",
              "0      -1.0        2.0        287954.720682\n",
              "1       0.0       -1.0        263299.720173\n",
              "2       0.0        0.0        410299.956558\n",
              "3       0.0        1.0        324303.812481\n",
              "4       0.0        2.0        423580.477982"
            ],
            "text/html": [
              "\n",
              "  <div id=\"df-9467dc17-fc7f-4f9d-8658-3073690c1873\">\n",
              "    <div class=\"colab-df-container\">\n",
              "      <div>\n",
              "<style scoped>\n",
              "    .dataframe tbody tr th:only-of-type {\n",
              "        vertical-align: middle;\n",
              "    }\n",
              "\n",
              "    .dataframe tbody tr th {\n",
              "        vertical-align: top;\n",
              "    }\n",
              "\n",
              "    .dataframe thead th {\n",
              "        text-align: right;\n",
              "    }\n",
              "</style>\n",
              "<table border=\"1\" class=\"dataframe\">\n",
              "  <thead>\n",
              "    <tr style=\"text-align: right;\">\n",
              "      <th></th>\n",
              "      <th>year_cat</th>\n",
              "      <th>floor_cat</th>\n",
              "      <th>MedPriceByFloorYear</th>\n",
              "    </tr>\n",
              "  </thead>\n",
              "  <tbody>\n",
              "    <tr>\n",
              "      <th>0</th>\n",
              "      <td>-1.0</td>\n",
              "      <td>2.0</td>\n",
              "      <td>287954.720682</td>\n",
              "    </tr>\n",
              "    <tr>\n",
              "      <th>1</th>\n",
              "      <td>0.0</td>\n",
              "      <td>-1.0</td>\n",
              "      <td>263299.720173</td>\n",
              "    </tr>\n",
              "    <tr>\n",
              "      <th>2</th>\n",
              "      <td>0.0</td>\n",
              "      <td>0.0</td>\n",
              "      <td>410299.956558</td>\n",
              "    </tr>\n",
              "    <tr>\n",
              "      <th>3</th>\n",
              "      <td>0.0</td>\n",
              "      <td>1.0</td>\n",
              "      <td>324303.812481</td>\n",
              "    </tr>\n",
              "    <tr>\n",
              "      <th>4</th>\n",
              "      <td>0.0</td>\n",
              "      <td>2.0</td>\n",
              "      <td>423580.477982</td>\n",
              "    </tr>\n",
              "  </tbody>\n",
              "</table>\n",
              "</div>\n",
              "      <button class=\"colab-df-convert\" onclick=\"convertToInteractive('df-9467dc17-fc7f-4f9d-8658-3073690c1873')\"\n",
              "              title=\"Convert this dataframe to an interactive table.\"\n",
              "              style=\"display:none;\">\n",
              "        \n",
              "  <svg xmlns=\"http://www.w3.org/2000/svg\" height=\"24px\"viewBox=\"0 0 24 24\"\n",
              "       width=\"24px\">\n",
              "    <path d=\"M0 0h24v24H0V0z\" fill=\"none\"/>\n",
              "    <path d=\"M18.56 5.44l.94 2.06.94-2.06 2.06-.94-2.06-.94-.94-2.06-.94 2.06-2.06.94zm-11 1L8.5 8.5l.94-2.06 2.06-.94-2.06-.94L8.5 2.5l-.94 2.06-2.06.94zm10 10l.94 2.06.94-2.06 2.06-.94-2.06-.94-.94-2.06-.94 2.06-2.06.94z\"/><path d=\"M17.41 7.96l-1.37-1.37c-.4-.4-.92-.59-1.43-.59-.52 0-1.04.2-1.43.59L10.3 9.45l-7.72 7.72c-.78.78-.78 2.05 0 2.83L4 21.41c.39.39.9.59 1.41.59.51 0 1.02-.2 1.41-.59l7.78-7.78 2.81-2.81c.8-.78.8-2.07 0-2.86zM5.41 20L4 18.59l7.72-7.72 1.47 1.35L5.41 20z\"/>\n",
              "  </svg>\n",
              "      </button>\n",
              "      \n",
              "  <style>\n",
              "    .colab-df-container {\n",
              "      display:flex;\n",
              "      flex-wrap:wrap;\n",
              "      gap: 12px;\n",
              "    }\n",
              "\n",
              "    .colab-df-convert {\n",
              "      background-color: #E8F0FE;\n",
              "      border: none;\n",
              "      border-radius: 50%;\n",
              "      cursor: pointer;\n",
              "      display: none;\n",
              "      fill: #1967D2;\n",
              "      height: 32px;\n",
              "      padding: 0 0 0 0;\n",
              "      width: 32px;\n",
              "    }\n",
              "\n",
              "    .colab-df-convert:hover {\n",
              "      background-color: #E2EBFA;\n",
              "      box-shadow: 0px 1px 2px rgba(60, 64, 67, 0.3), 0px 1px 3px 1px rgba(60, 64, 67, 0.15);\n",
              "      fill: #174EA6;\n",
              "    }\n",
              "\n",
              "    [theme=dark] .colab-df-convert {\n",
              "      background-color: #3B4455;\n",
              "      fill: #D2E3FC;\n",
              "    }\n",
              "\n",
              "    [theme=dark] .colab-df-convert:hover {\n",
              "      background-color: #434B5C;\n",
              "      box-shadow: 0px 1px 3px 1px rgba(0, 0, 0, 0.15);\n",
              "      filter: drop-shadow(0px 1px 2px rgba(0, 0, 0, 0.3));\n",
              "      fill: #FFFFFF;\n",
              "    }\n",
              "  </style>\n",
              "\n",
              "      <script>\n",
              "        const buttonEl =\n",
              "          document.querySelector('#df-9467dc17-fc7f-4f9d-8658-3073690c1873 button.colab-df-convert');\n",
              "        buttonEl.style.display =\n",
              "          google.colab.kernel.accessAllowed ? 'block' : 'none';\n",
              "\n",
              "        async function convertToInteractive(key) {\n",
              "          const element = document.querySelector('#df-9467dc17-fc7f-4f9d-8658-3073690c1873');\n",
              "          const dataTable =\n",
              "            await google.colab.kernel.invokeFunction('convertToInteractive',\n",
              "                                                     [key], {});\n",
              "          if (!dataTable) return;\n",
              "\n",
              "          const docLinkHtml = 'Like what you see? Visit the ' +\n",
              "            '<a target=\"_blank\" href=https://colab.research.google.com/notebooks/data_table.ipynb>data table notebook</a>'\n",
              "            + ' to learn more about interactive tables.';\n",
              "          element.innerHTML = '';\n",
              "          dataTable['output_type'] = 'display_data';\n",
              "          await google.colab.output.renderOutput(dataTable, element);\n",
              "          const docLink = document.createElement('div');\n",
              "          docLink.innerHTML = docLinkHtml;\n",
              "          element.appendChild(docLink);\n",
              "        }\n",
              "      </script>\n",
              "    </div>\n",
              "  </div>\n",
              "  "
            ]
          },
          "metadata": {},
          "execution_count": 137
        }
      ]
    },
    {
      "cell_type": "code",
      "source": [
        "train_df = train_df.merge(med_price_by_floor_year, on=['year_cat', 'floor_cat'], how='left')\n",
        "train_df.head()"
      ],
      "metadata": {
        "colab": {
          "base_uri": "https://localhost:8080/",
          "height": 299
        },
        "id": "YMdBGvWyHH0o",
        "outputId": "31fc7d84-4f2d-4de9-af78-9fbae20d7a4d"
      },
      "execution_count": 138,
      "outputs": [
        {
          "output_type": "execute_result",
          "data": {
            "text/plain": [
              "      Id DistrictId  Rooms      Square  LifeSquare  KitchenSquare  Floor  \\\n",
              "0  11809         27    3.0  115.027311  102.027311           10.0    4.0   \n",
              "1   3013         22    1.0   39.832524   23.169223            8.0    7.0   \n",
              "2   8215          1    3.0   78.342215   47.671972           10.0    2.0   \n",
              "3   2352          1    1.0   40.409907   32.409907            5.0   10.0   \n",
              "4  13866         94    2.0   64.285067   38.562517            9.0   16.0   \n",
              "\n",
              "   HouseFloor  HouseYear  Ecology_1  ... Shops_1 Shops_2          Price  \\\n",
              "0        10.0       2014   0.075424  ...       0       B  305018.871089   \n",
              "1         8.0       1966   0.118537  ...       0       B  177734.553407   \n",
              "2        17.0       1988   0.025609  ...       1       B  282078.720850   \n",
              "3        22.0       1977   0.007122  ...       1       B  168106.007630   \n",
              "4        16.0       1972   0.282798  ...       6       B  343995.102962   \n",
              "\n",
              "   Rooms_outlier  HouseFloor_outlier  LifeSquare_nan  MedPriceByDistrict  \\\n",
              "0              0                   0               1       146171.433190   \n",
              "1              0                   0               0       183678.134031   \n",
              "2              0                   0               0       183663.443595   \n",
              "3              0                   0               1       183663.443595   \n",
              "4              0                   0               0       181706.718894   \n",
              "\n",
              "   year_cat floor_cat  MedPriceByFloorYear  \n",
              "0       5.0       1.0        161744.506404  \n",
              "1       2.0       2.0        192213.977261  \n",
              "2       3.0       0.0        205210.068542  \n",
              "3       2.0       3.0        184374.328532  \n",
              "4       2.0       4.0        175503.767602  \n",
              "\n",
              "[5 rows x 27 columns]"
            ],
            "text/html": [
              "\n",
              "  <div id=\"df-90e1d768-c5e0-421e-8bf5-6e6b6f3cbaf9\">\n",
              "    <div class=\"colab-df-container\">\n",
              "      <div>\n",
              "<style scoped>\n",
              "    .dataframe tbody tr th:only-of-type {\n",
              "        vertical-align: middle;\n",
              "    }\n",
              "\n",
              "    .dataframe tbody tr th {\n",
              "        vertical-align: top;\n",
              "    }\n",
              "\n",
              "    .dataframe thead th {\n",
              "        text-align: right;\n",
              "    }\n",
              "</style>\n",
              "<table border=\"1\" class=\"dataframe\">\n",
              "  <thead>\n",
              "    <tr style=\"text-align: right;\">\n",
              "      <th></th>\n",
              "      <th>Id</th>\n",
              "      <th>DistrictId</th>\n",
              "      <th>Rooms</th>\n",
              "      <th>Square</th>\n",
              "      <th>LifeSquare</th>\n",
              "      <th>KitchenSquare</th>\n",
              "      <th>Floor</th>\n",
              "      <th>HouseFloor</th>\n",
              "      <th>HouseYear</th>\n",
              "      <th>Ecology_1</th>\n",
              "      <th>...</th>\n",
              "      <th>Shops_1</th>\n",
              "      <th>Shops_2</th>\n",
              "      <th>Price</th>\n",
              "      <th>Rooms_outlier</th>\n",
              "      <th>HouseFloor_outlier</th>\n",
              "      <th>LifeSquare_nan</th>\n",
              "      <th>MedPriceByDistrict</th>\n",
              "      <th>year_cat</th>\n",
              "      <th>floor_cat</th>\n",
              "      <th>MedPriceByFloorYear</th>\n",
              "    </tr>\n",
              "  </thead>\n",
              "  <tbody>\n",
              "    <tr>\n",
              "      <th>0</th>\n",
              "      <td>11809</td>\n",
              "      <td>27</td>\n",
              "      <td>3.0</td>\n",
              "      <td>115.027311</td>\n",
              "      <td>102.027311</td>\n",
              "      <td>10.0</td>\n",
              "      <td>4.0</td>\n",
              "      <td>10.0</td>\n",
              "      <td>2014</td>\n",
              "      <td>0.075424</td>\n",
              "      <td>...</td>\n",
              "      <td>0</td>\n",
              "      <td>B</td>\n",
              "      <td>305018.871089</td>\n",
              "      <td>0</td>\n",
              "      <td>0</td>\n",
              "      <td>1</td>\n",
              "      <td>146171.433190</td>\n",
              "      <td>5.0</td>\n",
              "      <td>1.0</td>\n",
              "      <td>161744.506404</td>\n",
              "    </tr>\n",
              "    <tr>\n",
              "      <th>1</th>\n",
              "      <td>3013</td>\n",
              "      <td>22</td>\n",
              "      <td>1.0</td>\n",
              "      <td>39.832524</td>\n",
              "      <td>23.169223</td>\n",
              "      <td>8.0</td>\n",
              "      <td>7.0</td>\n",
              "      <td>8.0</td>\n",
              "      <td>1966</td>\n",
              "      <td>0.118537</td>\n",
              "      <td>...</td>\n",
              "      <td>0</td>\n",
              "      <td>B</td>\n",
              "      <td>177734.553407</td>\n",
              "      <td>0</td>\n",
              "      <td>0</td>\n",
              "      <td>0</td>\n",
              "      <td>183678.134031</td>\n",
              "      <td>2.0</td>\n",
              "      <td>2.0</td>\n",
              "      <td>192213.977261</td>\n",
              "    </tr>\n",
              "    <tr>\n",
              "      <th>2</th>\n",
              "      <td>8215</td>\n",
              "      <td>1</td>\n",
              "      <td>3.0</td>\n",
              "      <td>78.342215</td>\n",
              "      <td>47.671972</td>\n",
              "      <td>10.0</td>\n",
              "      <td>2.0</td>\n",
              "      <td>17.0</td>\n",
              "      <td>1988</td>\n",
              "      <td>0.025609</td>\n",
              "      <td>...</td>\n",
              "      <td>1</td>\n",
              "      <td>B</td>\n",
              "      <td>282078.720850</td>\n",
              "      <td>0</td>\n",
              "      <td>0</td>\n",
              "      <td>0</td>\n",
              "      <td>183663.443595</td>\n",
              "      <td>3.0</td>\n",
              "      <td>0.0</td>\n",
              "      <td>205210.068542</td>\n",
              "    </tr>\n",
              "    <tr>\n",
              "      <th>3</th>\n",
              "      <td>2352</td>\n",
              "      <td>1</td>\n",
              "      <td>1.0</td>\n",
              "      <td>40.409907</td>\n",
              "      <td>32.409907</td>\n",
              "      <td>5.0</td>\n",
              "      <td>10.0</td>\n",
              "      <td>22.0</td>\n",
              "      <td>1977</td>\n",
              "      <td>0.007122</td>\n",
              "      <td>...</td>\n",
              "      <td>1</td>\n",
              "      <td>B</td>\n",
              "      <td>168106.007630</td>\n",
              "      <td>0</td>\n",
              "      <td>0</td>\n",
              "      <td>1</td>\n",
              "      <td>183663.443595</td>\n",
              "      <td>2.0</td>\n",
              "      <td>3.0</td>\n",
              "      <td>184374.328532</td>\n",
              "    </tr>\n",
              "    <tr>\n",
              "      <th>4</th>\n",
              "      <td>13866</td>\n",
              "      <td>94</td>\n",
              "      <td>2.0</td>\n",
              "      <td>64.285067</td>\n",
              "      <td>38.562517</td>\n",
              "      <td>9.0</td>\n",
              "      <td>16.0</td>\n",
              "      <td>16.0</td>\n",
              "      <td>1972</td>\n",
              "      <td>0.282798</td>\n",
              "      <td>...</td>\n",
              "      <td>6</td>\n",
              "      <td>B</td>\n",
              "      <td>343995.102962</td>\n",
              "      <td>0</td>\n",
              "      <td>0</td>\n",
              "      <td>0</td>\n",
              "      <td>181706.718894</td>\n",
              "      <td>2.0</td>\n",
              "      <td>4.0</td>\n",
              "      <td>175503.767602</td>\n",
              "    </tr>\n",
              "  </tbody>\n",
              "</table>\n",
              "<p>5 rows × 27 columns</p>\n",
              "</div>\n",
              "      <button class=\"colab-df-convert\" onclick=\"convertToInteractive('df-90e1d768-c5e0-421e-8bf5-6e6b6f3cbaf9')\"\n",
              "              title=\"Convert this dataframe to an interactive table.\"\n",
              "              style=\"display:none;\">\n",
              "        \n",
              "  <svg xmlns=\"http://www.w3.org/2000/svg\" height=\"24px\"viewBox=\"0 0 24 24\"\n",
              "       width=\"24px\">\n",
              "    <path d=\"M0 0h24v24H0V0z\" fill=\"none\"/>\n",
              "    <path d=\"M18.56 5.44l.94 2.06.94-2.06 2.06-.94-2.06-.94-.94-2.06-.94 2.06-2.06.94zm-11 1L8.5 8.5l.94-2.06 2.06-.94-2.06-.94L8.5 2.5l-.94 2.06-2.06.94zm10 10l.94 2.06.94-2.06 2.06-.94-2.06-.94-.94-2.06-.94 2.06-2.06.94z\"/><path d=\"M17.41 7.96l-1.37-1.37c-.4-.4-.92-.59-1.43-.59-.52 0-1.04.2-1.43.59L10.3 9.45l-7.72 7.72c-.78.78-.78 2.05 0 2.83L4 21.41c.39.39.9.59 1.41.59.51 0 1.02-.2 1.41-.59l7.78-7.78 2.81-2.81c.8-.78.8-2.07 0-2.86zM5.41 20L4 18.59l7.72-7.72 1.47 1.35L5.41 20z\"/>\n",
              "  </svg>\n",
              "      </button>\n",
              "      \n",
              "  <style>\n",
              "    .colab-df-container {\n",
              "      display:flex;\n",
              "      flex-wrap:wrap;\n",
              "      gap: 12px;\n",
              "    }\n",
              "\n",
              "    .colab-df-convert {\n",
              "      background-color: #E8F0FE;\n",
              "      border: none;\n",
              "      border-radius: 50%;\n",
              "      cursor: pointer;\n",
              "      display: none;\n",
              "      fill: #1967D2;\n",
              "      height: 32px;\n",
              "      padding: 0 0 0 0;\n",
              "      width: 32px;\n",
              "    }\n",
              "\n",
              "    .colab-df-convert:hover {\n",
              "      background-color: #E2EBFA;\n",
              "      box-shadow: 0px 1px 2px rgba(60, 64, 67, 0.3), 0px 1px 3px 1px rgba(60, 64, 67, 0.15);\n",
              "      fill: #174EA6;\n",
              "    }\n",
              "\n",
              "    [theme=dark] .colab-df-convert {\n",
              "      background-color: #3B4455;\n",
              "      fill: #D2E3FC;\n",
              "    }\n",
              "\n",
              "    [theme=dark] .colab-df-convert:hover {\n",
              "      background-color: #434B5C;\n",
              "      box-shadow: 0px 1px 3px 1px rgba(0, 0, 0, 0.15);\n",
              "      filter: drop-shadow(0px 1px 2px rgba(0, 0, 0, 0.3));\n",
              "      fill: #FFFFFF;\n",
              "    }\n",
              "  </style>\n",
              "\n",
              "      <script>\n",
              "        const buttonEl =\n",
              "          document.querySelector('#df-90e1d768-c5e0-421e-8bf5-6e6b6f3cbaf9 button.colab-df-convert');\n",
              "        buttonEl.style.display =\n",
              "          google.colab.kernel.accessAllowed ? 'block' : 'none';\n",
              "\n",
              "        async function convertToInteractive(key) {\n",
              "          const element = document.querySelector('#df-90e1d768-c5e0-421e-8bf5-6e6b6f3cbaf9');\n",
              "          const dataTable =\n",
              "            await google.colab.kernel.invokeFunction('convertToInteractive',\n",
              "                                                     [key], {});\n",
              "          if (!dataTable) return;\n",
              "\n",
              "          const docLinkHtml = 'Like what you see? Visit the ' +\n",
              "            '<a target=\"_blank\" href=https://colab.research.google.com/notebooks/data_table.ipynb>data table notebook</a>'\n",
              "            + ' to learn more about interactive tables.';\n",
              "          element.innerHTML = '';\n",
              "          dataTable['output_type'] = 'display_data';\n",
              "          await google.colab.output.renderOutput(dataTable, element);\n",
              "          const docLink = document.createElement('div');\n",
              "          docLink.innerHTML = docLinkHtml;\n",
              "          element.appendChild(docLink);\n",
              "        }\n",
              "      </script>\n",
              "    </div>\n",
              "  </div>\n",
              "  "
            ]
          },
          "metadata": {},
          "execution_count": 138
        }
      ]
    },
    {
      "cell_type": "code",
      "source": [
        "class FeatureGenetator():\n",
        "    \"\"\"Генерация новых фич\"\"\"\n",
        "    \n",
        "    def __init__(self, large_district_threshold=100, med_price_by_district_grouping=[]):\n",
        "        self.DistrictId_counts = None\n",
        "        self.binary_to_numbers = None\n",
        "        self.med_price_by_district = None\n",
        "        self.med_price_by_floor_year = None\n",
        "        self.house_year_max = None\n",
        "        self.floor_max = None\n",
        "        self.house_year_min = None\n",
        "        self.floor_min = None\n",
        "        self.district_size = None\n",
        "        self.large_district_threshold = large_district_threshold\n",
        "        self.med_price_by_district_grouping = med_price_by_district_grouping\n",
        "        \n",
        "    def fit(self, X, y=None):\n",
        "        \n",
        "        X = X.copy()\n",
        "        \n",
        "        # Binary features\n",
        "        self.binary_to_numbers = {'A': 0, 'B': 1}\n",
        "        \n",
        "        # DistrictID\n",
        "        self.district_size = X['DistrictId'].value_counts().reset_index() \\\n",
        "                               .rename(columns={'index':'DistrictId', 'DistrictId':'DistrictSize'})\n",
        "                \n",
        "        # Target encoding\n",
        "        ## District, Rooms\n",
        "        df = X.copy()\n",
        "        \n",
        "        if y is not None:\n",
        "            df['Price'] = y.values\n",
        "            \n",
        "            self.med_price_by_district = df.groupby(self.med_price_by_district_grouping, as_index=False).agg({'Price':'median'})\\\n",
        "                                            .rename(columns={'Price':'MedPriceByDistrict'})\n",
        "            \n",
        "            self.med_price_by_district_median = self.med_price_by_district['MedPriceByDistrict'].median()\n",
        "            \n",
        "        ## floor, year\n",
        "        if y is not None:\n",
        "            self.floor_max = df['Floor'].max()\n",
        "            self.floor_min = df['Floor'].min()\n",
        "            self.house_year_max = df['HouseYear'].max()\n",
        "            self.house_year_min = df['HouseYear'].min()\n",
        "            df['Price'] = y.values\n",
        "            df = self.floor_to_cat(df)\n",
        "            df = self.year_to_cat(df)\n",
        "            self.med_price_by_floor_year = df.groupby(['year_cat', 'floor_cat'], as_index=False).agg({'Price':'median'}).\\\n",
        "                                            rename(columns={'Price':'MedPriceByFloorYear'})\n",
        "            self.med_price_by_floor_year_median = self.med_price_by_floor_year['MedPriceByFloorYear'].median()\n",
        "        \n",
        "\n",
        "        \n",
        "    def transform(self, X):\n",
        "        \n",
        "        # Binary features\n",
        "        X['Ecology_2'] = X['Ecology_2'].map(self.binary_to_numbers)  # self.binary_to_numbers = {'A': 0, 'B': 1}\n",
        "        X['Ecology_3'] = X['Ecology_3'].map(self.binary_to_numbers)\n",
        "        X['Shops_2'] = X['Shops_2'].map(self.binary_to_numbers)\n",
        "        \n",
        "        # DistrictId, IsDistrictLarge\n",
        "        X = X.merge(self.district_size, on='DistrictId', how='left')\n",
        "        \n",
        "        X['new_district'] = 0\n",
        "        X.loc[X['DistrictSize'].isna(), 'new_district'] = 1\n",
        "        \n",
        "        X['DistrictSize'].fillna(5, inplace=True)\n",
        "        \n",
        "        X['IsDistrictLarge'] = (X['DistrictSize'] > self.large_district_threshold).astype(int)\n",
        "        \n",
        "        # More categorical features\n",
        "        X = self.floor_to_cat(X)  # + столбец floor_cat\n",
        "        X = self.year_to_cat(X)   # + столбец year_cat\n",
        "        \n",
        "        # Target encoding\n",
        "        if self.med_price_by_district is not None:\n",
        "            X = X.merge(self.med_price_by_district, on=self.med_price_by_district_grouping, how='left')\n",
        "            X['MedPriceByDistrict'].fillna(self.med_price_by_district_median, inplace=True)\n",
        "            \n",
        "        if self.med_price_by_floor_year is not None:\n",
        "            X = X.merge(self.med_price_by_floor_year, on=['year_cat', 'floor_cat'], how='left')\n",
        "            X['MedPriceByFloorYear'].fillna(self.med_price_by_floor_year_median, inplace=True)\n",
        "        \n",
        "        return X\n",
        "    \n",
        "    def floor_to_cat(self, X):\n",
        "        bins = [self.floor_min, 3, 5, 9, 15, self.floor_max]\n",
        "        X['floor_cat'] = pd.cut(X['Floor'], bins=bins, labels=False)\n",
        "\n",
        "        X['floor_cat'].fillna(-1, inplace=True)\n",
        "        return X\n",
        "     \n",
        "    def year_to_cat(self, X):\n",
        "        bins = [self.house_year_min, 1941, 1945, 1980, 2000, 2010, self.house_year_max]\n",
        "        X['year_cat'] = pd.cut(X['HouseYear'], bins=bins, labels=False)\n",
        "\n",
        "        X['year_cat'].fillna(-1, inplace=True)\n",
        "        return X"
      ],
      "metadata": {
        "id": "xKt-2-JsHKTY"
      },
      "execution_count": 146,
      "outputs": []
    },
    {
      "cell_type": "markdown",
      "source": [
        "### **5. Отбор признаков**"
      ],
      "metadata": {
        "id": "six3En5g2B9J"
      }
    },
    {
      "cell_type": "code",
      "source": [
        "train_df.columns.tolist()"
      ],
      "metadata": {
        "colab": {
          "base_uri": "https://localhost:8080/"
        },
        "id": "wl-LIqnI2FFu",
        "outputId": "abbfc01b-0e07-4869-f21d-e69b2d7d4cff"
      },
      "execution_count": 59,
      "outputs": [
        {
          "output_type": "execute_result",
          "data": {
            "text/plain": [
              "['Id',\n",
              " 'DistrictId',\n",
              " 'Rooms',\n",
              " 'Square',\n",
              " 'LifeSquare',\n",
              " 'KitchenSquare',\n",
              " 'Floor',\n",
              " 'HouseFloor',\n",
              " 'HouseYear',\n",
              " 'Ecology_1',\n",
              " 'Ecology_2',\n",
              " 'Ecology_3',\n",
              " 'Social_1',\n",
              " 'Social_2',\n",
              " 'Social_3',\n",
              " 'Helthcare_2',\n",
              " 'Shops_1',\n",
              " 'Shops_2',\n",
              " 'Price',\n",
              " 'Rooms_outlier',\n",
              " 'HouseFloor_outlier',\n",
              " 'LifeSquare_nan',\n",
              " 'DistrictSize',\n",
              " 'IsDistrictLarge',\n",
              " 'MedPriceByDistrict',\n",
              " 'year_cat',\n",
              " 'floor_cat',\n",
              " 'MedPriceByFloorYear']"
            ]
          },
          "metadata": {},
          "execution_count": 59
        }
      ]
    },
    {
      "cell_type": "code",
      "source": [
        "feature_names = ['Rooms', 'Square', 'LifeSquare', 'KitchenSquare', #'Floor', \n",
        "                 'HouseFloor', 'HouseYear',\n",
        "                 'Ecology_1', 'Ecology_2', 'Ecology_3', 'Social_1', 'Social_2', 'Social_3', # 'Healthcare_1',\n",
        "                 'Helthcare_2', 'Shops_1', 'Shops_2']\n",
        "\n",
        "new_feature_names = ['Rooms_outlier', 'HouseFloor_outlier', 'HouseYear_outlier', 'LifeSquare_nan', 'DistrictSize',\n",
        "                     'new_district', 'IsDistrictLarge',  'MedPriceByDistrict', 'MedPriceByFloorYear']\n",
        "\n",
        "target_name = 'Price'"
      ],
      "metadata": {
        "id": "QWTtdkFm2IDr"
      },
      "execution_count": 140,
      "outputs": []
    },
    {
      "cell_type": "markdown",
      "source": [
        "### **6. Разбиение на train и test**"
      ],
      "metadata": {
        "id": "CBbFCTJ11A_c"
      }
    },
    {
      "cell_type": "code",
      "source": [
        "train_df = pd.read_csv(TRAIN_DATASET_PATH)\n",
        "test_df = pd.read_csv(TEST_DATASET_PATH)\n",
        "\n",
        "X = train_df.drop(columns=target_name)\n",
        "y = train_df[target_name]"
      ],
      "metadata": {
        "id": "6RSOpFWo1Hyw"
      },
      "execution_count": 142,
      "outputs": []
    },
    {
      "cell_type": "code",
      "source": [
        "X_train, X_valid, y_train, y_valid = train_test_split(X, y, test_size=0.2, shuffle=True, random_state=21)"
      ],
      "metadata": {
        "id": "iUjNX_UFpIup"
      },
      "execution_count": 143,
      "outputs": []
    },
    {
      "cell_type": "code",
      "source": [
        "preprocessor = DataPreprocessing(kitchen_square_quantile=0.95, kitchen_square_min_threshold=3,\n",
        "                                 balcony_square=5)\n",
        "preprocessor.fit(X_train)\n",
        "\n",
        "X_train = preprocessor.transform(X_train)\n",
        "X_valid = preprocessor.transform(X_valid)\n",
        "test_df = preprocessor.transform(test_df)\n",
        "\n",
        "X_train.shape, X_valid.shape, test_df.shape"
      ],
      "metadata": {
        "colab": {
          "base_uri": "https://localhost:8080/"
        },
        "id": "3u5574xtHZ9F",
        "outputId": "45143ecd-c4fc-47d4-bf46-659a1b1a6905"
      },
      "execution_count": 144,
      "outputs": [
        {
          "output_type": "execute_result",
          "data": {
            "text/plain": [
              "((8000, 23), (2000, 23), (5000, 23))"
            ]
          },
          "metadata": {},
          "execution_count": 144
        }
      ]
    },
    {
      "cell_type": "code",
      "source": [
        "features_gen = FeatureGenetator(large_district_threshold=100, med_price_by_district_grouping=['DistrictId'])\n",
        "features_gen.fit(X_train, y_train)\n",
        "\n",
        "X_train = features_gen.transform(X_train)\n",
        "X_valid = features_gen.transform(X_valid)\n",
        "test_df = features_gen.transform(test_df)\n",
        "\n",
        "X_train.shape, X_valid.shape, test_df.shape"
      ],
      "metadata": {
        "colab": {
          "base_uri": "https://localhost:8080/"
        },
        "id": "E1xYeHixHa7Q",
        "outputId": "ea35216d-c367-4421-cd6e-f8a70e339a62"
      },
      "execution_count": 147,
      "outputs": [
        {
          "output_type": "execute_result",
          "data": {
            "text/plain": [
              "((8000, 30), (2000, 30), (5000, 30))"
            ]
          },
          "metadata": {},
          "execution_count": 147
        }
      ]
    },
    {
      "cell_type": "code",
      "source": [
        "X_train = X_train[feature_names + new_feature_names]\n",
        "X_valid = X_valid[feature_names + new_feature_names]\n",
        "test_df = test_df[feature_names + new_feature_names]"
      ],
      "metadata": {
        "id": "pp0SKlCHHdi5"
      },
      "execution_count": 148,
      "outputs": []
    },
    {
      "cell_type": "code",
      "source": [
        "X_train.isna().sum().sum(), X_valid.isna().sum().sum(), test_df.isna().sum().sum()"
      ],
      "metadata": {
        "colab": {
          "base_uri": "https://localhost:8080/"
        },
        "id": "qXgZVXSbHfwd",
        "outputId": "d5e8c1b3-00da-47b1-eaae-c07817c69a29"
      },
      "execution_count": 149,
      "outputs": [
        {
          "output_type": "execute_result",
          "data": {
            "text/plain": [
              "(0, 0, 0)"
            ]
          },
          "metadata": {},
          "execution_count": 149
        }
      ]
    },
    {
      "cell_type": "markdown",
      "source": [
        "## **7. Построение модели**"
      ],
      "metadata": {
        "id": "SkXnzxoKzpxr"
      }
    },
    {
      "cell_type": "markdown",
      "source": [
        "**Обучение**"
      ],
      "metadata": {
        "id": "jbk6i4QjHnKT"
      }
    },
    {
      "cell_type": "code",
      "source": [
        "model = CatBoostRegressor(\n",
        "    learning_rate=0.03,\n",
        "    depth=9,\n",
        "    l2_leaf_reg=2,\n",
        "    iterations=1000,\n",
        "    loss_function='RMSE',\n",
        "    eval_metric='RMSE',\n",
        "    random_seed=21,\n",
        "    silent=True,\n",
        ")\n",
        "model.fit(X_train, y_train)"
      ],
      "metadata": {
        "id": "v4R4dKD2x8Lw",
        "colab": {
          "base_uri": "https://localhost:8080/"
        },
        "outputId": "d1ee26b0-03c5-4702-870b-196f96d2fe33"
      },
      "execution_count": 150,
      "outputs": [
        {
          "output_type": "execute_result",
          "data": {
            "text/plain": [
              "<catboost.core.CatBoostRegressor at 0x7fef625df1d0>"
            ]
          },
          "metadata": {},
          "execution_count": 150
        }
      ]
    },
    {
      "cell_type": "markdown",
      "source": [
        "**Оценка модели**"
      ],
      "metadata": {
        "id": "plSd1m-LHp32"
      }
    },
    {
      "cell_type": "code",
      "source": [
        "y_train_preds = model.predict(X_train)\n",
        "y_test_preds = model.predict(X_valid)\n",
        "\n",
        "evaluate_preds(y_train, y_train_preds, y_valid, y_test_preds)"
      ],
      "metadata": {
        "colab": {
          "base_uri": "https://localhost:8080/",
          "height": 671
        },
        "id": "jhpKgTj1HsOj",
        "outputId": "7dd1d077-db84-4277-b5a9-2829017a7b28"
      },
      "execution_count": 151,
      "outputs": [
        {
          "output_type": "stream",
          "name": "stdout",
          "text": [
            "Train R2:\t0.934\n",
            "Test R2:\t0.775\n"
          ]
        },
        {
          "output_type": "display_data",
          "data": {
            "text/plain": [
              "<Figure size 1296x720 with 2 Axes>"
            ],
            "image/png": "[encoded data removed]"
          },
          "metadata": {
            "needs_background": "light"
          }
        }
      ]
    },
    {
      "cell_type": "markdown",
      "source": [
        "**Кросс-валидация**"
      ],
      "metadata": {
        "id": "hisCPXICIEz4"
      }
    },
    {
      "cell_type": "code",
      "source": [
        "cv_score = cross_val_score(model, X_train, y_train, scoring='r2', cv=KFold(n_splits=3, shuffle=True, random_state=21))\n",
        "cv_score"
      ],
      "metadata": {
        "colab": {
          "base_uri": "https://localhost:8080/"
        },
        "id": "6XTMGK7QHuZ4",
        "outputId": "c00238f0-f75b-4516-b45e-e51ceb16dfb1"
      },
      "execution_count": 152,
      "outputs": [
        {
          "output_type": "execute_result",
          "data": {
            "text/plain": [
              "array([0.7607194 , 0.72234479, 0.76515392])"
            ]
          },
          "metadata": {},
          "execution_count": 152
        }
      ]
    },
    {
      "cell_type": "code",
      "source": [
        "cv_score.mean()"
      ],
      "metadata": {
        "colab": {
          "base_uri": "https://localhost:8080/"
        },
        "id": "XjF3B5nuISpt",
        "outputId": "9f7232ad-1f2c-47ec-a347-fc390fa01972"
      },
      "execution_count": 153,
      "outputs": [
        {
          "output_type": "execute_result",
          "data": {
            "text/plain": [
              "0.7494060347099777"
            ]
          },
          "metadata": {},
          "execution_count": 153
        }
      ]
    },
    {
      "cell_type": "markdown",
      "source": [
        "### **8. Прогнозирование на тестовом датасете**"
      ],
      "metadata": {
        "id": "hgrwHlY2LMgD"
      }
    },
    {
      "cell_type": "code",
      "source": [
        "test_df.shape"
      ],
      "metadata": {
        "colab": {
          "base_uri": "https://localhost:8080/"
        },
        "id": "uXdNqizcITLG",
        "outputId": "52920944-7c61-4519-aa77-b68ed6935fbd"
      },
      "execution_count": 154,
      "outputs": [
        {
          "output_type": "execute_result",
          "data": {
            "text/plain": [
              "(5000, 24)"
            ]
          },
          "metadata": {},
          "execution_count": 154
        }
      ]
    },
    {
      "cell_type": "code",
      "source": [
        "test_df"
      ],
      "metadata": {
        "colab": {
          "base_uri": "https://localhost:8080/",
          "height": 487
        },
        "id": "5n2PtWYBLPzG",
        "outputId": "6811af69-77a9-40d7-cd74-e9bacb32fd6e"
      },
      "execution_count": 155,
      "outputs": [
        {
          "output_type": "execute_result",
          "data": {
            "text/plain": [
              "      Rooms     Square  LifeSquare  KitchenSquare  HouseFloor  HouseYear  \\\n",
              "0       1.0  36.847630   19.094182            5.0         9.0       1970   \n",
              "1       1.0  42.493907   42.568133           10.0        17.0       2017   \n",
              "2       2.0  59.463678   45.463678            9.0        19.0       1977   \n",
              "3       3.0  49.646030   33.893825            6.0         2.0       1965   \n",
              "4       1.0  53.837056   45.837056            3.0        17.0       1977   \n",
              "...     ...        ...         ...            ...         ...        ...   \n",
              "4995    2.0  43.177521   30.339945            5.0         5.0       1962   \n",
              "4996    3.0  93.698122   94.521465           10.0        27.0       2018   \n",
              "4997    1.0  33.656723   19.003259            5.0         5.0       1966   \n",
              "4998    1.0  38.635155   20.976257            9.0        14.0       1970   \n",
              "4999    2.0  67.122742   33.944344            6.0        17.0       2009   \n",
              "\n",
              "      Ecology_1  Ecology_2  Ecology_3  Social_1  ...  Shops_2  Rooms_outlier  \\\n",
              "0      0.036122          1          1        24  ...        1              0   \n",
              "1      0.072158          1          1         2  ...        0              0   \n",
              "2      0.211401          1          1         9  ...        1              0   \n",
              "3      0.014073          1          1         2  ...        1              0   \n",
              "4      0.309479          1          1        35  ...        1              0   \n",
              "...         ...        ...        ...       ...  ...      ...            ...   \n",
              "4995   0.069660          1          1        31  ...        1              0   \n",
              "4996   0.060753          1          1        15  ...        1              0   \n",
              "4997   0.038693          1          1        28  ...        1              0   \n",
              "4998   0.089040          1          1        33  ...        1              0   \n",
              "4999   0.194489          1          1        47  ...        1              0   \n",
              "\n",
              "      HouseFloor_outlier  HouseYear_outlier  LifeSquare_nan  DistrictSize  \\\n",
              "0                      0                  0               0          86.0   \n",
              "1                      0                  0               0         193.0   \n",
              "2                      0                  0               1         691.0   \n",
              "3                      0                  0               0         444.0   \n",
              "4                      0                  0               1          81.0   \n",
              "...                  ...                ...             ...           ...   \n",
              "4995                   1                  0               0          69.0   \n",
              "4996                   0                  0               0          29.0   \n",
              "4997                   0                  0               0          70.0   \n",
              "4998                   0                  0               0          46.0   \n",
              "4999                   0                  0               0         130.0   \n",
              "\n",
              "      new_district  IsDistrictLarge  MedPriceByDistrict  MedPriceByFloorYear  \n",
              "0                0                0       206400.446460        186044.241187  \n",
              "1                0                1       162537.996292        179986.169695  \n",
              "2                0                1       146652.390009        174137.278013  \n",
              "3                0                1       113919.670183        182128.021554  \n",
              "4                0                0       212801.122972        190891.093552  \n",
              "...            ...              ...                 ...                  ...  \n",
              "4995             0                0       173315.200160        186044.241187  \n",
              "4996             0                0       317697.404029        195066.700021  \n",
              "4997             0                0       187448.635642        182128.021554  \n",
              "4998             0                0       217749.656911        190891.093552  \n",
              "4999             0                1       181955.856450        235255.942212  \n",
              "\n",
              "[5000 rows x 24 columns]"
            ],
            "text/html": [
              "\n",
              "  <div id=\"df-651b5398-7d63-478b-a28c-c54832993ef2\">\n",
              "    <div class=\"colab-df-container\">\n",
              "      <div>\n",
              "<style scoped>\n",
              "    .dataframe tbody tr th:only-of-type {\n",
              "        vertical-align: middle;\n",
              "    }\n",
              "\n",
              "    .dataframe tbody tr th {\n",
              "        vertical-align: top;\n",
              "    }\n",
              "\n",
              "    .dataframe thead th {\n",
              "        text-align: right;\n",
              "    }\n",
              "</style>\n",
              "<table border=\"1\" class=\"dataframe\">\n",
              "  <thead>\n",
              "    <tr style=\"text-align: right;\">\n",
              "      <th></th>\n",
              "      <th>Rooms</th>\n",
              "      <th>Square</th>\n",
              "      <th>LifeSquare</th>\n",
              "      <th>KitchenSquare</th>\n",
              "      <th>HouseFloor</th>\n",
              "      <th>HouseYear</th>\n",
              "      <th>Ecology_1</th>\n",
              "      <th>Ecology_2</th>\n",
              "      <th>Ecology_3</th>\n",
              "      <th>Social_1</th>\n",
              "      <th>...</th>\n",
              "      <th>Shops_2</th>\n",
              "      <th>Rooms_outlier</th>\n",
              "      <th>HouseFloor_outlier</th>\n",
              "      <th>HouseYear_outlier</th>\n",
              "      <th>LifeSquare_nan</th>\n",
              "      <th>DistrictSize</th>\n",
              "      <th>new_district</th>\n",
              "      <th>IsDistrictLarge</th>\n",
              "      <th>MedPriceByDistrict</th>\n",
              "      <th>MedPriceByFloorYear</th>\n",
              "    </tr>\n",
              "  </thead>\n",
              "  <tbody>\n",
              "    <tr>\n",
              "      <th>0</th>\n",
              "      <td>1.0</td>\n",
              "      <td>36.847630</td>\n",
              "      <td>19.094182</td>\n",
              "      <td>5.0</td>\n",
              "      <td>9.0</td>\n",
              "      <td>1970</td>\n",
              "      <td>0.036122</td>\n",
              "      <td>1</td>\n",
              "      <td>1</td>\n",
              "      <td>24</td>\n",
              "      <td>...</td>\n",
              "      <td>1</td>\n",
              "      <td>0</td>\n",
              "      <td>0</td>\n",
              "      <td>0</td>\n",
              "      <td>0</td>\n",
              "      <td>86.0</td>\n",
              "      <td>0</td>\n",
              "      <td>0</td>\n",
              "      <td>206400.446460</td>\n",
              "      <td>186044.241187</td>\n",
              "    </tr>\n",
              "    <tr>\n",
              "      <th>1</th>\n",
              "      <td>1.0</td>\n",
              "      <td>42.493907</td>\n",
              "      <td>42.568133</td>\n",
              "      <td>10.0</td>\n",
              "      <td>17.0</td>\n",
              "      <td>2017</td>\n",
              "      <td>0.072158</td>\n",
              "      <td>1</td>\n",
              "      <td>1</td>\n",
              "      <td>2</td>\n",
              "      <td>...</td>\n",
              "      <td>0</td>\n",
              "      <td>0</td>\n",
              "      <td>0</td>\n",
              "      <td>0</td>\n",
              "      <td>0</td>\n",
              "      <td>193.0</td>\n",
              "      <td>0</td>\n",
              "      <td>1</td>\n",
              "      <td>162537.996292</td>\n",
              "      <td>179986.169695</td>\n",
              "    </tr>\n",
              "    <tr>\n",
              "      <th>2</th>\n",
              "      <td>2.0</td>\n",
              "      <td>59.463678</td>\n",
              "      <td>45.463678</td>\n",
              "      <td>9.0</td>\n",
              "      <td>19.0</td>\n",
              "      <td>1977</td>\n",
              "      <td>0.211401</td>\n",
              "      <td>1</td>\n",
              "      <td>1</td>\n",
              "      <td>9</td>\n",
              "      <td>...</td>\n",
              "      <td>1</td>\n",
              "      <td>0</td>\n",
              "      <td>0</td>\n",
              "      <td>0</td>\n",
              "      <td>1</td>\n",
              "      <td>691.0</td>\n",
              "      <td>0</td>\n",
              "      <td>1</td>\n",
              "      <td>146652.390009</td>\n",
              "      <td>174137.278013</td>\n",
              "    </tr>\n",
              "    <tr>\n",
              "      <th>3</th>\n",
              "      <td>3.0</td>\n",
              "      <td>49.646030</td>\n",
              "      <td>33.893825</td>\n",
              "      <td>6.0</td>\n",
              "      <td>2.0</td>\n",
              "      <td>1965</td>\n",
              "      <td>0.014073</td>\n",
              "      <td>1</td>\n",
              "      <td>1</td>\n",
              "      <td>2</td>\n",
              "      <td>...</td>\n",
              "      <td>1</td>\n",
              "      <td>0</td>\n",
              "      <td>0</td>\n",
              "      <td>0</td>\n",
              "      <td>0</td>\n",
              "      <td>444.0</td>\n",
              "      <td>0</td>\n",
              "      <td>1</td>\n",
              "      <td>113919.670183</td>\n",
              "      <td>182128.021554</td>\n",
              "    </tr>\n",
              "    <tr>\n",
              "      <th>4</th>\n",
              "      <td>1.0</td>\n",
              "      <td>53.837056</td>\n",
              "      <td>45.837056</td>\n",
              "      <td>3.0</td>\n",
              "      <td>17.0</td>\n",
              "      <td>1977</td>\n",
              "      <td>0.309479</td>\n",
              "      <td>1</td>\n",
              "      <td>1</td>\n",
              "      <td>35</td>\n",
              "      <td>...</td>\n",
              "      <td>1</td>\n",
              "      <td>0</td>\n",
              "      <td>0</td>\n",
              "      <td>0</td>\n",
              "      <td>1</td>\n",
              "      <td>81.0</td>\n",
              "      <td>0</td>\n",
              "      <td>0</td>\n",
              "      <td>212801.122972</td>\n",
              "      <td>190891.093552</td>\n",
              "    </tr>\n",
              "    <tr>\n",
              "      <th>...</th>\n",
              "      <td>...</td>\n",
              "      <td>...</td>\n",
              "      <td>...</td>\n",
              "      <td>...</td>\n",
              "      <td>...</td>\n",
              "      <td>...</td>\n",
              "      <td>...</td>\n",
              "      <td>...</td>\n",
              "      <td>...</td>\n",
              "      <td>...</td>\n",
              "      <td>...</td>\n",
              "      <td>...</td>\n",
              "      <td>...</td>\n",
              "      <td>...</td>\n",
              "      <td>...</td>\n",
              "      <td>...</td>\n",
              "      <td>...</td>\n",
              "      <td>...</td>\n",
              "      <td>...</td>\n",
              "      <td>...</td>\n",
              "      <td>...</td>\n",
              "    </tr>\n",
              "    <tr>\n",
              "      <th>4995</th>\n",
              "      <td>2.0</td>\n",
              "      <td>43.177521</td>\n",
              "      <td>30.339945</td>\n",
              "      <td>5.0</td>\n",
              "      <td>5.0</td>\n",
              "      <td>1962</td>\n",
              "      <td>0.069660</td>\n",
              "      <td>1</td>\n",
              "      <td>1</td>\n",
              "      <td>31</td>\n",
              "      <td>...</td>\n",
              "      <td>1</td>\n",
              "      <td>0</td>\n",
              "      <td>1</td>\n",
              "      <td>0</td>\n",
              "      <td>0</td>\n",
              "      <td>69.0</td>\n",
              "      <td>0</td>\n",
              "      <td>0</td>\n",
              "      <td>173315.200160</td>\n",
              "      <td>186044.241187</td>\n",
              "    </tr>\n",
              "    <tr>\n",
              "      <th>4996</th>\n",
              "      <td>3.0</td>\n",
              "      <td>93.698122</td>\n",
              "      <td>94.521465</td>\n",
              "      <td>10.0</td>\n",
              "      <td>27.0</td>\n",
              "      <td>2018</td>\n",
              "      <td>0.060753</td>\n",
              "      <td>1</td>\n",
              "      <td>1</td>\n",
              "      <td>15</td>\n",
              "      <td>...</td>\n",
              "      <td>1</td>\n",
              "      <td>0</td>\n",
              "      <td>0</td>\n",
              "      <td>0</td>\n",
              "      <td>0</td>\n",
              "      <td>29.0</td>\n",
              "      <td>0</td>\n",
              "      <td>0</td>\n",
              "      <td>317697.404029</td>\n",
              "      <td>195066.700021</td>\n",
              "    </tr>\n",
              "    <tr>\n",
              "      <th>4997</th>\n",
              "      <td>1.0</td>\n",
              "      <td>33.656723</td>\n",
              "      <td>19.003259</td>\n",
              "      <td>5.0</td>\n",
              "      <td>5.0</td>\n",
              "      <td>1966</td>\n",
              "      <td>0.038693</td>\n",
              "      <td>1</td>\n",
              "      <td>1</td>\n",
              "      <td>28</td>\n",
              "      <td>...</td>\n",
              "      <td>1</td>\n",
              "      <td>0</td>\n",
              "      <td>0</td>\n",
              "      <td>0</td>\n",
              "      <td>0</td>\n",
              "      <td>70.0</td>\n",
              "      <td>0</td>\n",
              "      <td>0</td>\n",
              "      <td>187448.635642</td>\n",
              "      <td>182128.021554</td>\n",
              "    </tr>\n",
              "    <tr>\n",
              "      <th>4998</th>\n",
              "      <td>1.0</td>\n",
              "      <td>38.635155</td>\n",
              "      <td>20.976257</td>\n",
              "      <td>9.0</td>\n",
              "      <td>14.0</td>\n",
              "      <td>1970</td>\n",
              "      <td>0.089040</td>\n",
              "      <td>1</td>\n",
              "      <td>1</td>\n",
              "      <td>33</td>\n",
              "      <td>...</td>\n",
              "      <td>1</td>\n",
              "      <td>0</td>\n",
              "      <td>0</td>\n",
              "      <td>0</td>\n",
              "      <td>0</td>\n",
              "      <td>46.0</td>\n",
              "      <td>0</td>\n",
              "      <td>0</td>\n",
              "      <td>217749.656911</td>\n",
              "      <td>190891.093552</td>\n",
              "    </tr>\n",
              "    <tr>\n",
              "      <th>4999</th>\n",
              "      <td>2.0</td>\n",
              "      <td>67.122742</td>\n",
              "      <td>33.944344</td>\n",
              "      <td>6.0</td>\n",
              "      <td>17.0</td>\n",
              "      <td>2009</td>\n",
              "      <td>0.194489</td>\n",
              "      <td>1</td>\n",
              "      <td>1</td>\n",
              "      <td>47</td>\n",
              "      <td>...</td>\n",
              "      <td>1</td>\n",
              "      <td>0</td>\n",
              "      <td>0</td>\n",
              "      <td>0</td>\n",
              "      <td>0</td>\n",
              "      <td>130.0</td>\n",
              "      <td>0</td>\n",
              "      <td>1</td>\n",
              "      <td>181955.856450</td>\n",
              "      <td>235255.942212</td>\n",
              "    </tr>\n",
              "  </tbody>\n",
              "</table>\n",
              "<p>5000 rows × 24 columns</p>\n",
              "</div>\n",
              "      <button class=\"colab-df-convert\" onclick=\"convertToInteractive('df-651b5398-7d63-478b-a28c-c54832993ef2')\"\n",
              "              title=\"Convert this dataframe to an interactive table.\"\n",
              "              style=\"display:none;\">\n",
              "        \n",
              "  <svg xmlns=\"http://www.w3.org/2000/svg\" height=\"24px\"viewBox=\"0 0 24 24\"\n",
              "       width=\"24px\">\n",
              "    <path d=\"M0 0h24v24H0V0z\" fill=\"none\"/>\n",
              "    <path d=\"M18.56 5.44l.94 2.06.94-2.06 2.06-.94-2.06-.94-.94-2.06-.94 2.06-2.06.94zm-11 1L8.5 8.5l.94-2.06 2.06-.94-2.06-.94L8.5 2.5l-.94 2.06-2.06.94zm10 10l.94 2.06.94-2.06 2.06-.94-2.06-.94-.94-2.06-.94 2.06-2.06.94z\"/><path d=\"M17.41 7.96l-1.37-1.37c-.4-.4-.92-.59-1.43-.59-.52 0-1.04.2-1.43.59L10.3 9.45l-7.72 7.72c-.78.78-.78 2.05 0 2.83L4 21.41c.39.39.9.59 1.41.59.51 0 1.02-.2 1.41-.59l7.78-7.78 2.81-2.81c.8-.78.8-2.07 0-2.86zM5.41 20L4 18.59l7.72-7.72 1.47 1.35L5.41 20z\"/>\n",
              "  </svg>\n",
              "      </button>\n",
              "      \n",
              "  <style>\n",
              "    .colab-df-container {\n",
              "      display:flex;\n",
              "      flex-wrap:wrap;\n",
              "      gap: 12px;\n",
              "    }\n",
              "\n",
              "    .colab-df-convert {\n",
              "      background-color: #E8F0FE;\n",
              "      border: none;\n",
              "      border-radius: 50%;\n",
              "      cursor: pointer;\n",
              "      display: none;\n",
              "      fill: #1967D2;\n",
              "      height: 32px;\n",
              "      padding: 0 0 0 0;\n",
              "      width: 32px;\n",
              "    }\n",
              "\n",
              "    .colab-df-convert:hover {\n",
              "      background-color: #E2EBFA;\n",
              "      box-shadow: 0px 1px 2px rgba(60, 64, 67, 0.3), 0px 1px 3px 1px rgba(60, 64, 67, 0.15);\n",
              "      fill: #174EA6;\n",
              "    }\n",
              "\n",
              "    [theme=dark] .colab-df-convert {\n",
              "      background-color: #3B4455;\n",
              "      fill: #D2E3FC;\n",
              "    }\n",
              "\n",
              "    [theme=dark] .colab-df-convert:hover {\n",
              "      background-color: #434B5C;\n",
              "      box-shadow: 0px 1px 3px 1px rgba(0, 0, 0, 0.15);\n",
              "      filter: drop-shadow(0px 1px 2px rgba(0, 0, 0, 0.3));\n",
              "      fill: #FFFFFF;\n",
              "    }\n",
              "  </style>\n",
              "\n",
              "      <script>\n",
              "        const buttonEl =\n",
              "          document.querySelector('#df-651b5398-7d63-478b-a28c-c54832993ef2 button.colab-df-convert');\n",
              "        buttonEl.style.display =\n",
              "          google.colab.kernel.accessAllowed ? 'block' : 'none';\n",
              "\n",
              "        async function convertToInteractive(key) {\n",
              "          const element = document.querySelector('#df-651b5398-7d63-478b-a28c-c54832993ef2');\n",
              "          const dataTable =\n",
              "            await google.colab.kernel.invokeFunction('convertToInteractive',\n",
              "                                                     [key], {});\n",
              "          if (!dataTable) return;\n",
              "\n",
              "          const docLinkHtml = 'Like what you see? Visit the ' +\n",
              "            '<a target=\"_blank\" href=https://colab.research.google.com/notebooks/data_table.ipynb>data table notebook</a>'\n",
              "            + ' to learn more about interactive tables.';\n",
              "          element.innerHTML = '';\n",
              "          dataTable['output_type'] = 'display_data';\n",
              "          await google.colab.output.renderOutput(dataTable, element);\n",
              "          const docLink = document.createElement('div');\n",
              "          docLink.innerHTML = docLinkHtml;\n",
              "          element.appendChild(docLink);\n",
              "        }\n",
              "      </script>\n",
              "    </div>\n",
              "  </div>\n",
              "  "
            ]
          },
          "metadata": {},
          "execution_count": 155
        }
      ]
    },
    {
      "cell_type": "code",
      "source": [
        "submit = pd.read_csv('/content/drive/MyDrive/Colab Notebooks/sample_submission.csv')\n",
        "submit.head()"
      ],
      "metadata": {
        "colab": {
          "base_uri": "https://localhost:8080/",
          "height": 206
        },
        "id": "ajQBf1mPLRWD",
        "outputId": "9c228878-72e6-4bb6-b9d6-04f5e7a94915"
      },
      "execution_count": 156,
      "outputs": [
        {
          "output_type": "execute_result",
          "data": {
            "text/plain": [
              "     Id     Price\n",
              "0  4567  200000.0\n",
              "1  5925  200000.0\n",
              "2   960  200000.0\n",
              "3  3848  200000.0\n",
              "4   746  200000.0"
            ],
            "text/html": [
              "\n",
              "  <div id=\"df-4f09743b-4e2e-4cdd-b107-d31892556924\">\n",
              "    <div class=\"colab-df-container\">\n",
              "      <div>\n",
              "<style scoped>\n",
              "    .dataframe tbody tr th:only-of-type {\n",
              "        vertical-align: middle;\n",
              "    }\n",
              "\n",
              "    .dataframe tbody tr th {\n",
              "        vertical-align: top;\n",
              "    }\n",
              "\n",
              "    .dataframe thead th {\n",
              "        text-align: right;\n",
              "    }\n",
              "</style>\n",
              "<table border=\"1\" class=\"dataframe\">\n",
              "  <thead>\n",
              "    <tr style=\"text-align: right;\">\n",
              "      <th></th>\n",
              "      <th>Id</th>\n",
              "      <th>Price</th>\n",
              "    </tr>\n",
              "  </thead>\n",
              "  <tbody>\n",
              "    <tr>\n",
              "      <th>0</th>\n",
              "      <td>4567</td>\n",
              "      <td>200000.0</td>\n",
              "    </tr>\n",
              "    <tr>\n",
              "      <th>1</th>\n",
              "      <td>5925</td>\n",
              "      <td>200000.0</td>\n",
              "    </tr>\n",
              "    <tr>\n",
              "      <th>2</th>\n",
              "      <td>960</td>\n",
              "      <td>200000.0</td>\n",
              "    </tr>\n",
              "    <tr>\n",
              "      <th>3</th>\n",
              "      <td>3848</td>\n",
              "      <td>200000.0</td>\n",
              "    </tr>\n",
              "    <tr>\n",
              "      <th>4</th>\n",
              "      <td>746</td>\n",
              "      <td>200000.0</td>\n",
              "    </tr>\n",
              "  </tbody>\n",
              "</table>\n",
              "</div>\n",
              "      <button class=\"colab-df-convert\" onclick=\"convertToInteractive('df-4f09743b-4e2e-4cdd-b107-d31892556924')\"\n",
              "              title=\"Convert this dataframe to an interactive table.\"\n",
              "              style=\"display:none;\">\n",
              "        \n",
              "  <svg xmlns=\"http://www.w3.org/2000/svg\" height=\"24px\"viewBox=\"0 0 24 24\"\n",
              "       width=\"24px\">\n",
              "    <path d=\"M0 0h24v24H0V0z\" fill=\"none\"/>\n",
              "    <path d=\"M18.56 5.44l.94 2.06.94-2.06 2.06-.94-2.06-.94-.94-2.06-.94 2.06-2.06.94zm-11 1L8.5 8.5l.94-2.06 2.06-.94-2.06-.94L8.5 2.5l-.94 2.06-2.06.94zm10 10l.94 2.06.94-2.06 2.06-.94-2.06-.94-.94-2.06-.94 2.06-2.06.94z\"/><path d=\"M17.41 7.96l-1.37-1.37c-.4-.4-.92-.59-1.43-.59-.52 0-1.04.2-1.43.59L10.3 9.45l-7.72 7.72c-.78.78-.78 2.05 0 2.83L4 21.41c.39.39.9.59 1.41.59.51 0 1.02-.2 1.41-.59l7.78-7.78 2.81-2.81c.8-.78.8-2.07 0-2.86zM5.41 20L4 18.59l7.72-7.72 1.47 1.35L5.41 20z\"/>\n",
              "  </svg>\n",
              "      </button>\n",
              "      \n",
              "  <style>\n",
              "    .colab-df-container {\n",
              "      display:flex;\n",
              "      flex-wrap:wrap;\n",
              "      gap: 12px;\n",
              "    }\n",
              "\n",
              "    .colab-df-convert {\n",
              "      background-color: #E8F0FE;\n",
              "      border: none;\n",
              "      border-radius: 50%;\n",
              "      cursor: pointer;\n",
              "      display: none;\n",
              "      fill: #1967D2;\n",
              "      height: 32px;\n",
              "      padding: 0 0 0 0;\n",
              "      width: 32px;\n",
              "    }\n",
              "\n",
              "    .colab-df-convert:hover {\n",
              "      background-color: #E2EBFA;\n",
              "      box-shadow: 0px 1px 2px rgba(60, 64, 67, 0.3), 0px 1px 3px 1px rgba(60, 64, 67, 0.15);\n",
              "      fill: #174EA6;\n",
              "    }\n",
              "\n",
              "    [theme=dark] .colab-df-convert {\n",
              "      background-color: #3B4455;\n",
              "      fill: #D2E3FC;\n",
              "    }\n",
              "\n",
              "    [theme=dark] .colab-df-convert:hover {\n",
              "      background-color: #434B5C;\n",
              "      box-shadow: 0px 1px 3px 1px rgba(0, 0, 0, 0.15);\n",
              "      filter: drop-shadow(0px 1px 2px rgba(0, 0, 0, 0.3));\n",
              "      fill: #FFFFFF;\n",
              "    }\n",
              "  </style>\n",
              "\n",
              "      <script>\n",
              "        const buttonEl =\n",
              "          document.querySelector('#df-4f09743b-4e2e-4cdd-b107-d31892556924 button.colab-df-convert');\n",
              "        buttonEl.style.display =\n",
              "          google.colab.kernel.accessAllowed ? 'block' : 'none';\n",
              "\n",
              "        async function convertToInteractive(key) {\n",
              "          const element = document.querySelector('#df-4f09743b-4e2e-4cdd-b107-d31892556924');\n",
              "          const dataTable =\n",
              "            await google.colab.kernel.invokeFunction('convertToInteractive',\n",
              "                                                     [key], {});\n",
              "          if (!dataTable) return;\n",
              "\n",
              "          const docLinkHtml = 'Like what you see? Visit the ' +\n",
              "            '<a target=\"_blank\" href=https://colab.research.google.com/notebooks/data_table.ipynb>data table notebook</a>'\n",
              "            + ' to learn more about interactive tables.';\n",
              "          element.innerHTML = '';\n",
              "          dataTable['output_type'] = 'display_data';\n",
              "          await google.colab.output.renderOutput(dataTable, element);\n",
              "          const docLink = document.createElement('div');\n",
              "          docLink.innerHTML = docLinkHtml;\n",
              "          element.appendChild(docLink);\n",
              "        }\n",
              "      </script>\n",
              "    </div>\n",
              "  </div>\n",
              "  "
            ]
          },
          "metadata": {},
          "execution_count": 156
        }
      ]
    },
    {
      "cell_type": "code",
      "source": [
        "predictions = model.predict(test_df)\n",
        "predictions"
      ],
      "metadata": {
        "colab": {
          "base_uri": "https://localhost:8080/"
        },
        "id": "r8EeDtVxL-ei",
        "outputId": "9d6a31d3-6b52-45b9-b3e9-cf7b74f4ab9d"
      },
      "execution_count": 157,
      "outputs": [
        {
          "output_type": "execute_result",
          "data": {
            "text/plain": [
              "array([164366.97467356, 118649.07347668, 145084.60981443, ...,\n",
              "       147494.94064004, 192804.90617787, 269537.44167083])"
            ]
          },
          "metadata": {},
          "execution_count": 157
        }
      ]
    },
    {
      "cell_type": "code",
      "source": [
        "submit['Price'] = predictions\n",
        "submit.head()"
      ],
      "metadata": {
        "colab": {
          "base_uri": "https://localhost:8080/",
          "height": 206
        },
        "id": "muOh28siMDqk",
        "outputId": "d92abe9a-9659-4691-8c11-9d3a7a1cf1fd"
      },
      "execution_count": 158,
      "outputs": [
        {
          "output_type": "execute_result",
          "data": {
            "text/plain": [
              "     Id          Price\n",
              "0  4567  164366.974674\n",
              "1  5925  118649.073477\n",
              "2   960  145084.609814\n",
              "3  3848  103267.270555\n",
              "4   746  212141.199294"
            ],
            "text/html": [
              "\n",
              "  <div id=\"df-526442b3-4ed3-45ce-a498-116c7a918150\">\n",
              "    <div class=\"colab-df-container\">\n",
              "      <div>\n",
              "<style scoped>\n",
              "    .dataframe tbody tr th:only-of-type {\n",
              "        vertical-align: middle;\n",
              "    }\n",
              "\n",
              "    .dataframe tbody tr th {\n",
              "        vertical-align: top;\n",
              "    }\n",
              "\n",
              "    .dataframe thead th {\n",
              "        text-align: right;\n",
              "    }\n",
              "</style>\n",
              "<table border=\"1\" class=\"dataframe\">\n",
              "  <thead>\n",
              "    <tr style=\"text-align: right;\">\n",
              "      <th></th>\n",
              "      <th>Id</th>\n",
              "      <th>Price</th>\n",
              "    </tr>\n",
              "  </thead>\n",
              "  <tbody>\n",
              "    <tr>\n",
              "      <th>0</th>\n",
              "      <td>4567</td>\n",
              "      <td>164366.974674</td>\n",
              "    </tr>\n",
              "    <tr>\n",
              "      <th>1</th>\n",
              "      <td>5925</td>\n",
              "      <td>118649.073477</td>\n",
              "    </tr>\n",
              "    <tr>\n",
              "      <th>2</th>\n",
              "      <td>960</td>\n",
              "      <td>145084.609814</td>\n",
              "    </tr>\n",
              "    <tr>\n",
              "      <th>3</th>\n",
              "      <td>3848</td>\n",
              "      <td>103267.270555</td>\n",
              "    </tr>\n",
              "    <tr>\n",
              "      <th>4</th>\n",
              "      <td>746</td>\n",
              "      <td>212141.199294</td>\n",
              "    </tr>\n",
              "  </tbody>\n",
              "</table>\n",
              "</div>\n",
              "      <button class=\"colab-df-convert\" onclick=\"convertToInteractive('df-526442b3-4ed3-45ce-a498-116c7a918150')\"\n",
              "              title=\"Convert this dataframe to an interactive table.\"\n",
              "              style=\"display:none;\">\n",
              "        \n",
              "  <svg xmlns=\"http://www.w3.org/2000/svg\" height=\"24px\"viewBox=\"0 0 24 24\"\n",
              "       width=\"24px\">\n",
              "    <path d=\"M0 0h24v24H0V0z\" fill=\"none\"/>\n",
              "    <path d=\"M18.56 5.44l.94 2.06.94-2.06 2.06-.94-2.06-.94-.94-2.06-.94 2.06-2.06.94zm-11 1L8.5 8.5l.94-2.06 2.06-.94-2.06-.94L8.5 2.5l-.94 2.06-2.06.94zm10 10l.94 2.06.94-2.06 2.06-.94-2.06-.94-.94-2.06-.94 2.06-2.06.94z\"/><path d=\"M17.41 7.96l-1.37-1.37c-.4-.4-.92-.59-1.43-.59-.52 0-1.04.2-1.43.59L10.3 9.45l-7.72 7.72c-.78.78-.78 2.05 0 2.83L4 21.41c.39.39.9.59 1.41.59.51 0 1.02-.2 1.41-.59l7.78-7.78 2.81-2.81c.8-.78.8-2.07 0-2.86zM5.41 20L4 18.59l7.72-7.72 1.47 1.35L5.41 20z\"/>\n",
              "  </svg>\n",
              "      </button>\n",
              "      \n",
              "  <style>\n",
              "    .colab-df-container {\n",
              "      display:flex;\n",
              "      flex-wrap:wrap;\n",
              "      gap: 12px;\n",
              "    }\n",
              "\n",
              "    .colab-df-convert {\n",
              "      background-color: #E8F0FE;\n",
              "      border: none;\n",
              "      border-radius: 50%;\n",
              "      cursor: pointer;\n",
              "      display: none;\n",
              "      fill: #1967D2;\n",
              "      height: 32px;\n",
              "      padding: 0 0 0 0;\n",
              "      width: 32px;\n",
              "    }\n",
              "\n",
              "    .colab-df-convert:hover {\n",
              "      background-color: #E2EBFA;\n",
              "      box-shadow: 0px 1px 2px rgba(60, 64, 67, 0.3), 0px 1px 3px 1px rgba(60, 64, 67, 0.15);\n",
              "      fill: #174EA6;\n",
              "    }\n",
              "\n",
              "    [theme=dark] .colab-df-convert {\n",
              "      background-color: #3B4455;\n",
              "      fill: #D2E3FC;\n",
              "    }\n",
              "\n",
              "    [theme=dark] .colab-df-convert:hover {\n",
              "      background-color: #434B5C;\n",
              "      box-shadow: 0px 1px 3px 1px rgba(0, 0, 0, 0.15);\n",
              "      filter: drop-shadow(0px 1px 2px rgba(0, 0, 0, 0.3));\n",
              "      fill: #FFFFFF;\n",
              "    }\n",
              "  </style>\n",
              "\n",
              "      <script>\n",
              "        const buttonEl =\n",
              "          document.querySelector('#df-526442b3-4ed3-45ce-a498-116c7a918150 button.colab-df-convert');\n",
              "        buttonEl.style.display =\n",
              "          google.colab.kernel.accessAllowed ? 'block' : 'none';\n",
              "\n",
              "        async function convertToInteractive(key) {\n",
              "          const element = document.querySelector('#df-526442b3-4ed3-45ce-a498-116c7a918150');\n",
              "          const dataTable =\n",
              "            await google.colab.kernel.invokeFunction('convertToInteractive',\n",
              "                                                     [key], {});\n",
              "          if (!dataTable) return;\n",
              "\n",
              "          const docLinkHtml = 'Like what you see? Visit the ' +\n",
              "            '<a target=\"_blank\" href=https://colab.research.google.com/notebooks/data_table.ipynb>data table notebook</a>'\n",
              "            + ' to learn more about interactive tables.';\n",
              "          element.innerHTML = '';\n",
              "          dataTable['output_type'] = 'display_data';\n",
              "          await google.colab.output.renderOutput(dataTable, element);\n",
              "          const docLink = document.createElement('div');\n",
              "          docLink.innerHTML = docLinkHtml;\n",
              "          element.appendChild(docLink);\n",
              "        }\n",
              "      </script>\n",
              "    </div>\n",
              "  </div>\n",
              "  "
            ]
          },
          "metadata": {},
          "execution_count": 158
        }
      ]
    },
    {
      "cell_type": "code",
      "source": [
        "submit.to_csv('/content/drive/MyDrive/ddekun_submit.csv', index=False)"
      ],
      "metadata": {
        "id": "UanLhjVtMHMG"
      },
      "execution_count": 159,
      "outputs": []
    }
  ]
}